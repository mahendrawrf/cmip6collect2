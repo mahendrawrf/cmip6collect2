{
 "cells": [
  {
   "cell_type": "code",
   "execution_count": 1,
   "metadata": {},
   "outputs": [],
   "source": [
    "import pandas as pd\n",
    "import gcsfs\n",
    "import xarray as xr\n",
    "from datetime import datetime\n",
    "import itertools\n",
    "\n",
    "import myconfig\n",
    "from mytasks import Check, Download, ReadFiles, SaveAsZarr, Upload, Cleanup\n",
    "from mysearch import esgf_search"
   ]
  },
  {
   "cell_type": "code",
   "execution_count": 2,
   "metadata": {},
   "outputs": [
    {
     "name": "stdout",
     "output_type": "stream",
     "text": [
      "zarrs will be written to:  /h112/naomi/zarr-minimal/\n"
     ]
    }
   ],
   "source": [
    "# CONFIGURE ESGF Search here\n",
    "node_pref = myconfig.node_pref\n",
    "dtype = myconfig.dtype\n",
    "myconfig.local_target_prefix = '/h112/naomi/zarr-minimal/'\n",
    "\n",
    "# reset the preference rank to omit a particular data node\n",
    "# node_pref['esgf-data1.llnl.gov'] = 999\n",
    "\n",
    "ESGF_site = dtype['llnl']\n",
    "#ESGF_site = dtype['dkrz']\n",
    "\n",
    "print('zarrs will be written to: ',myconfig.local_target_prefix)"
   ]
  },
  {
   "cell_type": "code",
   "execution_count": 3,
   "metadata": {},
   "outputs": [],
   "source": [
    "# CONFIGURE GCS\n",
    "fs     = gcsfs.GCSFileSystem(token='anon', access='read_only',cache_timeout=-1)\n",
    "df_GCS = pd.read_csv('https://cmip6.storage.googleapis.com/cmip6-zarr-consolidated-stores-noQC.csv', dtype='unicode')\n",
    "\n",
    "# make available to all modules\n",
    "myconfig.fs = fs\n",
    "myconfig.df_GCS = df_GCS"
   ]
  },
  {
   "cell_type": "code",
   "execution_count": 4,
   "metadata": {},
   "outputs": [],
   "source": [
    "core_experiments = [\n",
    "    '1pctCO2', 'abrupt-4xCO2',  'historical', 'piControl' \n",
    "    ,'ssp119', 'ssp126', 'ssp245', 'ssp370', 'ssp434', 'ssp460', 'ssp534-over', 'ssp585'\n",
    "                   ]\n",
    "more_experiments = [\n",
    "     'piControl-spinup', 'amip-hist', 'esm-hist', 'esm-piControl', 'esm-piControl-spinup'\n",
    "    ,'1pctCO2-bgc','lgm', 'past1000', 'amip'\n",
    "                   ]\n",
    "                   \n",
    "core_Amon_2dvars = ['evspsbl', 'hfls', 'pr', 'prc', 'ps', 'psl', 'sfcWind', 'tas', 'ts', 'uas', 'vas','huss','hurs']\n",
    "flux_Amon_2dvars = ['rlds', 'rlus', 'rsds', 'rsus', 'hfds', 'hfls', 'hfss','tauu','tauv']\n",
    "core_Omon_2dvars = ['tos', 'sos', 'zos']\n",
    "flux_Omon_2dvars = ['tauuo', 'tauuo']\n",
    "core_Amon_3dvars = ['ta', 'ua', 'va', 'zg', 'wap', 'hur', 'hus']\n",
    "core_Omon_3dvars = ['masscello', 'so', 'thetao', 'umo', 'uo', 'vmo', 'vo', 'wmo', 'wo']\n",
    "core_Omon_tracers = ['chl', 'chlos', 'dfe', 'dfeos', 'epc100', 'fgco2', 'intpp', 'no3', 'no3os', 'phyc', 'phycos', 'phydiat', 'phydiatos', 'si', 'sios', 'spco2', 'zooc', 'zoocos']"
   ]
  },
  {
   "cell_type": "code",
   "execution_count": 5,
   "metadata": {},
   "outputs": [],
   "source": [
    "# Pick keyword values to specify your search here. Not specifying a particular keyword means it will find all.\n",
    "all_search = {\n",
    "     'table_id'      : ['Omon']\n",
    "    ,'experiment_id' : ['historical']\n",
    "    ,'variable_id'   : [\"tos\"]\n",
    "    #,'member_id'     : ['r1i1p1f1']\n",
    "    ,'source_id'     : ['CESM2-FV2']\n",
    "    ,'grid_label'     : ['gn']\n",
    "}\n",
    "\n",
    "all_search"
   ]
  },
  {
   "cell_type": "code",
   "execution_count": 11,
   "metadata": {},
   "outputs": [
    {
     "name": "stdout",
     "output_type": "stream",
     "text": [
      "{'table_id': 'Omon', 'experiment_id': 'historical', 'variable_id': 'tos', 'source_id': 'CESM2-FV2', 'grid_label': 'gn'}\n"
     ]
    },
    {
     "data": {
      "text/plain": [
       "(12, 3)"
      ]
     },
     "execution_count": 11,
     "metadata": {},
     "output_type": "execute_result"
    }
   ],
   "source": [
    "files_type = 'OPENDAP' # HTTPServer, GridFTP, Globus\n",
    "\n",
    "update_ESGF = True\n",
    "if update_ESGF:\n",
    "    x = [value for key,value in all_search.items()]\n",
    "    searches = [p for p in itertools.product(*x)]\n",
    "\n",
    "    dESGF = []\n",
    "    for s in searches:\n",
    "        search = dict(zip(all_search.keys(),s))\n",
    "        print(search)\n",
    "        df = esgf_search(search, server=ESGF_site, files_type=files_type)  \n",
    "        if len(df)>0:\n",
    "            dESGF += [df]\n",
    "\n",
    "    df_ESGF = pd.concat(dESGF)\n",
    "    df_ESGF.to_csv(f'csv/ESGF_{label}.csv',index=False)\n",
    "else:\n",
    "    df_ESGF = pd.read_csv(f'csv/ESGF_{label}.csv', dtype='unicode')\n",
    "\n",
    "len(df_ESGF), len(df_ESGF.ds_dir.unique())"
   ]
  },
  {
   "cell_type": "code",
   "execution_count": 12,
   "metadata": {},
   "outputs": [
    {
     "name": "stdout",
     "output_type": "stream",
     "text": [
      "http://esgf-data1.llnl.gov/thredds/dodsC/css03_data/CMIP6/CMIP/NCAR/CESM2-FV2/historical/r1i1p1f1/Omon/tos/gn/v20191120/tos_Omon_CESM2-FV2_historical_r1i1p1f1_gn_185001-189912.nc\n",
      "<xarray.DataArray 'lat' ()>\n",
      "array(9.96920997e+36)\n",
      "http://esgf-data1.llnl.gov/thredds/dodsC/css03_data/CMIP6/CMIP/NCAR/CESM2-FV2/historical/r1i1p1f1/Omon/tos/gn/v20191120/tos_Omon_CESM2-FV2_historical_r1i1p1f1_gn_190001-194912.nc\n",
      "<xarray.DataArray 'lat' ()>\n",
      "array(9.96920997e+36)\n",
      "http://esgf-data1.llnl.gov/thredds/dodsC/css03_data/CMIP6/CMIP/NCAR/CESM2-FV2/historical/r1i1p1f1/Omon/tos/gn/v20191120/tos_Omon_CESM2-FV2_historical_r1i1p1f1_gn_195001-199912.nc\n",
      "<xarray.DataArray 'lat' ()>\n",
      "array(9.96920997e+36)\n",
      "http://esgf-data1.llnl.gov/thredds/dodsC/css03_data/CMIP6/CMIP/NCAR/CESM2-FV2/historical/r1i1p1f1/Omon/tos/gn/v20191120/tos_Omon_CESM2-FV2_historical_r1i1p1f1_gn_200001-201412.nc\n",
      "<xarray.DataArray 'lat' ()>\n",
      "array(9.96920997e+36)\n",
      "http://esgf-data1.llnl.gov/thredds/dodsC/css03_data/CMIP6/CMIP/NCAR/CESM2-FV2/historical/r3i1p1f1/Omon/tos/gn/v20200226/tos_Omon_CESM2-FV2_historical_r3i1p1f1_gn_185001-189912.nc\n",
      "<xarray.DataArray 'lat' ()>\n",
      "array(9.96920997e+36)\n",
      "http://esgf-data1.llnl.gov/thredds/dodsC/css03_data/CMIP6/CMIP/NCAR/CESM2-FV2/historical/r2i1p1f1/Omon/tos/gn/v20200226/tos_Omon_CESM2-FV2_historical_r2i1p1f1_gn_200001-201412.nc\n",
      "<xarray.DataArray 'lat' ()>\n",
      "array(9.96920997e+36)\n",
      "http://esgf-data1.llnl.gov/thredds/dodsC/css03_data/CMIP6/CMIP/NCAR/CESM2-FV2/historical/r3i1p1f1/Omon/tos/gn/v20200226/tos_Omon_CESM2-FV2_historical_r3i1p1f1_gn_190001-194912.nc\n",
      "<xarray.DataArray 'lat' ()>\n",
      "array(9.96920997e+36)\n",
      "http://esgf-data1.llnl.gov/thredds/dodsC/css03_data/CMIP6/CMIP/NCAR/CESM2-FV2/historical/r3i1p1f1/Omon/tos/gn/v20200226/tos_Omon_CESM2-FV2_historical_r3i1p1f1_gn_195001-199912.nc\n",
      "<xarray.DataArray 'lat' ()>\n",
      "array(9.96920997e+36)\n",
      "http://esgf-data1.llnl.gov/thredds/dodsC/css03_data/CMIP6/CMIP/NCAR/CESM2-FV2/historical/r2i1p1f1/Omon/tos/gn/v20200226/tos_Omon_CESM2-FV2_historical_r2i1p1f1_gn_195001-199912.nc\n",
      "<xarray.DataArray 'lat' ()>\n",
      "array(9.96920997e+36)\n",
      "http://esgf-data1.llnl.gov/thredds/dodsC/css03_data/CMIP6/CMIP/NCAR/CESM2-FV2/historical/r3i1p1f1/Omon/tos/gn/v20200226/tos_Omon_CESM2-FV2_historical_r3i1p1f1_gn_200001-201412.nc\n",
      "<xarray.DataArray 'lat' ()>\n",
      "array(9.96920997e+36)\n",
      "http://esgf-data1.llnl.gov/thredds/dodsC/css03_data/CMIP6/CMIP/NCAR/CESM2-FV2/historical/r2i1p1f1/Omon/tos/gn/v20200226/tos_Omon_CESM2-FV2_historical_r2i1p1f1_gn_185001-189912.nc\n",
      "<xarray.DataArray 'lat' ()>\n",
      "array(9.96920997e+36)\n",
      "http://esgf-data1.llnl.gov/thredds/dodsC/css03_data/CMIP6/CMIP/NCAR/CESM2-FV2/historical/r2i1p1f1/Omon/tos/gn/v20200226/tos_Omon_CESM2-FV2_historical_r2i1p1f1_gn_190001-194912.nc\n",
      "<xarray.DataArray 'lat' ()>\n",
      "array(9.96920997e+36)\n"
     ]
    }
   ],
   "source": [
    "urls = df_ESGF.url.unique()\n",
    "for url in urls:\n",
    "    print(url)\n",
    "    ds = xr.open_dataset(url)\n",
    "    print(ds.lat.max())"
   ]
  },
  {
   "cell_type": "code",
   "execution_count": null,
   "metadata": {},
   "outputs": [],
   "source": []
  }
 ],
 "metadata": {
  "kernelspec": {
   "display_name": "pangeo-fall2020",
   "language": "python",
   "name": "pangeo-fall2020"
  },
  "language_info": {
   "codemirror_mode": {
    "name": "ipython",
    "version": 3
   },
   "file_extension": ".py",
   "mimetype": "text/x-python",
   "name": "python",
   "nbconvert_exporter": "python",
   "pygments_lexer": "ipython3",
   "version": "3.7.8"
  }
 },
 "nbformat": 4,
 "nbformat_minor": 4
}
