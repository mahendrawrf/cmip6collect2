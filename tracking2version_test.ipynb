{
 "cells": [
  {
   "cell_type": "markdown",
   "metadata": {},
   "source": [
    "### Versions\n",
    "- Unfortunately, `version` is not stored in the metadata of each original netcdf file nor in the name of the netcdf file. It is not in the `Dataset` name. When downloading the netcdf files via Globus, for example, the original path information is lost.  \n",
    "- Data handles, aka persistent identifiers, called `tracking_id`s in the CMIP6 CV, are stored in the metadata of each netcdf file\n",
    "- The Cloud zarr stores, which are aggregations of netcdf files corresponding to a particular dataset, store the `tracking_id`s of the constituent files in metadata\n",
    "- The `tracking_id`s have been registered with the hdl.handle.net web service through links to the [DKRZ web service](https://handle-esgf.dkrz.de/) and a Proxy Server [REST API](https://www.handle.net/proxy_servlet.html) which will return `version` when given a `tracking_id`\n",
    "- This notebook both demonstrates the use of the REST API and documents various problems/issues with this process\n",
    "\n",
    "Our Cloud CMIP6 Catalogs records a `version` for each dataset.  This `version` has been obtained by a query to the Handle REST API using the constituent `tracking_id`s"
   ]
  },
  {
   "cell_type": "code",
   "execution_count": 1,
   "metadata": {},
   "outputs": [],
   "source": [
    "import pandas as pd\n",
    "import zarr\n",
    "import fsspec"
   ]
  },
  {
   "cell_type": "code",
   "execution_count": 2,
   "metadata": {},
   "outputs": [],
   "source": [
    "from myidentify import gsurl2tracks, tracks2version, tracks2source, jdict2source, id2jdict, tracks2cloudversion\n",
    "from myutilities import search_df\n",
    "from mysearch import esgf_search\n",
    "import myconfig"
   ]
  },
  {
   "cell_type": "code",
   "execution_count": 3,
   "metadata": {},
   "outputs": [],
   "source": [
    "dfcat = pd.read_csv('https://cmip6.storage.googleapis.com/cmip6-zarr-consolidated-stores-noQC.csv', dtype='unicode')"
   ]
  },
  {
   "cell_type": "code",
   "execution_count": 4,
   "metadata": {},
   "outputs": [],
   "source": [
    "def gsurl2search(gsurl):\n",
    "    values = gsurl[11:-1].split('/')\n",
    "    keys = myconfig.target_keys\n",
    "    return dict(zip(keys,values))"
   ]
  },
  {
   "cell_type": "raw",
   "metadata": {},
   "source": [
    "# check size of any dataset in GCS:\n",
    "import gcsfs\n",
    "fs = gcsfs.GCSFileSystem(token='anon')\n",
    "gsurl = 'gs://cmip6/CMIP/NCAR/CESM2/historical/r11i1p1f1/Oyr/expc/gr/'\n",
    "size_remote = fs.du(gsurl)\n",
    "print(size_remote/1e9)"
   ]
  },
  {
   "cell_type": "code",
   "execution_count": 6,
   "metadata": {},
   "outputs": [
    {
     "name": "stdout",
     "output_type": "stream",
     "text": [
      "current version from GC catalog =  20200720\n"
     ]
    },
    {
     "name": "stderr",
     "output_type": "stream",
     "text": [
      "/home/naomi/BigRewrite/myidentify.py:55: UserWarning: multiple dataset_ids correspond to the dataset tracking_ids!\n",
      "hdl:21.14100/666dd286-bb54-39c8-a57e-b697339b7bfa;hdl:21.14100/e401cf38-1abf-37dd-af92-07e7da0b43c4\n",
      "  warnings.warn(f'multiple dataset_ids correspond to the dataset tracking_ids!\\n{ds_tracking_id}')\n"
     ]
    },
    {
     "name": "stdout",
     "output_type": "stream",
     "text": [
      "current version from GC tracks =  ['20191015', '20200720']\n",
      "latest version from handler =  20200720\n",
      "version(s) available from ESGF =  ['v20200511', 'v20200720']\n"
     ]
    }
   ],
   "source": [
    "# standard example\n",
    "gsurl = 'gs://cmip6/CMIP/NCAR/CESM2/historical/r11i1p1f1/Oyr/expc/gr/'\n",
    "gsurl = 'gs://cmip6/CMIP/E3SM-Project/E3SM-1-0/historical/r1i1p1f1/Amon/tas/gr/'\n",
    "gsurl = 'gs://cmip6/CMIP/AWI/AWI-CM-1-1-MR/historical/r1i1p1f1/Amon/tas/gn/'\n",
    "version_cat = dfcat[dfcat.zstore == gsurl].version.values[0]\n",
    "print('current version from GC catalog = ',version_cat)\n",
    "\n",
    "tracks = gsurl2tracks(gsurl)\n",
    "(version,jdict) = tracks2version(tracks)\n",
    "print('latest version from handler = ', version)\n",
    "\n",
    "asearch = gsurl2search(gsurl)\n",
    "dfs = esgf_search(asearch, toFilter = False)\n",
    "version_ESGF = list(set(dfs.version_id))\n",
    "print('version(s) available from ESGF = ', version_ESGF)\n",
    "\n",
    "#source_urls =tracks2source(tracks) \n",
    "#source_urls"
   ]
  },
  {
   "cell_type": "code",
   "execution_count": 13,
   "metadata": {},
   "outputs": [
    {
     "data": {
      "text/plain": [
       "['hdl:21.14100/d5aae306-16fe-4a2f-9706-8c41b4d20584',\n",
       " 'hdl:21.14100/43133a86-783d-4d67-a73f-c512d2e27582',\n",
       " 'hdl:21.14100/4fd3a7ec-d1ab-421b-963e-bcf82fcd8cdb']"
      ]
     },
     "execution_count": 13,
     "metadata": {},
     "output_type": "execute_result"
    }
   ],
   "source": [
    "#gsurl = 'gs://cmip6/CMIP/CSIRO/ACCESS-ESM1-5/historical/r1i1p1f1/3hr/uas/gn/'  # just created, but scripts say there is a newer version!!!!\n",
    "\n",
    "gsurl = 'gs://cmip6/ScenarioMIP/HAMMOZ-Consortium/MPI-ESM-1-2-HAM/ssp370/r1i1p1f1/3hr/uas/gn/' # duplicate dataset_ids and versions \n",
    "                                                                # since two files are in both datasets and one file is only in the most recent\n",
    "tracks = gsurl2tracks(gsurl)\n",
    "tracking_ids = tracks.split('\\n')\n",
    "tracking_ids"
   ]
  },
  {
   "cell_type": "code",
   "execution_count": 5,
   "metadata": {},
   "outputs": [
    {
     "name": "stderr",
     "output_type": "stream",
     "text": [
      "/home/naomi/BigRewrite/myidentify.py:26: UserWarning: \n",
      "\n",
      "netcdf file tracking_ids are NOT UNIQUE!\n",
      "['hdl:21.14100/33cbdc29-fbc9-44ab-9e09-5dc7824441cf', 'hdl:21.14100/33cbdc29-fbc9-44ab-9e09-5dc7824441cf']\n",
      "\n",
      "  warnings.warn(\"\\n\" + msg)\n"
     ]
    },
    {
     "name": "stdout",
     "output_type": "stream",
     "text": [
      "cloud version from tracks =  20200528\n",
      "version =  20200528\n"
     ]
    },
    {
     "data": {
      "text/plain": [
       "['http://esgf-data.ucar.edu/thredds/fileServer/esg_dataroot/CMIP6/ScenarioMIP/NCAR/CESM2/ssp370/r4i1p1f1/Amon/ts/gn/v20200528/ts_Amon_CESM2_ssp370_r4i1p1f1_gn_206501-210012.nc']"
      ]
     },
     "execution_count": 5,
     "metadata": {},
     "output_type": "execute_result"
    }
   ],
   "source": [
    "# Now, what if we try this for another? This example has two features. The tracking_ids of the netcdf files are not unique and this is a replacement version.\n",
    "gsurl = 'gs://cmip6/ScenarioMIP/NCAR/CESM2/ssp370/r4i1p1f1/Amon/ts/gn/'\n",
    "tracks = gsurl2tracks(gsurl)\n",
    "(version,jdict) = tracks2version(tracks)\n",
    "print('version = ', version)\n",
    "\n",
    "# But since the tracking_ids were not unique, we won't get all of the urls!!\n",
    "source_urls = tracks2source(tracks) \n",
    "source_urls"
   ]
  },
  {
   "cell_type": "code",
   "execution_count": 14,
   "metadata": {},
   "outputs": [
    {
     "name": "stdout",
     "output_type": "stream",
     "text": [
      "current version from GC catalog =  20190926\n",
      "current version from GC tracks =  20190926\n"
     ]
    },
    {
     "name": "stderr",
     "output_type": "stream",
     "text": [
      "/home/naomi/BigRewrite/myidentify.py:61: UserWarning: \n",
      "\n",
      "*** Newer version exists, see: http://hdl.handle.net/hdl:21.14100/480d0915-c4de-3b4a-89da-dbce9ace46ce\n",
      "\n",
      "  warnings.warn(f'\\n\\n*** Newer version exists, see: http://hdl.handle.net/{ds_id}\\n')\n",
      "/home/naomi/BigRewrite/myidentify.py:61: UserWarning: \n",
      "\n",
      "*** Newer version exists, see: http://hdl.handle.net/hdl:21.14100/b7fc3bc4-2489-3627-b8ce-bf665b908fb6\n",
      "\n",
      "  warnings.warn(f'\\n\\n*** Newer version exists, see: http://hdl.handle.net/{ds_id}\\n')\n"
     ]
    },
    {
     "name": "stdout",
     "output_type": "stream",
     "text": [
      "latest version from handler =  20200310\n",
      "version(s) available from ESGF =  ['v20200310', 'v20190926']\n"
     ]
    }
   ],
   "source": [
    "# This example is a Dataset where there are three versions (and an ES-DOC ERRATA link from second version)\n",
    "gsurl = 'gs://cmip6/CMIP/EC-Earth-Consortium/EC-Earth3/historical/r1i1p1f1/Amon/tasmin/gr/'\n",
    "\n",
    "version_cat = dfcat[dfcat.zstore == gsurl].version.values[0]\n",
    "print('current version from GC catalog = ',version_cat)\n",
    "\n",
    "tracks = gsurl2tracks(gsurl)\n",
    "(version,jdict) = tracks2version(tracks)\n",
    "print('latest version from handler = ', version)\n",
    "\n",
    "asearch = gsurl2search(gsurl)\n",
    "dfs = esgf_search(asearch, toFilter = False)\n",
    "version_ESGF = list(set(dfs.version_id))\n",
    "print('version(s) available from ESGF = ', version_ESGF)\n",
    "\n",
    "#source_urls =tracks2source(tracks) \n",
    "#source_urls"
   ]
  },
  {
   "cell_type": "code",
   "execution_count": null,
   "metadata": {},
   "outputs": [],
   "source": [
    "gsurl = 'gs://cmip6/CMIP/THU/CIESM/historical/r1i1p1f1/Amon/tasmin/gr/'"
   ]
  },
  {
   "cell_type": "code",
   "execution_count": 6,
   "metadata": {},
   "outputs": [
    {
     "name": "stderr",
     "output_type": "stream",
     "text": [
      "/usr/local/python/anaconda3/envs/pangeo-Oct2019/lib/python3.7/site-packages/IPython/core/interactiveshell.py:3146: DtypeWarning: Columns (10) have mixed types.Specify dtype option on import or set low_memory=False.\n",
      "  interactivity=interactivity, compiler=compiler, result=result)\n"
     ]
    },
    {
     "data": {
      "text/plain": [
       "1552"
      ]
     },
     "execution_count": 6,
     "metadata": {},
     "output_type": "execute_result"
    }
   ],
   "source": [
    "dfcat = pd.read_csv('https://cmip6.storage.googleapis.com/cmip6-zarr-consolidated-stores-noQC.csv')\n",
    "\n",
    "df = search_df(dfcat,table_id='Amon',experiment_id='historical',variable_id='tas')\n",
    "df['member'] = [int(s.split('r')[-1].split('i')[0]) for s in df['member_id']]\n",
    "df = df.sort_values(by=['member'])\n",
    "df = df.reset_index(drop=True)\n",
    "\n",
    "len(df)"
   ]
  },
  {
   "cell_type": "code",
   "execution_count": 8,
   "metadata": {},
   "outputs": [
    {
     "name": "stdout",
     "output_type": "stream",
     "text": [
      "gs://cmip6/CMIP/AS-RCEC/TaiESM1/historical/r1i1p1f1/Amon/tas/gn/\n",
      "\t 20200623 ['20200623']\n",
      "gs://cmip6/CMIP/UA/MCM-UA-1-0/historical/r1i1p1f1/Amon/tas/gn/\n",
      "\t 20190731 ['20190731']\n",
      "gs://cmip6/CMIP/INM/INM-CM5-0/historical/r1i1p1f1/Amon/tasmin/gr1/\n",
      "\t 20190610 ['20190610']\n",
      "gs://cmip6/CMIP/INM/INM-CM5-0/historical/r1i1p1f1/Amon/tasmax/gr1/\n",
      "\t 20190610 ['20190610']\n",
      "gs://cmip6/CMIP/INM/INM-CM5-0/historical/r1i1p1f1/Amon/tas/gr1/\n",
      "\t 20190610 ['20190610']\n",
      "gs://cmip6/CMIP/INM/INM-CM4-8/historical/r1i1p1f1/Amon/tasmin/gr1/\n",
      "\t 20190530 ['20190530']\n",
      "gs://cmip6/CMIP/INM/INM-CM4-8/historical/r1i1p1f1/Amon/tasmax/gr1/\n",
      "\t 20190530 ['20190530']\n",
      "gs://cmip6/CMIP/IPSL/IPSL-CM6A-LR/historical/r1i1p1f1/Amon/tas/gr/\n",
      "\t 20180803 ['20180803']\n",
      "gs://cmip6/CMIP/INM/INM-CM4-8/historical/r1i1p1f1/Amon/tas/gr1/\n",
      "\t 20190530 ['20190530']\n",
      "gs://cmip6/CMIP/HAMMOZ-Consortium/MPI-ESM-1-2-HAM/historical/r1i1p1f1/Amon/tasmax/gn/\n",
      "\t 20190627 ['20190627']\n",
      "gs://cmip6/CMIP/HAMMOZ-Consortium/MPI-ESM-1-2-HAM/historical/r1i1p1f1/Amon/tas/gn/\n",
      "\t 20190627 ['20190627']\n",
      "gs://cmip6/CMIP/FIO-QLNM/FIO-ESM-2-0/historical/r1i1p1f1/Amon/tasmin/gn/\n",
      "\t 20200921 ['20200921']\n",
      "gs://cmip6/CMIP/FIO-QLNM/FIO-ESM-2-0/historical/r1i1p1f1/Amon/tasmax/gn/\n",
      "\t 20200921 ['20200921']\n",
      "gs://cmip6/CMIP/FIO-QLNM/FIO-ESM-2-0/historical/r1i1p1f1/Amon/tas/gn/\n",
      "\t 20191115 ['20191115']\n",
      "gs://cmip6/CMIP/EC-Earth-Consortium/EC-Earth3/historical/r1i1p1f1/Amon/tasmin/gr/\n",
      "\t 20190926 ['20200310']\n"
     ]
    }
   ],
   "source": [
    "for index, row in df.iterrows():\n",
    "    if index > 14:\n",
    "        continue\n",
    "    gsurl = row['zstore']\n",
    "    version = row['version']\n",
    "    print(gsurl)\n",
    "    \n",
    "    tracks = gsurl2tracks(gsurl)\n",
    "    (version_new,jdict) = tracks2cloudversion(tracks)\n",
    "    print('\\t',version, version_new)"
   ]
  },
  {
   "cell_type": "code",
   "execution_count": 5,
   "metadata": {},
   "outputs": [
    {
     "name": "stderr",
     "output_type": "stream",
     "text": [
      "WARNING:google.auth.compute_engine._metadata:Compute Engine Metadata server unavailable onattempt 1 of 3. Reason: timed out\n",
      "WARNING:google.auth.compute_engine._metadata:Compute Engine Metadata server unavailable onattempt 2 of 3. Reason: timed out\n",
      "WARNING:google.auth.compute_engine._metadata:Compute Engine Metadata server unavailable onattempt 3 of 3. Reason: timed out\n",
      "WARNING:google.auth._default:Authentication failed using Compute Engine authentication due to unavailable metadata server.\n",
      "/home/naomi/BigRewrite/myidentify.py:61: UserWarning: multiple dataset_ids correspond to the dataset tracking_ids!\n",
      "hdl:21.14100/e3c5b869-c4d2-3d40-9585-5dd1ba09a9f8;hdl:21.14100/0aecf69a-2b74-32f4-96ff-879669b90960\n",
      "  warnings.warn(f'multiple dataset_ids correspond to the dataset tracking_ids!\\n{ds_tracking_id}')\n",
      "/home/naomi/BigRewrite/myidentify.py:69: UserWarning: error resolving tracking_id hdl:21.14100/0aecf69a-2b74-32f4-96ff-879669b90960\n",
      "  warnings.warn(f'error resolving tracking_id {dsid}')\n"
     ]
    },
    {
     "name": "stdout",
     "output_type": "stream",
     "text": [
      "current version from GC tracks =  ['20200315']\n",
      "latest version from handler =  20200315\n",
      "version(s) available from ESGF =  ['v20200315']\n"
     ]
    }
   ],
   "source": [
    "# Here is a really bad one:\n",
    "\n",
    "gsurl = 'gs://cmip6/CMIP/EC-Earth-Consortium/EC-Earth3/historical/r12i1p1f1/day/hurs/gr/'\n",
    "\n",
    "# https://handle-esgf.dkrz.de/lp/21.14100/388fda69-61ed-44f0-af3d-73d20dab3502   'handle is not accessible'\n",
    "#version_cat = dfcat[dfcat.zstore == gsurl].version.values[0]\n",
    "#print('current version from GC catalog = ',version_cat)\n",
    "\n",
    "tracks = gsurl2tracks(gsurl)\n",
    "#print(tracks)\n",
    "(version,jdict) = tracks2version(tracks)\n",
    "print('latest version from handler = ', version)\n",
    "\n",
    "asearch = gsurl2search(gsurl)\n",
    "dfs = esgf_search(asearch, toFilter = False)\n",
    "version_ESGF = list(set(dfs.version_id))\n",
    "print('version(s) available from ESGF = ', version_ESGF)\n",
    "\n",
    "#source_urls =tracks2source(tracks) \n",
    "#source_urls'"
   ]
  },
  {
   "cell_type": "code",
   "execution_count": 13,
   "metadata": {},
   "outputs": [
    {
     "data": {
      "text/plain": [
       "{'URL': 'https://handle-esgf.dkrz.de/lp/21.14100/b8eec705-a216-4868-911e-f4b7d188e11f',\n",
       " 'AGGREGATION_LEVEL': 'FILE',\n",
       " 'FIXED_CONTENT': 'TRUE',\n",
       " 'FILE_NAME': 'hurs_day_EC-Earth3_historical_r12i1p1f1_gr_20140101-20141231.nc',\n",
       " 'FILE_SIZE': '161893254',\n",
       " 'IS_PART_OF': 'hdl:21.14100/e3c5b869-c4d2-3d40-9585-5dd1ba09a9f8;hdl:21.14100/0aecf69a-2b74-32f4-96ff-879669b90960',\n",
       " 'FILE_VERSION': '1',\n",
       " 'CHECKSUM': '391dc8728d86929978d86e809af71fafeb704ebb87ad4c15a5634b0e10178a34',\n",
       " 'CHECKSUM_METHOD': 'SHA256',\n",
       " 'URL_ORIGINAL_DATA': '<locations><location href=\"http://esgf.bsc.es/thredds/fileServer/esg_dataroot/a1tk-CMIP-r12/CMIP6/CMIP/EC-Earth-Consortium/EC-Earth3/historical/r12i1p1f1/day/hurs/gr/v20201230/hurs_day_EC-Earth3_historical_r12i1p1f1_gr_20140101-20141231.nc\" publishedOn=\"2020-12-30T18:11:22.384+00:00\" host=\"esgf.bsc.es\" dataset=\"hdl:21.14100/0aecf69a-2b74-32f4-96ff-879669b90960\" /></locations>',\n",
       " 'URL_REPLICA': '<locations><location href=\"http://esgf-data1.llnl.gov/thredds/fileServer/https://esgf-data1.llnl.gov/thredds/fileServer/css03_data/CMIP6/CMIP/EC-Earth-Consortium/EC-Earth3/historical/r12i1p1f1/day/hurs/gr/v20200315/hurs_day_EC-Earth3_historical_r12i1p1f1_gr_20140101-20141231.nc\" publishedOn=\"2020-10-19T00:20:29.302+00:00\" host=\"esgf-data1.llnl.gov\" dataset=\"hdl:21.14100/e3c5b869-c4d2-3d40-9585-5dd1ba09a9f8\" /></locations>',\n",
       " 'PROBLEM': '500_R_N (2020-10-19T00:20:29.302+00:00)',\n",
       " '_REMOVED_HOSTS': 'esgf.bsc.es###2020-12-14T14:08:36.813+00:00',\n",
       " 'HS_ADMIN': {'handle': '21.14100/ADMINLIST',\n",
       "  'index': 200,\n",
       "  'permissions': '111111111111'}}"
      ]
     },
     "execution_count": 13,
     "metadata": {},
     "output_type": "execute_result"
    }
   ],
   "source": [
    " id2jdict('hdl:21.14100/b8eec705-a216-4868-911e-f4b7d188e11f')"
   ]
  },
  {
   "cell_type": "code",
   "execution_count": 9,
   "metadata": {},
   "outputs": [
    {
     "data": {
      "text/plain": [
       "['hdl:21.14100/b8eec705-a216-4868-911e-f4b7d188e11f']"
      ]
     },
     "execution_count": 9,
     "metadata": {},
     "output_type": "execute_result"
    }
   ],
   "source": [
    "tracks.split('\\n')[-1:]"
   ]
  },
  {
   "cell_type": "raw",
   "metadata": {},
   "source": [
    "for index, row in df.iterrows():\n",
    "    if index < 14:\n",
    "        continue\n",
    "    gsurl = row['zstore']\n",
    "    version = row['version']\n",
    "    print(index, gsurl, version)\n",
    "    \n",
    "    tracks = gsurl2tracks(gsurl)\n",
    "    (version_new,jdict) = tracks2version(tracks)\n",
    "    print(version_new)\n",
    "    \n",
    "    surls = jdict2source(jdict)\n",
    "    print(surls)"
   ]
  },
  {
   "cell_type": "code",
   "execution_count": null,
   "metadata": {},
   "outputs": [],
   "source": []
  },
  {
   "cell_type": "code",
   "execution_count": null,
   "metadata": {},
   "outputs": [],
   "source": []
  }
 ],
 "metadata": {
  "kernelspec": {
   "display_name": "pangeo-Oct2019",
   "language": "python",
   "name": "pangeo-oct2019"
  },
  "language_info": {
   "codemirror_mode": {
    "name": "ipython",
    "version": 3
   },
   "file_extension": ".py",
   "mimetype": "text/x-python",
   "name": "python",
   "nbconvert_exporter": "python",
   "pygments_lexer": "ipython3",
   "version": "3.7.3"
  }
 },
 "nbformat": 4,
 "nbformat_minor": 4
}
