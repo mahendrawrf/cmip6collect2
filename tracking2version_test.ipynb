{
 "cells": [
  {
   "cell_type": "code",
   "execution_count": null,
   "metadata": {},
   "outputs": [],
   "source": [
    "import pandas as pd\n",
    "from myidentify import gsurl2tracks, tracks2version, tracks2source, dsid2source, id2jdict, jdict_ds2source\n",
    "from myutilities import search_df"
   ]
  },
  {
   "cell_type": "code",
   "execution_count": null,
   "metadata": {},
   "outputs": [],
   "source": [
    "gsurl = 'gs://cmip6/CMIP/NCAR/CESM2/historical/r11i1p1f1/Oyr/expc/gr'\n",
    "\n",
    "tracks = gsurl2tracks(gsurl)\n",
    "(version,jdict) = tracks2version(tracks)\n",
    "source_urls =tracks2source(tracks) \n",
    "print(version)\n",
    "source_urls"
   ]
  },
  {
   "cell_type": "code",
   "execution_count": null,
   "metadata": {},
   "outputs": [],
   "source": [
    "# Now, what if we try this for another? This example has two features. The tracking_ids of the netcdf files are not unique and this is a replacement version.\n",
    "gsurl = 'gs://cmip6/ScenarioMIP/NCAR/CESM2/ssp370/r4i1p1f1/Amon/ts/gn'\n",
    "tracks = gsurl2tracks(gsurl)\n",
    "(version,jdict) = tracks2version(tracks)\n",
    "print(version)\n",
    "\n",
    "# But since the tracking_ids were not unique, we won't get all of the urls!!\n",
    "source_urls = tracks2source(tracks) \n",
    "print(source_urls)"
   ]
  },
  {
   "cell_type": "code",
   "execution_count": null,
   "metadata": {},
   "outputs": [],
   "source": [
    "dfcat = pd.read_csv('https://cmip6.storage.googleapis.com/cmip6-zarr-consolidated-stores-noQC.csv')\n",
    "\n",
    "df = search_df(dfcat,table_id='Amon',experiment_id='historical',variable_id='tas')\n",
    "df['member'] = [int(s.split('r')[-1].split('i')[0]) for s in df['member_id']]\n",
    "df = df.sort_values(by=['member'])\n",
    "df = df.reset_index(drop=True)\n",
    "\n",
    "len(df)"
   ]
  },
  {
   "cell_type": "code",
   "execution_count": null,
   "metadata": {},
   "outputs": [],
   "source": [
    "for index, row in df.iterrows():\n",
    "    if index > 13:\n",
    "        continue\n",
    "    gsurl = row['zstore']\n",
    "    version = row['version']\n",
    "    print(index, gsurl, version)\n",
    "    \n",
    "    tracks = gsurl2tracks(gsurl)\n",
    "    (version_new,jdict) = tracks2version(tracks)\n",
    "    print(version_new)\n",
    "    \n",
    "    surls = jdict_ds2source(jdict)\n",
    "    print(surls)"
   ]
  },
  {
   "cell_type": "code",
   "execution_count": null,
   "metadata": {},
   "outputs": [],
   "source": []
  }
 ],
 "metadata": {
  "kernelspec": {
   "display_name": "pangeo-Oct2019",
   "language": "python",
   "name": "pangeo-oct2019"
  },
  "language_info": {
   "codemirror_mode": {
    "name": "ipython",
    "version": 3
   },
   "file_extension": ".py",
   "mimetype": "text/x-python",
   "name": "python",
   "nbconvert_exporter": "python",
   "pygments_lexer": "ipython3",
   "version": "3.7.3"
  }
 },
 "nbformat": 4,
 "nbformat_minor": 4
}
