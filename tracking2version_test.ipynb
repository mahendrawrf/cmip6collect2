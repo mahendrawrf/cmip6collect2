{
 "cells": [
  {
   "cell_type": "markdown",
   "metadata": {},
   "source": [
    "### Versions\n",
    "- Unfortunately, `version` is not stored in the metadata of each original netcdf file nor in the name of the netcdf file. It is not in the `Dataset` name. When downloading the netcdf files via Globus, for example, the original path information is lost.  \n",
    "- Data handles, aka persistent identifiers, called `tracking_id`s in the CMIP6 CV, are stored in the metadata of each netcdf file\n",
    "- The Cloud zarr stores, which are aggregations of netcdf files corresponding to a particular dataset, store the `tracking_id`s of the constituent files in metadata\n",
    "- The `tracking_id`s have been registered with the hdl.handle.net web service through links to the [DKRZ web service](https://handle-esgf.dkrz.de/) and a Proxy Server [REST API](https://www.handle.net/proxy_servlet.html) which will return `version` when given a `tracking_id`\n",
    "- This notebook both demonstrates the use of the REST API and documents various problems/issues with this process\n",
    "\n",
    "Our Cloud CMIP6 Catalogs records a `version` for each dataset.  This `version` has been obtained by a query to the Handle REST API using the constituent `tracking_id`s"
   ]
  },
  {
   "cell_type": "code",
   "execution_count": 1,
   "metadata": {},
   "outputs": [],
   "source": [
    "import pandas as pd\n",
    "import zarr\n",
    "import fsspec"
   ]
  },
  {
   "cell_type": "code",
   "execution_count": 2,
   "metadata": {},
   "outputs": [],
   "source": [
    "from myidentify import gsurl2tracks, tracks2version, tracks2source, jdict2source, id2jdict, tracks2cloudversion\n",
    "from myutilities import search_df\n",
    "from mysearch import esgf_search\n",
    "import myconfig"
   ]
  },
  {
   "cell_type": "code",
   "execution_count": 3,
   "metadata": {},
   "outputs": [],
   "source": [
    "dfcat = pd.read_csv('https://cmip6.storage.googleapis.com/cmip6-zarr-consolidated-stores-noQC.csv', dtype='unicode')"
   ]
  },
  {
   "cell_type": "code",
   "execution_count": 4,
   "metadata": {},
   "outputs": [],
   "source": [
    "def gsurl2search(gsurl):\n",
    "    values = gsurl[11:-1].split('/')\n",
    "    keys = myconfig.target_keys\n",
    "    return dict(zip(keys,values))"
   ]
  },
  {
   "cell_type": "raw",
   "metadata": {},
   "source": [
    "# check size of any dataset in GCS:\n",
    "import gcsfs\n",
    "fs = gcsfs.GCSFileSystem(token='anon')\n",
    "gsurl = 'gs://cmip6/CMIP/NCAR/CESM2/historical/r11i1p1f1/Oyr/expc/gr/'\n",
    "size_remote = fs.du(gsurl)\n",
    "print(size_remote/1e9)"
   ]
  },
  {
   "cell_type": "code",
   "execution_count": 6,
   "metadata": {},
   "outputs": [
    {
     "name": "stdout",
     "output_type": "stream",
     "text": [
      "current version from GC catalog =  20200720\n"
     ]
    },
    {
     "name": "stderr",
     "output_type": "stream",
     "text": [
      "/home/naomi/BigRewrite/myidentify.py:55: UserWarning: multiple dataset_ids correspond to the dataset tracking_ids!\n",
      "hdl:21.14100/666dd286-bb54-39c8-a57e-b697339b7bfa;hdl:21.14100/e401cf38-1abf-37dd-af92-07e7da0b43c4\n",
      "  warnings.warn(f'multiple dataset_ids correspond to the dataset tracking_ids!\\n{ds_tracking_id}')\n"
     ]
    },
    {
     "name": "stdout",
     "output_type": "stream",
     "text": [
      "current version from GC tracks =  ['20191015', '20200720']\n",
      "latest version from handler =  20200720\n",
      "version(s) available from ESGF =  ['v20200511', 'v20200720']\n"
     ]
    }
   ],
   "source": [
    "# standard example\n",
    "gsurl = 'gs://cmip6/CMIP/NCAR/CESM2/historical/r11i1p1f1/Oyr/expc/gr/'\n",
    "gsurl = 'gs://cmip6/CMIP/E3SM-Project/E3SM-1-0/historical/r1i1p1f1/Amon/tas/gr/'\n",
    "gsurl = 'gs://cmip6/CMIP/AWI/AWI-CM-1-1-MR/historical/r1i1p1f1/Amon/tas/gn/'\n",
    "version_cat = dfcat[dfcat.zstore == gsurl].version.values[0]\n",
    "print('current version from GC catalog = ',version_cat)\n",
    "\n",
    "tracks = gsurl2tracks(gsurl)\n",
    "(version,jdict) = tracks2version(tracks)\n",
    "print('latest version from handler = ', version)\n",
    "\n",
    "asearch = gsurl2search(gsurl)\n",
    "dfs = esgf_search(asearch, toFilter = False)\n",
    "version_ESGF = list(set(dfs.version_id))\n",
    "print('version(s) available from ESGF = ', version_ESGF)\n",
    "\n",
    "#source_urls =tracks2source(tracks) \n",
    "#source_urls"
   ]
  },
  {
   "cell_type": "code",
   "execution_count": 13,
   "metadata": {},
   "outputs": [
    {
     "data": {
      "text/plain": [
       "['hdl:21.14100/d5aae306-16fe-4a2f-9706-8c41b4d20584',\n",
       " 'hdl:21.14100/43133a86-783d-4d67-a73f-c512d2e27582',\n",
       " 'hdl:21.14100/4fd3a7ec-d1ab-421b-963e-bcf82fcd8cdb']"
      ]
     },
     "execution_count": 13,
     "metadata": {},
     "output_type": "execute_result"
    }
   ],
   "source": [
    "#gsurl = 'gs://cmip6/CMIP/CSIRO/ACCESS-ESM1-5/historical/r1i1p1f1/3hr/uas/gn/'  # just created, but scripts say there is a newer version!!!!\n",
    "\n",
    "gsurl = 'gs://cmip6/ScenarioMIP/HAMMOZ-Consortium/MPI-ESM-1-2-HAM/ssp370/r1i1p1f1/3hr/uas/gn/' # duplicate dataset_ids and versions \n",
    "                                                                # since two files are in both datasets and one file is only in the most recent\n",
    "tracks = gsurl2tracks(gsurl)\n",
    "tracking_ids = tracks.split('\\n')\n",
    "tracking_ids"
   ]
  },
  {
   "cell_type": "code",
   "execution_count": 5,
   "metadata": {},
   "outputs": [
    {
     "name": "stderr",
     "output_type": "stream",
     "text": [
      "/home/naomi/BigRewrite/myidentify.py:26: UserWarning: \n",
      "\n",
      "netcdf file tracking_ids are NOT UNIQUE!\n",
      "['hdl:21.14100/33cbdc29-fbc9-44ab-9e09-5dc7824441cf', 'hdl:21.14100/33cbdc29-fbc9-44ab-9e09-5dc7824441cf']\n",
      "\n",
      "  warnings.warn(\"\\n\" + msg)\n"
     ]
    },
    {
     "name": "stdout",
     "output_type": "stream",
     "text": [
      "cloud version from tracks =  20200528\n",
      "version =  20200528\n"
     ]
    },
    {
     "data": {
      "text/plain": [
       "['http://esgf-data.ucar.edu/thredds/fileServer/esg_dataroot/CMIP6/ScenarioMIP/NCAR/CESM2/ssp370/r4i1p1f1/Amon/ts/gn/v20200528/ts_Amon_CESM2_ssp370_r4i1p1f1_gn_206501-210012.nc']"
      ]
     },
     "execution_count": 5,
     "metadata": {},
     "output_type": "execute_result"
    }
   ],
   "source": [
    "# Now, what if we try this for another? This example has two features. The tracking_ids of the netcdf files are not unique and this is a replacement version.\n",
    "gsurl = 'gs://cmip6/ScenarioMIP/NCAR/CESM2/ssp370/r4i1p1f1/Amon/ts/gn/'\n",
    "tracks = gsurl2tracks(gsurl)\n",
    "(version,jdict) = tracks2version(tracks)\n",
    "print('version = ', version)\n",
    "\n",
    "# But since the tracking_ids were not unique, we won't get all of the urls!!\n",
    "source_urls = tracks2source(tracks) \n",
    "source_urls"
   ]
  },
  {
   "cell_type": "code",
   "execution_count": 14,
   "metadata": {},
   "outputs": [
    {
     "name": "stdout",
     "output_type": "stream",
     "text": [
      "current version from GC catalog =  20190926\n",
      "current version from GC tracks =  20190926\n"
     ]
    },
    {
     "name": "stderr",
     "output_type": "stream",
     "text": [
      "/home/naomi/BigRewrite/myidentify.py:61: UserWarning: \n",
      "\n",
      "*** Newer version exists, see: http://hdl.handle.net/hdl:21.14100/480d0915-c4de-3b4a-89da-dbce9ace46ce\n",
      "\n",
      "  warnings.warn(f'\\n\\n*** Newer version exists, see: http://hdl.handle.net/{ds_id}\\n')\n",
      "/home/naomi/BigRewrite/myidentify.py:61: UserWarning: \n",
      "\n",
      "*** Newer version exists, see: http://hdl.handle.net/hdl:21.14100/b7fc3bc4-2489-3627-b8ce-bf665b908fb6\n",
      "\n",
      "  warnings.warn(f'\\n\\n*** Newer version exists, see: http://hdl.handle.net/{ds_id}\\n')\n"
     ]
    },
    {
     "name": "stdout",
     "output_type": "stream",
     "text": [
      "latest version from handler =  20200310\n",
      "version(s) available from ESGF =  ['v20200310', 'v20190926']\n"
     ]
    }
   ],
   "source": [
    "# This example is a Dataset where there are three versions (and an ES-DOC ERRATA link from second version)\n",
    "gsurl = 'gs://cmip6/CMIP/EC-Earth-Consortium/EC-Earth3/historical/r1i1p1f1/Amon/tasmin/gr/'\n",
    "\n",
    "version_cat = dfcat[dfcat.zstore == gsurl].version.values[0]\n",
    "print('current version from GC catalog = ',version_cat)\n",
    "\n",
    "tracks = gsurl2tracks(gsurl)\n",
    "(version,jdict) = tracks2version(tracks)\n",
    "print('latest version from handler = ', version)\n",
    "\n",
    "asearch = gsurl2search(gsurl)\n",
    "dfs = esgf_search(asearch, toFilter = False)\n",
    "version_ESGF = list(set(dfs.version_id))\n",
    "print('version(s) available from ESGF = ', version_ESGF)\n",
    "\n",
    "#source_urls =tracks2source(tracks) \n",
    "#source_urls"
   ]
  },
  {
   "cell_type": "code",
   "execution_count": null,
   "metadata": {},
   "outputs": [],
   "source": [
    "gsurl = 'gs://cmip6/CMIP/THU/CIESM/historical/r1i1p1f1/Amon/tasmin/gr/'"
   ]
  },
  {
   "cell_type": "code",
   "execution_count": 8,
   "metadata": {},
   "outputs": [
    {
     "name": "stderr",
     "output_type": "stream",
     "text": [
      "/usr/local/python/anaconda3/envs/pangeo-Oct2019/lib/python3.7/site-packages/IPython/core/interactiveshell.py:3146: DtypeWarning: Columns (10) have mixed types.Specify dtype option on import or set low_memory=False.\n",
      "  interactivity=interactivity, compiler=compiler, result=result)\n"
     ]
    },
    {
     "data": {
      "text/plain": [
       "1539"
      ]
     },
     "execution_count": 8,
     "metadata": {},
     "output_type": "execute_result"
    }
   ],
   "source": [
    "dfcat = pd.read_csv('https://cmip6.storage.googleapis.com/cmip6-zarr-consolidated-stores-noQC.csv')\n",
    "\n",
    "df = search_df(dfcat,table_id='Amon',experiment_id='historical',variable_id='tas')\n",
    "df['member'] = [int(s.split('r')[-1].split('i')[0]) for s in df['member_id']]\n",
    "df = df.sort_values(by=['member'])\n",
    "df = df.reset_index(drop=True)\n",
    "\n",
    "len(df)"
   ]
  },
  {
   "cell_type": "code",
   "execution_count": 11,
   "metadata": {},
   "outputs": [],
   "source": [
    "for index, row in df.iterrows():\n",
    "    #if index < 14:\n",
    "    #    continue\n",
    "    gsurl = row['zstore']\n",
    "    version = row['version']\n",
    "    print(index, gsurl)\n",
    "    \n",
    "    tracks = gsurl2tracks(gsurl)\n",
    "    version_new = tracks2cloudversion(tracks)\n",
    "    print('\\t',version, version_new)"
   ]
  },
  {
   "cell_type": "code",
   "execution_count": 8,
   "metadata": {},
   "outputs": [
    {
     "name": "stderr",
     "output_type": "stream",
     "text": [
      "/home/naomi/BigRewrite/myidentify.py:55: UserWarning: multiple dataset_ids correspond to the dataset tracking_ids!\n",
      "hdl:21.14100/e3c5b869-c4d2-3d40-9585-5dd1ba09a9f8;hdl:21.14100/0aecf69a-2b74-32f4-96ff-879669b90960\n",
      "  warnings.warn(f'multiple dataset_ids correspond to the dataset tracking_ids!\\n{ds_tracking_id}')\n"
     ]
    },
    {
     "ename": "HTTPError",
     "evalue": "404 Client Error:  for url: http://hdl.handle.net/api/handles/21.14100/0aecf69a-2b74-32f4-96ff-879669b90960",
     "output_type": "error",
     "traceback": [
      "\u001b[0;31m---------------------------------------------------------------------------\u001b[0m",
      "\u001b[0;31mHTTPError\u001b[0m                                 Traceback (most recent call last)",
      "\u001b[0;32m<ipython-input-8-219f48d56aeb>\u001b[0m in \u001b[0;36m<module>\u001b[0;34m\u001b[0m\n\u001b[1;32m      4\u001b[0m \u001b[0;34m\u001b[0m\u001b[0m\n\u001b[1;32m      5\u001b[0m \u001b[0mtracks\u001b[0m \u001b[0;34m=\u001b[0m \u001b[0mgsurl2tracks\u001b[0m\u001b[0;34m(\u001b[0m\u001b[0mgsurl\u001b[0m\u001b[0;34m)\u001b[0m\u001b[0;34m\u001b[0m\u001b[0;34m\u001b[0m\u001b[0m\n\u001b[0;32m----> 6\u001b[0;31m \u001b[0;34m(\u001b[0m\u001b[0mversion\u001b[0m\u001b[0;34m,\u001b[0m\u001b[0mjdict\u001b[0m\u001b[0;34m)\u001b[0m \u001b[0;34m=\u001b[0m \u001b[0mtracks2version\u001b[0m\u001b[0;34m(\u001b[0m\u001b[0mtracks\u001b[0m\u001b[0;34m)\u001b[0m\u001b[0;34m\u001b[0m\u001b[0;34m\u001b[0m\u001b[0m\n\u001b[0m\u001b[1;32m      7\u001b[0m \u001b[0mprint\u001b[0m\u001b[0;34m(\u001b[0m\u001b[0;34m'latest version from handler = '\u001b[0m\u001b[0;34m,\u001b[0m \u001b[0mversion\u001b[0m\u001b[0;34m)\u001b[0m\u001b[0;34m\u001b[0m\u001b[0;34m\u001b[0m\u001b[0m\n\u001b[1;32m      8\u001b[0m \u001b[0;34m\u001b[0m\u001b[0m\n",
      "\u001b[0;32m~/BigRewrite/myidentify.py\u001b[0m in \u001b[0;36mtracks2version\u001b[0;34m(tracks)\u001b[0m\n\u001b[1;32m     63\u001b[0m \u001b[0;34m\u001b[0m\u001b[0m\n\u001b[1;32m     64\u001b[0m \u001b[0;32mdef\u001b[0m \u001b[0mtracks2version\u001b[0m\u001b[0;34m(\u001b[0m\u001b[0mtracks\u001b[0m\u001b[0;34m)\u001b[0m\u001b[0;34m:\u001b[0m\u001b[0;34m\u001b[0m\u001b[0;34m\u001b[0m\u001b[0m\n\u001b[0;32m---> 65\u001b[0;31m     \u001b[0;34m(\u001b[0m\u001b[0mversion_cloud\u001b[0m\u001b[0;34m,\u001b[0m\u001b[0mjdict\u001b[0m\u001b[0;34m)\u001b[0m \u001b[0;34m=\u001b[0m \u001b[0mtracks2cloudversion\u001b[0m\u001b[0;34m(\u001b[0m\u001b[0mtracks\u001b[0m\u001b[0;34m)\u001b[0m\u001b[0;34m\u001b[0m\u001b[0;34m\u001b[0m\u001b[0m\n\u001b[0m\u001b[1;32m     66\u001b[0m     \u001b[0mprint\u001b[0m\u001b[0;34m(\u001b[0m\u001b[0;34m'current version from GC tracks = '\u001b[0m\u001b[0;34m,\u001b[0m\u001b[0mversion_cloud\u001b[0m\u001b[0;34m)\u001b[0m\u001b[0;34m\u001b[0m\u001b[0;34m\u001b[0m\u001b[0m\n\u001b[1;32m     67\u001b[0m \u001b[0;34m\u001b[0m\u001b[0m\n",
      "\u001b[0;32m~/BigRewrite/myidentify.py\u001b[0m in \u001b[0;36mtracks2cloudversion\u001b[0;34m(tracks)\u001b[0m\n\u001b[1;32m     57\u001b[0m     \u001b[0mversions\u001b[0m \u001b[0;34m=\u001b[0m \u001b[0;34m[\u001b[0m\u001b[0;34m]\u001b[0m\u001b[0;34m\u001b[0m\u001b[0;34m\u001b[0m\u001b[0m\n\u001b[1;32m     58\u001b[0m     \u001b[0;32mfor\u001b[0m \u001b[0mdsid\u001b[0m \u001b[0;32min\u001b[0m \u001b[0mds_tracking_id\u001b[0m\u001b[0;34m.\u001b[0m\u001b[0msplit\u001b[0m\u001b[0;34m(\u001b[0m\u001b[0;34m';'\u001b[0m\u001b[0;34m)\u001b[0m\u001b[0;34m:\u001b[0m\u001b[0;34m\u001b[0m\u001b[0;34m\u001b[0m\u001b[0m\n\u001b[0;32m---> 59\u001b[0;31m         \u001b[0mjdict\u001b[0m \u001b[0;34m=\u001b[0m \u001b[0mid2jdict\u001b[0m\u001b[0;34m(\u001b[0m\u001b[0mdsid\u001b[0m\u001b[0;34m)\u001b[0m\u001b[0;34m\u001b[0m\u001b[0;34m\u001b[0m\u001b[0m\n\u001b[0m\u001b[1;32m     60\u001b[0m         \u001b[0mversions\u001b[0m \u001b[0;34m+=\u001b[0m \u001b[0;34m[\u001b[0m\u001b[0mjdict\u001b[0m\u001b[0;34m[\u001b[0m\u001b[0;34m'VERSION_NUMBER'\u001b[0m\u001b[0;34m]\u001b[0m\u001b[0;34m]\u001b[0m\u001b[0;34m\u001b[0m\u001b[0;34m\u001b[0m\u001b[0m\n\u001b[1;32m     61\u001b[0m \u001b[0;34m\u001b[0m\u001b[0m\n",
      "\u001b[0;32m~/BigRewrite/myidentify.py\u001b[0m in \u001b[0;36mid2jdict\u001b[0;34m(id)\u001b[0m\n\u001b[1;32m     11\u001b[0m     \u001b[0murl\u001b[0m \u001b[0;34m=\u001b[0m \u001b[0;34mf'{baseurl}{id[4:]}'\u001b[0m\u001b[0;34m\u001b[0m\u001b[0;34m\u001b[0m\u001b[0m\n\u001b[1;32m     12\u001b[0m     \u001b[0mr\u001b[0m \u001b[0;34m=\u001b[0m \u001b[0mclient\u001b[0m\u001b[0;34m.\u001b[0m\u001b[0mget\u001b[0m\u001b[0;34m(\u001b[0m\u001b[0murl\u001b[0m\u001b[0;34m)\u001b[0m\u001b[0;34m\u001b[0m\u001b[0;34m\u001b[0m\u001b[0m\n\u001b[0;32m---> 13\u001b[0;31m     \u001b[0mr\u001b[0m\u001b[0;34m.\u001b[0m\u001b[0mraise_for_status\u001b[0m\u001b[0;34m(\u001b[0m\u001b[0;34m)\u001b[0m\u001b[0;34m\u001b[0m\u001b[0;34m\u001b[0m\u001b[0m\n\u001b[0m\u001b[1;32m     14\u001b[0m     \u001b[0mdict2\u001b[0m \u001b[0;34m=\u001b[0m \u001b[0mr\u001b[0m\u001b[0;34m.\u001b[0m\u001b[0mjson\u001b[0m\u001b[0;34m(\u001b[0m\u001b[0;34m)\u001b[0m\u001b[0;34m\u001b[0m\u001b[0;34m\u001b[0m\u001b[0m\n\u001b[1;32m     15\u001b[0m     \u001b[0mdtype\u001b[0m \u001b[0;34m=\u001b[0m \u001b[0;34m[\u001b[0m\u001b[0ms\u001b[0m\u001b[0;34m[\u001b[0m\u001b[0;34m'type'\u001b[0m\u001b[0;34m]\u001b[0m \u001b[0;32mfor\u001b[0m \u001b[0ms\u001b[0m \u001b[0;32min\u001b[0m \u001b[0mdict2\u001b[0m\u001b[0;34m[\u001b[0m\u001b[0;34m'values'\u001b[0m\u001b[0;34m]\u001b[0m\u001b[0;34m]\u001b[0m\u001b[0;34m\u001b[0m\u001b[0;34m\u001b[0m\u001b[0m\n",
      "\u001b[0;32m/usr/local/python/anaconda3/envs/pangeo-Oct2019/lib/python3.7/site-packages/requests/models.py\u001b[0m in \u001b[0;36mraise_for_status\u001b[0;34m(self)\u001b[0m\n\u001b[1;32m    939\u001b[0m \u001b[0;34m\u001b[0m\u001b[0m\n\u001b[1;32m    940\u001b[0m         \u001b[0;32mif\u001b[0m \u001b[0mhttp_error_msg\u001b[0m\u001b[0;34m:\u001b[0m\u001b[0;34m\u001b[0m\u001b[0;34m\u001b[0m\u001b[0m\n\u001b[0;32m--> 941\u001b[0;31m             \u001b[0;32mraise\u001b[0m \u001b[0mHTTPError\u001b[0m\u001b[0;34m(\u001b[0m\u001b[0mhttp_error_msg\u001b[0m\u001b[0;34m,\u001b[0m \u001b[0mresponse\u001b[0m\u001b[0;34m=\u001b[0m\u001b[0mself\u001b[0m\u001b[0;34m)\u001b[0m\u001b[0;34m\u001b[0m\u001b[0;34m\u001b[0m\u001b[0m\n\u001b[0m\u001b[1;32m    942\u001b[0m \u001b[0;34m\u001b[0m\u001b[0m\n\u001b[1;32m    943\u001b[0m     \u001b[0;32mdef\u001b[0m \u001b[0mclose\u001b[0m\u001b[0;34m(\u001b[0m\u001b[0mself\u001b[0m\u001b[0;34m)\u001b[0m\u001b[0;34m:\u001b[0m\u001b[0;34m\u001b[0m\u001b[0;34m\u001b[0m\u001b[0m\n",
      "\u001b[0;31mHTTPError\u001b[0m: 404 Client Error:  for url: http://hdl.handle.net/api/handles/21.14100/0aecf69a-2b74-32f4-96ff-879669b90960"
     ]
    }
   ],
   "source": [
    "# Here is a really bad one:\n",
    "\n",
    "gsurl = 'gs://cmip6/CMIP/EC-Earth-Consortium/EC-Earth3/historical/r12i1p1f1/day/hurs/gr/'\n",
    "\n",
    "# https://handle-esgf.dkrz.de/lp/21.14100/388fda69-61ed-44f0-af3d-73d20dab3502   'handle is not accessible'\n",
    "#version_cat = dfcat[dfcat.zstore == gsurl].version.values[0]\n",
    "#print('current version from GC catalog = ',version_cat)\n",
    "\n",
    "tracks = gsurl2tracks(gsurl)\n",
    "(version,jdict) = tracks2version(tracks)\n",
    "print('latest version from handler = ', version)\n",
    "\n",
    "asearch = gsurl2search(gsurl)\n",
    "dfs = esgf_search(asearch, toFilter = False)\n",
    "version_ESGF = list(set(dfs.version_id))\n",
    "print('version(s) available from ESGF = ', version_ESGF)\n",
    "\n",
    "#source_urls =tracks2source(tracks) \n",
    "#source_urls'"
   ]
  },
  {
   "cell_type": "code",
   "execution_count": 9,
   "metadata": {},
   "outputs": [
    {
     "data": {
      "text/plain": [
       "'hdl:21.14100/388fda69-61ed-44f0-af3d-73d20dab3502\\nhdl:21.14100/101deaaa-6032-4474-b996-0d8e01a8d97f\\nhdl:21.14100/7a7dcbf5-b1d5-4f02-a6ee-2cb63e06538e\\nhdl:21.14100/f12c83af-e0b4-488a-90d7-a5d3ee04ed6e\\nhdl:21.14100/5e023a03-2409-4145-bbfc-93a0386c297a\\nhdl:21.14100/b6eb5b89-583c-47ae-89b3-e0bf2d22fa90\\nhdl:21.14100/c8e927aa-b6a6-4654-843a-3515cf83f53d\\nhdl:21.14100/b040c06b-9bfa-4fb0-bacb-fbdfda2bb339\\nhdl:21.14100/a9ca1644-463f-4e6c-81e1-8f1eda3e137c\\nhdl:21.14100/87d472a5-348f-4f07-9eaa-2e597435a61d\\nhdl:21.14100/1b636d34-c549-47ba-a5f5-9fb3883ccae2\\nhdl:21.14100/a223e1c1-ea08-4473-a673-e087e753d501\\nhdl:21.14100/eacd9304-6e25-4d3d-9fa9-20c21fe70f1e\\nhdl:21.14100/5fa98c38-30d0-4091-9497-01847458effc\\nhdl:21.14100/78ee67d5-a986-4063-b6eb-0cdefb398c77\\nhdl:21.14100/7f443051-5a3f-43ed-a56d-334515a12c3b\\nhdl:21.14100/98753a67-f158-4050-9c6c-aa9b5bb56644\\nhdl:21.14100/db799f8c-48e4-499d-9166-4552808fa4a4\\nhdl:21.14100/b0eb89aa-7ff2-4a7d-9a24-06de3f2d7e5e\\nhdl:21.14100/b091dc7b-4f7c-4e48-ad69-a6240997740c\\nhdl:21.14100/957cbbc1-1da9-471e-b111-f4cafb0999a2\\nhdl:21.14100/7cb22a5a-ebe6-47c5-9051-3b7941e3e6b2\\nhdl:21.14100/d4f48296-f7aa-459b-91e7-9302f3e6c49d\\nhdl:21.14100/2a41c463-9138-43df-9e80-45b685042435\\nhdl:21.14100/be993af2-af0d-4719-ba85-0c78a87e2835\\nhdl:21.14100/88703aa9-25cf-4cab-81be-40829db4d0fb\\nhdl:21.14100/3a903d48-d4da-4029-ae08-50baf01c5095\\nhdl:21.14100/69e503b0-9106-4406-a17a-a950b24c9e7e\\nhdl:21.14100/a21c07ca-6caa-4b2b-91a3-94ffc279e268\\nhdl:21.14100/cda359cd-322b-49d3-ae38-09acb447a320\\nhdl:21.14100/69a50821-08a8-4bb0-8b96-9d58ca30c518\\nhdl:21.14100/3ead6c38-282a-4547-a093-5803c129b55e\\nhdl:21.14100/cda52431-c580-43f6-bbaa-33f2b2672733\\nhdl:21.14100/5547d39e-a134-4fd7-b69c-2d86ed97bbda\\nhdl:21.14100/61bb6028-c8ba-42bb-ad81-4b10e4ffd3b8\\nhdl:21.14100/a6cbf7f5-21a5-4dd7-8a1c-85a3a00d12d0\\nhdl:21.14100/51d336a7-a5f9-4b21-91fb-0f591e97d998\\nhdl:21.14100/a6563f87-78c0-41ae-af1d-b135188fc31a\\nhdl:21.14100/547b25a5-42f5-4a63-a636-17550a129d19\\nhdl:21.14100/451e5577-30ba-4fad-9589-36c241bb2176\\nhdl:21.14100/5d8fd91a-7c6d-45d3-9ed2-e99f6b17d5e9\\nhdl:21.14100/eff2e13c-c731-48d1-8044-0303db2f70d1\\nhdl:21.14100/e15ed055-f373-4633-bb8f-80890c1c5b62\\nhdl:21.14100/1f5a98f1-a10b-4a08-8c9e-49a26646c1f6\\nhdl:21.14100/bc36397d-eacd-4be6-9af4-c5c54fb09447\\nhdl:21.14100/5e7c209d-a852-4231-83ea-a67fc5dc0312\\nhdl:21.14100/91b568d6-e529-4acf-97e4-e1391c8a66d0\\nhdl:21.14100/3d0cf63c-c6e6-4823-8761-979d19e9839e\\nhdl:21.14100/87799c5f-2964-4f7e-8cfb-f0a74749b796\\nhdl:21.14100/58a276c5-d442-4fa8-a70f-96ef99e26963\\nhdl:21.14100/fd170d5f-ed80-4b85-8502-73ca1e73f18c\\nhdl:21.14100/47dd4d3a-5028-464c-9e45-ed5fa5a931dd\\nhdl:21.14100/f1ab714f-fb3b-4375-a2f9-615bbbe7a48e\\nhdl:21.14100/a69f96f6-b9a0-4b33-9cf4-2eb8062a7fe4\\nhdl:21.14100/9a8d6b48-be8c-4233-94d5-f770e4884e75\\nhdl:21.14100/99368d10-87ce-4160-a476-1274150d4fb6\\nhdl:21.14100/fdaa14fa-714e-4748-8335-970b6a8b943c\\nhdl:21.14100/ab00382a-1ae4-4d18-83db-79c666f3f5c5\\nhdl:21.14100/7897055e-53fb-4628-8c71-08758e55aae7\\nhdl:21.14100/6a74ab51-d8c6-4d09-8b2c-694033481dda\\nhdl:21.14100/b691f6a7-dd4b-4da7-8044-2b0c39ece680\\nhdl:21.14100/5b893d07-23bd-4f84-91ff-36978fabfae6\\nhdl:21.14100/077e998e-4b86-4f34-923c-a82ee8377919\\nhdl:21.14100/08186385-75b2-4543-9e0f-3b1da807790e\\nhdl:21.14100/ed788183-df0f-4dca-9132-e6e3c73bee74\\nhdl:21.14100/0d23c28d-a347-4701-a75b-b3cbc69e1f9f\\nhdl:21.14100/c05c4155-6697-4145-8e7d-c13efa3fb881\\nhdl:21.14100/32870f68-900f-4e77-a895-9eb95d8bd93e\\nhdl:21.14100/390ca202-eddf-46a0-b8aa-e5213c0e5ecd\\nhdl:21.14100/98af6100-9db6-4c7b-9d88-e2719fe7b9a9\\nhdl:21.14100/844a066f-b801-4149-9740-728880ba489e\\nhdl:21.14100/64d8f210-1f0a-4e34-986f-3d29a90605e0\\nhdl:21.14100/75b622aa-e716-465e-9cae-4e7193b3544b\\nhdl:21.14100/205fc7c2-9e34-4eab-937b-141b4911c6f4\\nhdl:21.14100/1d0a7fd4-b634-4b8e-b7ac-1f2bf28edd5c\\nhdl:21.14100/80cf1807-73bd-4fd9-b4ee-5a94a0f7d52f\\nhdl:21.14100/27f95cb2-4305-4e30-8493-b1f049b100e7\\nhdl:21.14100/bb266fb9-088f-465c-ade3-44d67d71aabd\\nhdl:21.14100/71163202-5fbe-4228-bfd6-b0aef5a6828b\\nhdl:21.14100/c80db025-0725-4532-9566-c255742d1a56\\nhdl:21.14100/1366355c-6cf7-4f14-b7d5-40d1c8a4919e\\nhdl:21.14100/f2d2d749-514c-4b3c-9a44-bad162f38de9\\nhdl:21.14100/50b5ed97-7753-4ee5-afc2-b11f6965e38c\\nhdl:21.14100/e2f9e9b6-0b10-4dcc-8bd6-bc0df5564eed\\nhdl:21.14100/38d2c007-8d52-47e8-9425-d6c321b1c2ce\\nhdl:21.14100/4d678bdf-8d68-4766-9489-38780a14a991\\nhdl:21.14100/734adfac-9055-4172-afa3-29aa7ac05268\\nhdl:21.14100/8d4290da-40a9-4289-b4e9-9de9e2ba2ef6\\nhdl:21.14100/bcdba93a-68fa-4f39-b629-3680cfc41da6\\nhdl:21.14100/f08083ab-e20b-4ea9-94dd-6393205c7a0c\\nhdl:21.14100/e9360f8d-5232-4ae9-b135-3cf7b69b1b4a\\nhdl:21.14100/cb8a54df-76bd-429b-a6d4-80411fdc9eae\\nhdl:21.14100/3e9cc791-9ff0-4386-8337-9484a232e8d3\\nhdl:21.14100/7cd48a2c-b1f4-44e3-84d7-76f498a88356\\nhdl:21.14100/2393fe20-527d-4432-b1d6-9df4257d90ac\\nhdl:21.14100/a14b4fff-d147-4b64-b7f3-3ffaea5f0e01\\nhdl:21.14100/39ebc0e4-3d58-4012-85bb-161878bf3dc6\\nhdl:21.14100/2745487a-15b1-4904-9b5b-f17429750f60\\nhdl:21.14100/7ac1caf6-f915-4873-bffd-cdeebcffe182\\nhdl:21.14100/73747d25-57ad-4897-a149-3677f2a67299\\nhdl:21.14100/7afccf13-2129-4d6c-bbe6-a0a676e83d2f\\nhdl:21.14100/a7e3419b-03fb-4ea6-8704-1e5540acc01e\\nhdl:21.14100/8cc1bac1-bb9f-4458-a85c-cce2e317be3a\\nhdl:21.14100/e66e1afa-ce3f-48fc-b55a-79e1c11abbcc\\nhdl:21.14100/fce12baf-57ee-42a6-bf29-80c88e5acce3\\nhdl:21.14100/439ef523-db67-4358-b54f-a49a2ad7f6da\\nhdl:21.14100/7cd43010-9046-4154-b744-391bfc3f1cb4\\nhdl:21.14100/bb0b483f-4fc0-4798-a762-98e50eb37629\\nhdl:21.14100/b655c88b-cb05-476c-8ac4-f878e9269077\\nhdl:21.14100/2e677757-39da-4ea9-9b53-7b556da0e5e0\\nhdl:21.14100/f64f0ae2-7974-45a2-9b17-8101f3e6327a\\nhdl:21.14100/f83f143e-bf7c-4f41-903d-9aa11b8dcdaf\\nhdl:21.14100/aa0f3893-2cbf-4be2-befe-367bdbfb9076\\nhdl:21.14100/6665322b-5d7e-4b83-9b4a-103e55057ec7\\nhdl:21.14100/3ccafe6e-9f54-462c-863a-d3e9308cce32\\nhdl:21.14100/d9fa987d-44ff-424c-80d1-b12300103715\\nhdl:21.14100/1436d908-f0e9-4786-bf86-a5424b2e84c8\\nhdl:21.14100/ac75a128-d0b4-4c45-a8d1-219ce3c84ba9\\nhdl:21.14100/0fcd2136-8209-4ab9-8649-ffc67002a2c9\\nhdl:21.14100/269a10d4-bf5a-4d0d-b5bc-6c74c19ebba6\\nhdl:21.14100/37657141-fbfd-422c-96c6-431362371c5b\\nhdl:21.14100/737c6637-efa7-4cea-b123-314fec661f0f\\nhdl:21.14100/d9e53733-14dd-420b-b3c3-d75a83db6b82\\nhdl:21.14100/d9b7d2a5-c504-48ae-9767-250310f23a5f\\nhdl:21.14100/a4cedeb8-ad0f-4560-8682-9c1058046b39\\nhdl:21.14100/d8c495a8-fc52-469c-82db-9305795727fa\\nhdl:21.14100/3185fd9e-afb8-4986-9324-f27887ce9089\\nhdl:21.14100/f0654293-14aa-42ef-a773-d211036cd1b4\\nhdl:21.14100/12c768f5-fce1-42bd-be65-f850aa78f6ce\\nhdl:21.14100/e891630a-0901-4b9b-b57d-67529a528c14\\nhdl:21.14100/f94b42cd-d119-4c86-8038-99d8671a7d5c\\nhdl:21.14100/743dd54a-f9bf-4deb-8856-bbc00373f528\\nhdl:21.14100/9ed32ede-dced-4017-9903-95d81dd3c54d\\nhdl:21.14100/af43cce6-80c1-4745-b9c8-34bceaf3bb24\\nhdl:21.14100/b845cf34-4631-49da-a067-54f84561cb36\\nhdl:21.14100/1bae6b58-d627-4f62-9798-57eb93d35d7e\\nhdl:21.14100/62d72fdf-47ab-413f-ad20-13fafdd7a683\\nhdl:21.14100/9dc22693-6e67-464d-82fd-30c7a94e6f0b\\nhdl:21.14100/7ab85976-fd9a-4fde-b31e-37ef74fcb793\\nhdl:21.14100/b1c650aa-7782-4490-9a93-e0d9688c4d39\\nhdl:21.14100/e6e9035b-8672-4c9f-8b2a-4f50c4b8c433\\nhdl:21.14100/5ceaee47-88ce-42db-b351-dd6736ea090d\\nhdl:21.14100/ebb3e631-dd3b-4847-9c41-a7f00b24370f\\nhdl:21.14100/bd455ffd-492b-4023-b5ad-cc78cc92cf4b\\nhdl:21.14100/2d2e1bf6-05f3-4848-a6b1-8cf2f7350393\\nhdl:21.14100/64dc1ff1-6fb1-48e6-9033-51a53bc9cb6c\\nhdl:21.14100/7bfd7c96-46cf-4819-acf2-a3e20a76e256\\nhdl:21.14100/73fc0208-8927-447c-b002-94d9a00bd919\\nhdl:21.14100/c60cd56b-c854-42e1-932d-4150b72586ff\\nhdl:21.14100/eab1b348-dd2e-44d0-b069-6015cc492c41\\nhdl:21.14100/8ebbd2ad-a17d-485b-a121-db40321bb46a\\nhdl:21.14100/60e5a752-7095-4929-90d0-797f86b19491\\nhdl:21.14100/233b170d-320f-4229-a9e3-e07069305541\\nhdl:21.14100/4714764c-3945-4435-9f20-cbbff1edabe3\\nhdl:21.14100/bfc242dc-e42e-40fa-b171-5846aab27329\\nhdl:21.14100/ffe5f0a6-eda5-4ba6-9317-75bd56c0b548\\nhdl:21.14100/4d78b8ec-27b1-4f47-aea3-aafbe4d71455\\nhdl:21.14100/67db4f71-817c-45c4-871c-07fd78b1566f\\nhdl:21.14100/f6356930-a8a9-4885-86a0-66aa20158eca\\nhdl:21.14100/9fc0fedc-082c-4629-a926-a3849424aa37\\nhdl:21.14100/b98209a4-f83c-432e-87d4-973424b77e1d\\nhdl:21.14100/b3b6f804-c324-4e15-92ea-708d696e9dd2\\nhdl:21.14100/2d8a7dda-15e1-4cfe-bf6e-00d3dd028fb3\\nhdl:21.14100/ac757f7c-4e69-4eaa-99e8-63aed770431e\\nhdl:21.14100/b8eec705-a216-4868-911e-f4b7d188e11f'"
      ]
     },
     "execution_count": 9,
     "metadata": {},
     "output_type": "execute_result"
    }
   ],
   "source": [
    "tracks"
   ]
  },
  {
   "cell_type": "raw",
   "metadata": {},
   "source": [
    "for index, row in df.iterrows():\n",
    "    if index < 14:\n",
    "        continue\n",
    "    gsurl = row['zstore']\n",
    "    version = row['version']\n",
    "    print(index, gsurl, version)\n",
    "    \n",
    "    tracks = gsurl2tracks(gsurl)\n",
    "    (version_new,jdict) = tracks2version(tracks)\n",
    "    print(version_new)\n",
    "    \n",
    "    surls = jdict2source(jdict)\n",
    "    print(surls)"
   ]
  },
  {
   "cell_type": "code",
   "execution_count": null,
   "metadata": {},
   "outputs": [],
   "source": []
  },
  {
   "cell_type": "code",
   "execution_count": null,
   "metadata": {},
   "outputs": [],
   "source": []
  }
 ],
 "metadata": {
  "kernelspec": {
   "display_name": "pangeo-Oct2019",
   "language": "python",
   "name": "pangeo-oct2019"
  },
  "language_info": {
   "codemirror_mode": {
    "name": "ipython",
    "version": 3
   },
   "file_extension": ".py",
   "mimetype": "text/x-python",
   "name": "python",
   "nbconvert_exporter": "python",
   "pygments_lexer": "ipython3",
   "version": "3.7.3"
  }
 },
 "nbformat": 4,
 "nbformat_minor": 4
}
