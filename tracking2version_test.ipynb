{
 "cells": [
  {
   "cell_type": "markdown",
   "metadata": {},
   "source": [
    "### Versions\n",
    "- Unfortunately, 'version' was not stored in the metadata of each file nor in the name of the file\n",
    "- "
   ]
  },
  {
   "cell_type": "code",
   "execution_count": 1,
   "metadata": {},
   "outputs": [],
   "source": [
    "import pandas as pd\n",
    "import zarr\n",
    "import fsspec"
   ]
  },
  {
   "cell_type": "code",
   "execution_count": 2,
   "metadata": {},
   "outputs": [],
   "source": [
    "from myidentify import gsurl2tracks, tracks2version, tracks2source, dsid2source, id2jdict, jdict_ds2source\n",
    "from myutilities import search_df\n",
    "from mysearch import esgf_search\n",
    "import myconfig"
   ]
  },
  {
   "cell_type": "code",
   "execution_count": 9,
   "metadata": {},
   "outputs": [],
   "source": [
    "dfcat = pd.read_csv('https://cmip6.storage.googleapis.com/cmip6-zarr-consolidated-stores-noQC.csv', dtype='unicode')"
   ]
  },
  {
   "cell_type": "code",
   "execution_count": 4,
   "metadata": {},
   "outputs": [],
   "source": [
    "def gsurl2search(gsurl):\n",
    "    values = gsurl[11:-1].split('/')\n",
    "    keys = myconfig.target_keys\n",
    "    return dict(zip(keys,values))"
   ]
  },
  {
   "cell_type": "code",
   "execution_count": 15,
   "metadata": {},
   "outputs": [
    {
     "name": "stdout",
     "output_type": "stream",
     "text": [
      "current version from GC catalog =  20190514\n",
      "current version from GC tracks =  20190514\n",
      "latest version from handler =  20190514\n",
      "version(s) available from ESGF =  ['v20190514']\n"
     ]
    }
   ],
   "source": [
    "# standard example\n",
    "gsurl = 'gs://cmip6/CMIP/NCAR/CESM2/historical/r11i1p1f1/Oyr/expc/gr/'\n",
    "\n",
    "version_cat = dfcat[dfcat.zstore == gsurl].version.values[0]\n",
    "print('current version from GC catalog = ',version_cat)\n",
    "\n",
    "tracks = gsurl2tracks(gsurl)\n",
    "(version,jdict) = tracks2version(tracks)\n",
    "print('latest version from handler = ', version)\n",
    "\n",
    "asearch = gsurl2search(gsurl)\n",
    "dfs = esgf_search(asearch, toFilter = False)\n",
    "version_ESGF = list(set(dfs.version_id))\n",
    "print('version(s) available from ESGF = ', version_ESGF)\n",
    "\n",
    "#source_urls =tracks2source(tracks) \n",
    "#source_urls"
   ]
  },
  {
   "cell_type": "code",
   "execution_count": 13,
   "metadata": {},
   "outputs": [
    {
     "data": {
      "text/plain": [
       "['hdl:21.14100/d5aae306-16fe-4a2f-9706-8c41b4d20584',\n",
       " 'hdl:21.14100/43133a86-783d-4d67-a73f-c512d2e27582',\n",
       " 'hdl:21.14100/4fd3a7ec-d1ab-421b-963e-bcf82fcd8cdb']"
      ]
     },
     "execution_count": 13,
     "metadata": {},
     "output_type": "execute_result"
    }
   ],
   "source": [
    "#gsurl = 'gs://cmip6/CMIP/CSIRO/ACCESS-ESM1-5/historical/r1i1p1f1/3hr/uas/gn/'  # just created, but scripts say there is a newer version!!!!\n",
    "\n",
    "gsurl = 'gs://cmip6/ScenarioMIP/HAMMOZ-Consortium/MPI-ESM-1-2-HAM/ssp370/r1i1p1f1/3hr/uas/gn/' # duplicate dataset_ids and versions \n",
    "                                                                # since two files are in both datasets and one file is only in the most recent\n",
    "tracks = gsurl2tracks(gsurl)\n",
    "tracking_ids = tracks.split('\\n')\n",
    "tracking_ids"
   ]
  },
  {
   "cell_type": "code",
   "execution_count": 5,
   "metadata": {},
   "outputs": [
    {
     "name": "stderr",
     "output_type": "stream",
     "text": [
      "/home/naomi/BigRewrite/myidentify.py:26: UserWarning: \n",
      "\n",
      "netcdf file tracking_ids are NOT UNIQUE!\n",
      "['hdl:21.14100/33cbdc29-fbc9-44ab-9e09-5dc7824441cf', 'hdl:21.14100/33cbdc29-fbc9-44ab-9e09-5dc7824441cf']\n",
      "\n",
      "  warnings.warn(\"\\n\" + msg)\n"
     ]
    },
    {
     "name": "stdout",
     "output_type": "stream",
     "text": [
      "cloud version from tracks =  20200528\n",
      "version =  20200528\n"
     ]
    },
    {
     "data": {
      "text/plain": [
       "['http://esgf-data.ucar.edu/thredds/fileServer/esg_dataroot/CMIP6/ScenarioMIP/NCAR/CESM2/ssp370/r4i1p1f1/Amon/ts/gn/v20200528/ts_Amon_CESM2_ssp370_r4i1p1f1_gn_206501-210012.nc']"
      ]
     },
     "execution_count": 5,
     "metadata": {},
     "output_type": "execute_result"
    }
   ],
   "source": [
    "# Now, what if we try this for another? This example has two features. The tracking_ids of the netcdf files are not unique and this is a replacement version.\n",
    "gsurl = 'gs://cmip6/ScenarioMIP/NCAR/CESM2/ssp370/r4i1p1f1/Amon/ts/gn/'\n",
    "tracks = gsurl2tracks(gsurl)\n",
    "(version,jdict) = tracks2version(tracks)\n",
    "print('version = ', version)\n",
    "\n",
    "# But since the tracking_ids were not unique, we won't get all of the urls!!\n",
    "source_urls = tracks2source(tracks) \n",
    "source_urls"
   ]
  },
  {
   "cell_type": "code",
   "execution_count": 14,
   "metadata": {},
   "outputs": [
    {
     "name": "stdout",
     "output_type": "stream",
     "text": [
      "current version from GC catalog =  20190926\n",
      "current version from GC tracks =  20190926\n"
     ]
    },
    {
     "name": "stderr",
     "output_type": "stream",
     "text": [
      "/home/naomi/BigRewrite/myidentify.py:61: UserWarning: \n",
      "\n",
      "*** Newer version exists, see: http://hdl.handle.net/hdl:21.14100/480d0915-c4de-3b4a-89da-dbce9ace46ce\n",
      "\n",
      "  warnings.warn(f'\\n\\n*** Newer version exists, see: http://hdl.handle.net/{ds_id}\\n')\n",
      "/home/naomi/BigRewrite/myidentify.py:61: UserWarning: \n",
      "\n",
      "*** Newer version exists, see: http://hdl.handle.net/hdl:21.14100/b7fc3bc4-2489-3627-b8ce-bf665b908fb6\n",
      "\n",
      "  warnings.warn(f'\\n\\n*** Newer version exists, see: http://hdl.handle.net/{ds_id}\\n')\n"
     ]
    },
    {
     "name": "stdout",
     "output_type": "stream",
     "text": [
      "latest version from handler =  20200310\n",
      "version(s) available from ESGF =  ['v20200310', 'v20190926']\n"
     ]
    }
   ],
   "source": [
    "# This example is a Dataset where there are three versions (and an ES-DOC ERRATA link from second version)\n",
    "gsurl = 'gs://cmip6/CMIP/EC-Earth-Consortium/EC-Earth3/historical/r1i1p1f1/Amon/tasmin/gr/'\n",
    "\n",
    "version_cat = dfcat[dfcat.zstore == gsurl].version.values[0]\n",
    "print('current version from GC catalog = ',version_cat)\n",
    "\n",
    "tracks = gsurl2tracks(gsurl)\n",
    "(version,jdict) = tracks2version(tracks)\n",
    "print('latest version from handler = ', version)\n",
    "\n",
    "asearch = gsurl2search(gsurl)\n",
    "dfs = esgf_search(asearch, toFilter = False)\n",
    "version_ESGF = list(set(dfs.version_id))\n",
    "print('version(s) available from ESGF = ', version_ESGF)\n",
    "\n",
    "#source_urls =tracks2source(tracks) \n",
    "#source_urls"
   ]
  },
  {
   "cell_type": "code",
   "execution_count": null,
   "metadata": {},
   "outputs": [],
   "source": [
    "dfcat = pd.read_csv('https://cmip6.storage.googleapis.com/cmip6-zarr-consolidated-stores-noQC.csv')\n",
    "\n",
    "df = search_df(dfcat,table_id='Amon',experiment_id='historical',variable_id='tas')\n",
    "df['member'] = [int(s.split('r')[-1].split('i')[0]) for s in df['member_id']]\n",
    "df = df.sort_values(by=['member'])\n",
    "df = df.reset_index(drop=True)\n",
    "\n",
    "len(df)"
   ]
  },
  {
   "cell_type": "code",
   "execution_count": null,
   "metadata": {},
   "outputs": [],
   "source": [
    "for index, row in df.iterrows():\n",
    "    if index > 13:\n",
    "        continue\n",
    "    gsurl = row['zstore']\n",
    "    version = row['version']\n",
    "    print(index, gsurl, version)\n",
    "    \n",
    "    tracks = gsurl2tracks(gsurl)\n",
    "    (version_new,jdict) = tracks2version(tracks)\n",
    "    print(version_new)\n",
    "    \n",
    "    surls = jdict_ds2source(jdict)\n",
    "    print(surls)"
   ]
  },
  {
   "cell_type": "code",
   "execution_count": null,
   "metadata": {},
   "outputs": [],
   "source": []
  },
  {
   "cell_type": "code",
   "execution_count": null,
   "metadata": {},
   "outputs": [],
   "source": []
  }
 ],
 "metadata": {
  "kernelspec": {
   "display_name": "pangeo-Oct2019",
   "language": "python",
   "name": "pangeo-oct2019"
  },
  "language_info": {
   "codemirror_mode": {
    "name": "ipython",
    "version": 3
   },
   "file_extension": ".py",
   "mimetype": "text/x-python",
   "name": "python",
   "nbconvert_exporter": "python",
   "pygments_lexer": "ipython3",
   "version": "3.7.3"
  }
 },
 "nbformat": 4,
 "nbformat_minor": 4
}
