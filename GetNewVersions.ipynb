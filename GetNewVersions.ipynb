{
 "cells": [
  {
   "cell_type": "markdown",
   "metadata": {},
   "source": [
    "# If new version is available, download and create new zarr store - if successful then:\n",
    "    0. save new zstore in zbtemp\n",
    "    1. delete old version in GC\n",
    "    2. delete entry in ncsv/GC_files_{activity_id}-{institution_id}.csv\n",
    "    if saving local copy:\n",
    "        3. delete old local copy(ies)\n",
    "        4. delete entry(ies) in shelf-new/h*.csv\n",
    "        5. copy zarr from zbtemp to zbdir\n",
    "    6. upload to cloud\n",
    "    7. fix version name in LOCAL COPY of noQC catalog (df_GCS)"
   ]
  },
  {
   "cell_type": "markdown",
   "metadata": {},
   "source": [
    "### STILL BEING CODED - DO NOT USE ###"
   ]
  },
  {
   "cell_type": "code",
   "execution_count": 2,
   "metadata": {},
   "outputs": [],
   "source": [
    "import pandas as pd\n",
    "import gcsfs\n",
    "import xarray as xr\n",
    "from datetime import datetime\n",
    "import itertools\n",
    "import os\n",
    "import gspread\n",
    "from oauth2client.service_account import ServiceAccountCredentials"
   ]
  },
  {
   "cell_type": "code",
   "execution_count": 3,
   "metadata": {},
   "outputs": [],
   "source": [
    "import myconfig\n",
    "from myidentify import tracking2version\n",
    "from mysets import all_search\n",
    "from mydataset import id2dict_, dir2url_, dir2dict\n",
    "from mytasks import Check, Download, ReadFiles, SaveAsZarr, Upload, Cleanup\n",
    "from mysearch import esgf_search"
   ]
  },
  {
   "cell_type": "code",
   "execution_count": null,
   "metadata": {},
   "outputs": [],
   "source": [
    "# Directly connect to Search Status Page for updating\n",
    "# Anyone can view: https://docs.google.com/spreadsheets/d/1yAt7604tVt7OXXZUyL2uALtGP2WVa-Pb5NMuTluFsAc/edit?usp=sharing\n",
    "\n",
    "json_keyfile = '/home/naomi/json/CMIP6-d0cb1df722d1.json'\n",
    "scope = ['https://spreadsheets.google.com/feeds','https://www.googleapis.com/auth/drive']\n",
    "credentials = ServiceAccountCredentials.from_json_keyfile_name(json_keyfile, scope)\n",
    "gc = gspread.authorize(credentials)\n",
    "sheet_name = \"CMIP6_UpdateSchedule\"\n",
    "sh = gc.open(sheet_name)\n",
    "wks = sh.worksheet(\"Searches\")\n",
    "\n",
    "# read the first row to get the column labels\n",
    "columns = wks.row_values(3)\n",
    "col_vupdate = columns.index('version update')"
   ]
  },
  {
   "cell_type": "code",
   "execution_count": null,
   "metadata": {},
   "outputs": [],
   "source": [
    "# Make a dataframe of the google sheet\n",
    "#data = wks.get_all_values()\n",
    "#headers = data.pop(0)\n",
    "#pd.DataFrame(data, columns=headers)"
   ]
  },
  {
   "cell_type": "code",
   "execution_count": null,
   "metadata": {},
   "outputs": [],
   "source": [
    "# CONFIGURE ESGF Search here\n",
    "node_pref = myconfig.node_pref\n",
    "dtype = myconfig.dtype\n",
    "hd = '/h116'\n",
    "myconfig.local_target_prefix = hd + '/naomi/zarr-minimal/'\n",
    "dir2local = dir2url_(myconfig.local_target_prefix)\n",
    "\n",
    "clear_logs = True\n",
    "update_ESGF = True\n",
    "NewNeeded = True\n",
    "\n",
    "search = 'Omon-1g'   # if search='test', must define below\n",
    "search_row = wks.find(search).row\n",
    "date = datetime.now().strftime('%Y-%m-%d')\n",
    "wks.update_cell(search_row, col_run + 1, date)\n",
    "wks.update_cell(search_row, col_drive + 1, hd)\n",
    "\n",
    "ESGF_site = dtype['llnl']\n",
    "#ESGF_site = dtype['dkrz']\n",
    "\n",
    "print('zarrs will be written to: ',myconfig.local_target_prefix)"
   ]
  },
  {
   "cell_type": "code",
   "execution_count": null,
   "metadata": {},
   "outputs": [],
   "source": [
    "# CONFIGURE GCS\n",
    "fs     = gcsfs.GCSFileSystem(token='anon', access='read_only',cache_timeout=-1)\n",
    "df_GCS = pd.read_csv('https://cmip6.storage.googleapis.com/cmip6-zarr-consolidated-stores-noQC.csv', dtype='unicode')\n",
    "\n",
    "# make available to all modules (except those)\n",
    "myconfig.fs = fs\n",
    "myconfig.df_GCS = df_GCS"
   ]
  },
  {
   "cell_type": "code",
   "execution_count": null,
   "metadata": {},
   "outputs": [],
   "source": [
    "if search in all_search:\n",
    "    # Use a pre-defined search\n",
    "    asearch = all_search[search]\n",
    "else:\n",
    "    # Define your own search: Pick keyword values to specify your search, not specifying a particular keyword means it will find all.\n",
    "    asearch = {\n",
    "                     'table_id'      : ['SImon']\n",
    "                    ,'experiment_id' : ['ssp119', 'ssp126']\n",
    "                    ,'variable_id'   : [\"sithick\", \"siconc\", \"sisnthick\", \"sisnconc\"]\n",
    "                    #,'member_id'     : ['r1i1p1f1']\n",
    "                    #,'source_id'     : ['CESM2-WACCM']\n",
    "                }\n",
    "\n",
    "# check if ANOTHER notebook is doing the same search\n",
    "lock_file = f'logs/{search}-vup.lock'\n",
    "if os.path.exists(lock_file):\n",
    "    if clear_logs:  \n",
    "        command = f'/bin/rm logs/*{search}-vup*'\n",
    "        print(command)\n",
    "        os.system(command)\n",
    "    else:\n",
    "        assert False, f'lockfile {lock_file} exists'\n",
    "        \n",
    "f = open(lock_file,'w')\n",
    "date = str(datetime.now().strftime(\"%Y%m%d-%H%M\"))\n",
    "f.write(f'started {search} at {date}')\n",
    "f.close()\n",
    "\n",
    "search, asearch"
   ]
  },
  {
   "cell_type": "code",
   "execution_count": null,
   "metadata": {},
   "outputs": [],
   "source": [
    "# make dataframe of ESGF search results\n",
    "\n",
    "if update_ESGF:\n",
    "    x = [value for key,value in asearch.items()]\n",
    "    searches = [p for p in itertools.product(*x)]\n",
    "\n",
    "    dESGF = []\n",
    "    for s in searches:\n",
    "        dsearch = dict(zip(asearch.keys(),s))\n",
    "        print(dsearch)\n",
    "        df = esgf_search(dsearch, server=ESGF_site)\n",
    "        if len(df)>0:\n",
    "            dESGF += [df]\n",
    "\n",
    "    df_ESGF = pd.concat(dESGF)\n",
    "    df_ESGF.to_csv(f'csv/ESGF_{search}.csv',index=False)\n",
    "else:\n",
    "    df_ESGF = pd.read_csv(f'csv/ESGF_{search}.csv', dtype='unicode')\n",
    "\n",
    "len(df_ESGF), len(df_ESGF.ds_dir.unique())"
   ]
  },
  {
   "cell_type": "code",
   "execution_count": null,
   "metadata": {},
   "outputs": [],
   "source": [
    "# make dataframe of all needed\n",
    "\n",
    "if NewNeeded:\n",
    "    df = pd.merge(df_ESGF,df_GCS, how='outer', indicator=True)\n",
    "    df_needed = df[df._merge == 'left_only']\n",
    "    \n",
    "    keep_keys = df_ESGF.keys()\n",
    "    all_keys = df.keys()\n",
    "    drop_keys = list(set(all_keys) - set(keep_keys))\n",
    "    df_needed = df_needed.drop(drop_keys,1)\n",
    "\n",
    "    num_stores = 0\n",
    "    if len(df_needed) > 0:\n",
    "        num_stores = df_needed.ds_dir.nunique() \n",
    "        print(f'needed: nfiles={len(df_needed)}, nstores={num_stores}')\n",
    "    else:\n",
    "        print('no new data available')\n",
    "        exit    \n",
    "    \n",
    "    df_needed['member'] = [int(s.split('r')[-1].split('i')[0]) for s in df_needed['member_id']]\n",
    "    df_needed = df_needed.sort_values(by=['member'])\n",
    "    #df_needed['zsize'] = [df_needed[df_needed.ds_dir==zs]['file_size'].sum() for zs in df_needed['ds_dir']]\n",
    "    #df_needed = df_needed.sort_values(by=['zsize'])\n",
    "    \n",
    "    df_needed.to_csv(f'csv/needed_{search}.csv',index=False)\n",
    "else:\n",
    "    df_needed = pd.read_csv(f'csv/needed_{search}.csv')\n",
    "\n",
    "print('Variables')\n",
    "for var in df_needed.variable_id.unique():\n",
    "    print(var,df_needed[df_needed.variable_id==var].ds_dir.nunique())\n",
    "\n",
    "print('\\nExperiments')\n",
    "for exp in df_needed.experiment_id.unique():\n",
    "    print(exp,df_needed[df_needed.experiment_id==exp].ds_dir.nunique())"
   ]
  },
  {
   "cell_type": "code",
   "execution_count": null,
   "metadata": {},
   "outputs": [],
   "source": [
    "# make available to all modules\n",
    "myconfig.df_needed = df_needed"
   ]
  },
  {
   "cell_type": "code",
   "execution_count": null,
   "metadata": {},
   "outputs": [],
   "source": [
    "ds_dirs = df_needed.ds_dir.unique()\n",
    "numdsets = len(ds_dirs)"
   ]
  },
  {
   "cell_type": "code",
   "execution_count": null,
   "metadata": {},
   "outputs": [],
   "source": [
    "progress_log  = f'logs/progress_{search}-vup.log'\n",
    "failure_log  = f'logs/failure_{search}-vup.log'\n",
    "success_log  = f'logs/success_{search}-vup.log'\n",
    "logs = {1:progress_log, 2:failure_log, 3:success_log}"
   ]
  },
  {
   "cell_type": "markdown",
   "metadata": {},
   "source": [
    "### ierr:\n",
    "- 0 : proceed with next task\n",
    "- 1 : write to progress_log, go to next dataset (finished or try again)\n",
    "- 2 : write to failure_log,  go to next dataset (mark as un-usable - do not try again until problem is solved) \n",
    "- 3 : write to success_log,  go to next dataset (dataset added to cloud)"
   ]
  },
  {
   "cell_type": "code",
   "execution_count": null,
   "metadata": {},
   "outputs": [],
   "source": [
    "def write_log(file,str,verbose=True):\n",
    "    f = open(file,'a')\n",
    "    if verbose:\n",
    "        print(str)\n",
    "    f.write(f'{str}\\n')\n",
    "    f.close()\n",
    "    return"
   ]
  },
  {
   "cell_type": "code",
   "execution_count": null,
   "metadata": {},
   "outputs": [],
   "source": [
    "# reload the catalog\n",
    "df_GCS = pd.read_csv('https://cmip6.storage.googleapis.com/cmip6-zarr-consolidated-stores-noQC.csv', dtype='unicode')\n",
    "\n",
    "# refresh the gcsfs\n",
    "fs.invalidate_cache()\n",
    "\n",
    "for item, ds_dir in enumerate(ds_dirs):\n",
    "\n",
    "    print(f'\\n{item}/{numdsets-1}',ds_dir)\n",
    "\n",
    "    #skip = 'EC-Earth3'\n",
    "    skip = 'none'\n",
    "    if skip in ds_dir:\n",
    "        write_log(progress_log,f'{ds_dir} skipping {skip}') \n",
    "        continue\n",
    "    \n",
    "    (ierr, exc) = Check(ds_dir, dir2local)\n",
    "    if ierr > 0:\n",
    "        write_log(logs[ierr],f'{ds_dir} {exc}'); continue\n",
    "                     \n",
    "    (gfiles, ierr, exc) = Download(ds_dir)\n",
    "    if ierr > 0:\n",
    "        write_log(logs[ierr],f'{ds_dir}, {exc}'); continue\n",
    "        \n",
    "    search_row = wks.find(search).row\n",
    "    wks.update_cell(search_row, col_dataset + 1, ds_dir)\n",
    "    \n",
    "    (ds,ierr,exc) = ReadFiles(ds_dir, gfiles, dir2dict)\n",
    "    if ierr > 0:\n",
    "        write_log(logs[ierr],f'{ds_dir}, {exc}'); continue\n",
    "\n",
    "    (ierr,exc) = SaveAsZarr(ds_dir, ds, dir2local)\n",
    "    if ierr > 0:\n",
    "        write_log(logs[ierr],f'{ds_dir}, {exc}'); continue\n",
    "        \n",
    "    (ierr,exc) = Upload(ds_dir, dir2local)\n",
    "    if ierr > 0:\n",
    "        write_log(logs[ierr],f'{ds_dir}, {exc}'); continue\n",
    "\n",
    "    (ierr,exc) = Cleanup(ds_dir, gfiles, dir2local)\n",
    "    if ierr > 0:\n",
    "        write_log(logs[ierr],f'{ds_dir}, {exc}'); continue\n",
    "\n",
    "    date = datetime.now().strftime('%H:%M, %b%d')\n",
    "    status_str = f'{item+1} of {numdsets} at {date}'\n",
    "    search_row = wks.find(search).row\n",
    "    wks.update_cell(search_row, col_status + 1, status_str)\n",
    "\n",
    "    write_log(success_log,f'{dir2local(ds_dir)} saved to GCS'); continue"
   ]
  },
  {
   "cell_type": "markdown",
   "metadata": {},
   "source": [
    "# KNOWN ISSUES:"
   ]
  },
  {
   "cell_type": "markdown",
   "metadata": {},
   "source": [
    "### 1. Identical datasets with different version_ids\n",
    "- some new versions are IDENTICAL to old - same checksums, tracking_ids, etc. \n",
    "- WHAT TO DO???? Need to prevent from updating again and again\n",
    "\n",
    "skip_stores = ['gs://cmip6/CMIP/E3SM-Project/E3SM-1-1-ECA/historical/r1i1p1f1/Amon/prc/gr/'] # new version same as old\n",
    "\n",
    "skip_stores += ['gs://cmip6/CMIP/E3SM-Project/E3SM-1-1-ECA/historical/r1i1p1f1/Amon/pr/gr/'] # new version same as old"
   ]
  },
  {
   "cell_type": "markdown",
   "metadata": {},
   "source": [
    "### 2. Retracted Dataset Issue\n",
    "- the ESGF API and web search pages give different results!!!\n",
    "- skipping due to multiple esgf versions: \n",
    "\n",
    "Example:  /CMIP/CCCma/CanESM5/historical/r1i1p1f1/Amon/pr/gn/ ['v20190306' 'v20190429']\n",
    "\n",
    "- The API returns both versions (version=latest DOES NOT WORK if a version has been retracted!!!), but ESGF search page only has one if other has been retracted\n",
    "\n",
    "```    1.\t\n",
    "    CMIP6.CMIP.CCCma.CanESM5.historical.r1i1p1f1.Amon.pr.gn\n",
    "    IMPORTANT: this dataset has been retracted and is no longer available for download\n",
    "    Data Node: crd-esgf-drc.ec.gc.ca\n",
    "    Version: 20190306\n",
    "    ß Full Dataset Services:   [ Show Metadata ]\n",
    "    2.\t\n",
    "    CMIP6.CMIP.CCCma.CanESM5.historical.r1i1p1f1.Amon.pr.gn\n",
    "    Data Node: crd-esgf-drc.ec.gc.ca\n",
    "    Version: 20190429\n",
    "    Total Number of Files (for all variables): 1\n",
    "    Full Dataset Services:  \t[ Show Metadata ]   [ List Files ]   [ WGET Script ]   [ LAS ]   [ Show Citation ]   [ PID ] [ Further Info ]\n",
    "\n"
   ]
  },
  {
   "cell_type": "markdown",
   "metadata": {},
   "source": [
    "### CloudCat will read newversions.csv and update the version ids\n",
    "- if newversions.csv gets large, just remove all but first line after running MakeCloudCat"
   ]
  },
  {
   "cell_type": "code",
   "execution_count": null,
   "metadata": {},
   "outputs": [],
   "source": []
  }
 ],
 "metadata": {
  "kernelspec": {
   "display_name": "pangeo-fall2020",
   "language": "python",
   "name": "pangeo-fall2020"
  },
  "language_info": {
   "codemirror_mode": {
    "name": "ipython",
    "version": 3
   },
   "file_extension": ".py",
   "mimetype": "text/x-python",
   "name": "python",
   "nbconvert_exporter": "python",
   "pygments_lexer": "ipython3",
   "version": "3.7.8"
  }
 },
 "nbformat": 4,
 "nbformat_minor": 4
}
