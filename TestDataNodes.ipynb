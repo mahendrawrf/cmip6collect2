{
 "cells": [
  {
   "cell_type": "code",
   "execution_count": 1,
   "metadata": {},
   "outputs": [],
   "source": [
    "import requests \n",
    "import shutil\n",
    "import os\n",
    "import time\n",
    "import pandas as pd\n",
    "df_needed = pd.read_csv('csv/ESGF_fx-coremips.csv')"
   ]
  },
  {
   "cell_type": "code",
   "execution_count": 2,
   "metadata": {},
   "outputs": [
    {
     "name": "stdout",
     "output_type": "stream",
     "text": [
      "\n",
      " aims3.llnl.gov 27998\n",
      "27998 27998\n",
      "Download speed from aims3.llnl.gov was 54.2 Kb/s\n",
      "\n",
      " esgf-data1.llnl.gov 28152\n",
      "28152 28152\n",
      "Download speed from esgf-data1.llnl.gov was 52.8 Kb/s\n",
      "\n",
      " esgdata.gfdl.noaa.gov 69187\n",
      "did not return a netcdf file\n",
      "\n",
      " dpesgf03.nccs.nasa.gov 71476\n",
      "71476 71476\n",
      "Download speed from dpesgf03.nccs.nasa.gov was 622.3 Kb/s\n",
      "\n",
      " esgf-data3.diasjp.net 28455\n",
      "request timed out\n",
      "\n",
      " esgf-data.ucar.edu 1925948\n",
      "download incomplete\n",
      "\n",
      " crd-esgf-drc.ec.gc.ca 48050\n",
      "48050 48050\n",
      "Download speed from crd-esgf-drc.ec.gc.ca was 515.7 Kb/s\n",
      "\n",
      " esgf-data2.llnl.gov 52543\n",
      "52543 52543\n",
      "Download speed from esgf-data2.llnl.gov was 134.3 Kb/s\n",
      "\n",
      " esgf-data2.diasjp.net 51028\n",
      "51028 51028\n",
      "Download speed from esgf-data2.diasjp.net was 42.2 Kb/s\n"
     ]
    }
   ],
   "source": [
    "node_pref = {'esgf-data1.llnl.gov':0,'esgf-data2.llnl.gov':0,'aims3.llnl.gov':0,'esgdata.gfdl.noaa.gov':3,'esgf-data.ucar.edu':4,\n",
    " 'dpesgf03.nccs.nasa.gov':5,'crd-esgf-drc.ec.gc.ca':6, 'cmip.bcc.cma.cn':10, 'cmip.dess.tsinghua.edu.cn':10,\n",
    " 'cmip.fio.org.cn':10, 'dist.nmlab.snu.ac.kr':10, 'esg-cccr.tropmet.res.in':10, 'esg-dn1.nsc.liu.se':10,\n",
    " 'esg-dn2.nsc.liu.se':10, 'esg.camscma.cn':10, 'esg.lasg.ac.cn':10, 'esg1.umr-cnrm.fr':10, 'esgf-cnr.hpc.cineca.it':10,\n",
    " 'esgf-data2.diasjp.net':10, 'esgf-data3.ceda.ac.uk':10, 'esgf-data3.diasjp.net':10, 'esgf-nimscmip6.apcc21.org':10, 'esgf-node2.cmcc.it':10, \n",
    "             'esgf.bsc.es':10, 'esgf.dwd.de':10, 'esgf.ichec.ie':10, 'esgf.nci.org.au':10, 'esgf.rcec.sinica.edu.tw':10, 'esgf3.dkrz.de':10, \n",
    "             'noresg.nird.sigma2.no':10, 'polaris.pknu.ac.kr':10, 'vesg.ipsl.upmc.fr':10}\n",
    "\n",
    "nodes = df_needed.data_node.unique()\n",
    "\n",
    "for node in nodes:\n",
    "    df = df_needed[df_needed.data_node == node]\n",
    "    df = df.sort_values(by=['file_size'])\n",
    "    url = df.url.values[0]\n",
    "    expected_size = df.file_size.values[0]\n",
    "    print('\\n',node, expected_size)\n",
    "    tic = time.perf_counter()\n",
    "    try:\n",
    "        r = requests.get(url, timeout=3.1, stream=True)\n",
    "    except:\n",
    "        print('request timed out')\n",
    "        continue\n",
    "    if 'netcdf' in r.headers['content-type']:\n",
    "        with open('test.nc', 'wb') as f:\n",
    "            shutil.copyfileobj(r.raw, f)\n",
    "        toc = time.perf_counter()\n",
    "        actual_size = os.path.getsize('test.nc')\n",
    "        if int(expected_size) == actual_size:\n",
    "            print(expected_size, actual_size)\n",
    "            speed = actual_size/(toc-tic)/1.0e3\n",
    "            #print(f\"size:{actual_size} in seconds:{toc-tic}\")\n",
    "            print(f\"Download speed from {node} was {speed:0.1f} Kb/s\")\n",
    "        else:\n",
    "            print('download incomplete')\n",
    "    else:\n",
    "        print('did not return a netcdf file')"
   ]
  },
  {
   "cell_type": "code",
   "execution_count": null,
   "metadata": {},
   "outputs": [],
   "source": []
  },
  {
   "cell_type": "code",
   "execution_count": null,
   "metadata": {},
   "outputs": [],
   "source": []
  }
 ],
 "metadata": {
  "kernelspec": {
   "display_name": "pangeo-Oct2019",
   "language": "python",
   "name": "pangeo-oct2019"
  },
  "language_info": {
   "codemirror_mode": {
    "name": "ipython",
    "version": 3
   },
   "file_extension": ".py",
   "mimetype": "text/x-python",
   "name": "python",
   "nbconvert_exporter": "python",
   "pygments_lexer": "ipython3",
   "version": "3.7.3"
  }
 },
 "nbformat": 4,
 "nbformat_minor": 4
}
