{
 "cells": [
  {
   "cell_type": "code",
   "execution_count": 2,
   "metadata": {},
   "outputs": [
    {
     "name": "stderr",
     "output_type": "stream",
     "text": [
      "/usr/local/python/anaconda3/envs/pangeo-Oct2019/lib/python3.7/site-packages/IPython/core/interactiveshell.py:3146: DtypeWarning: Columns (15) have mixed types.Specify dtype option on import or set low_memory=False.\n",
      "  interactivity=interactivity, compiler=compiler, result=result)\n"
     ]
    }
   ],
   "source": [
    "import requests \n",
    "import shutil\n",
    "import os\n",
    "import time\n",
    "import pandas as pd\n",
    "df_needed = pd.read_csv('csv/ESGF_SIm-1c.csv')"
   ]
  },
  {
   "cell_type": "code",
   "execution_count": 8,
   "metadata": {},
   "outputs": [
    {
     "name": "stdout",
     "output_type": "stream",
     "text": [
      "\n",
      " aims3.llnl.gov size of file: 2406.245744 Mb\n",
      "2406245744 2406245744\n",
      "Download speed from aims3.llnl.gov was 17.6 Mb/s\n",
      "\n",
      " esgf-data1.llnl.gov size of file: 2406.245936 Mb\n",
      "2406245936 2406245936\n",
      "Download speed from esgf-data1.llnl.gov was 17.5 Mb/s\n",
      "\n",
      " esgf-nimscmip6.apcc21.org size of file: 576.075364 Mb\n",
      "request timed out\n",
      "\n",
      " esgf-data2.diasjp.net size of file: 683.968848 Mb\n",
      "request timed out\n",
      "\n",
      " dpesgf03.nccs.nasa.gov size of file: 62.240944 Mb\n",
      "62240944 62240944\n",
      "Download speed from dpesgf03.nccs.nasa.gov was 34.9 Mb/s\n",
      "\n",
      " esgf-data3.diasjp.net size of file: 2980.938239 Mb\n",
      "request timed out\n",
      "\n",
      " crd-esgf-drc.ec.gc.ca size of file: 167.334206 Mb\n",
      "167334206 167334206\n",
      "Download speed from crd-esgf-drc.ec.gc.ca was 32.7 Mb/s\n",
      "\n",
      " esgf-data2.llnl.gov size of file: 49.93037 Mb\n",
      "49930370 49930370\n",
      "Download speed from esgf-data2.llnl.gov was 25.7 Mb/s\n",
      "\n",
      " esgf-data.ucar.edu size of file: 66.230409 Mb\n",
      "66230409 66230409\n",
      "Download speed from esgf-data.ucar.edu was 46.0 Mb/s\n"
     ]
    }
   ],
   "source": [
    "node_pref = {'esgf-data1.llnl.gov':0,'esgf-data2.llnl.gov':0,'aims3.llnl.gov':0,'esgdata.gfdl.noaa.gov':3,'esgf-data.ucar.edu':4,\n",
    " 'dpesgf03.nccs.nasa.gov':5,'crd-esgf-drc.ec.gc.ca':6, 'cmip.bcc.cma.cn':10, 'cmip.dess.tsinghua.edu.cn':10,\n",
    " 'cmip.fio.org.cn':10, 'dist.nmlab.snu.ac.kr':10, 'esg-cccr.tropmet.res.in':10, 'esg-dn1.nsc.liu.se':10,\n",
    " 'esg-dn2.nsc.liu.se':10, 'esg.camscma.cn':10, 'esg.lasg.ac.cn':10, 'esg1.umr-cnrm.fr':10, 'esgf-cnr.hpc.cineca.it':10,\n",
    " 'esgf-data2.diasjp.net':10, 'esgf-data3.ceda.ac.uk':10, 'esgf-data3.diasjp.net':10, 'esgf-nimscmip6.apcc21.org':10, 'esgf-node2.cmcc.it':10, \n",
    " 'esgf.bsc.es':10, 'esgf.dwd.de':10, 'esgf.ichec.ie':10, 'esgf.nci.org.au':10, 'esgf.rcec.sinica.edu.tw':10, 'esgf3.dkrz.de':10, \n",
    " 'noresg.nird.sigma2.no':10, 'polaris.pknu.ac.kr':10, 'vesg.ipsl.upmc.fr':10}\n",
    "\n",
    "nodes = df_needed.data_node.unique()\n",
    "\n",
    "for node in nodes:\n",
    "    df = df_needed[df_needed.data_node == node]\n",
    "    if node == 'esg.lasg.ac.cn':\n",
    "        print(node, 'too slow to measure properly')\n",
    "        continue\n",
    "    df = df.sort_values(by=['file_size'])\n",
    "    url = df.url.values[-1]  # try on largest file\n",
    "    expected_size = df[df.url==url].file_size.values[0]\n",
    "    print('\\n',node, 'size of file:', expected_size/1e6,'Mb')\n",
    "    tic = time.perf_counter()\n",
    "    try:\n",
    "        r = requests.get(url, timeout=3.1, stream=True)\n",
    "    except:\n",
    "        print('request timed out')\n",
    "        continue\n",
    "    if 'netcdf' in r.headers['content-type']:\n",
    "        with open('test.nc', 'wb') as f:\n",
    "            shutil.copyfileobj(r.raw, f)\n",
    "        toc = time.perf_counter()\n",
    "        actual_size = os.path.getsize('test.nc')\n",
    "        if int(expected_size) == actual_size:\n",
    "            print(expected_size, actual_size)\n",
    "            speed = actual_size/(toc-tic)/1.0e6\n",
    "            #print(f\"size:{actual_size} in seconds:{toc-tic}\")\n",
    "            print(f\"Download speed from {node} was {speed:0.1f} Mb/s\")\n",
    "        else:\n",
    "            print('download incomplete')\n",
    "    else:\n",
    "        print('did not return a netcdf file')"
   ]
  },
  {
   "cell_type": "code",
   "execution_count": null,
   "metadata": {},
   "outputs": [],
   "source": []
  },
  {
   "cell_type": "code",
   "execution_count": 7,
   "metadata": {},
   "outputs": [
    {
     "data": {
      "text/plain": [
       "array(['aims3.llnl.gov', 'esgf-data1.llnl.gov',\n",
       "       'esgf-nimscmip6.apcc21.org', 'esgf-data2.diasjp.net',\n",
       "       'dpesgf03.nccs.nasa.gov', 'esg.lasg.ac.cn',\n",
       "       'esgf-data3.diasjp.net', 'crd-esgf-drc.ec.gc.ca',\n",
       "       'esgf-data2.llnl.gov', 'esgf-data.ucar.edu'], dtype=object)"
      ]
     },
     "execution_count": 7,
     "metadata": {},
     "output_type": "execute_result"
    }
   ],
   "source": [
    "nodes"
   ]
  },
  {
   "cell_type": "code",
   "execution_count": null,
   "metadata": {},
   "outputs": [],
   "source": []
  }
 ],
 "metadata": {
  "kernelspec": {
   "display_name": "pangeo-Oct2019",
   "language": "python",
   "name": "pangeo-oct2019"
  },
  "language_info": {
   "codemirror_mode": {
    "name": "ipython",
    "version": 3
   },
   "file_extension": ".py",
   "mimetype": "text/x-python",
   "name": "python",
   "nbconvert_exporter": "python",
   "pygments_lexer": "ipython3",
   "version": "3.7.3"
  }
 },
 "nbformat": 4,
 "nbformat_minor": 4
}
