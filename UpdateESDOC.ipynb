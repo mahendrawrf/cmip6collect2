{
 "cells": [
  {
   "cell_type": "code",
   "execution_count": null,
   "metadata": {},
   "outputs": [],
   "source": [
    "import os\n",
    "import pandas as pd\n",
    "from glob import glob\n",
    "import json\n",
    "import urllib.request, json\n",
    "import datetime\n",
    "from ast import literal_eval"
   ]
  },
  {
   "cell_type": "raw",
   "metadata": {},
   "source": [
    "# as root:\n",
    "git clone https://github.com/ES-DOC/esdoc-errata-client.git\n",
    "cd esdoc-errata-client\n",
    "python setup.py install"
   ]
  },
  {
   "cell_type": "markdown",
   "metadata": {},
   "source": [
    "## Check the ES-DOC errata pages for updates\n",
    "- make 'csv/errata-files.csv' for using to make the updated catalog (MakeCloudCat.ipynb)\n",
    "https://es-doc.github.io/esdoc-errata-client/installation.html\n",
    "- many questions remain:\n",
    "  - does status=resolved mean these files have been REPLACED? same version?\n",
    "  - what do the various severity levels really mean? seems to be different for different models\n",
    "  - could make a list of changed/new issues\n",
    "  - could go through all 200+ issues and evaluate - feasible? make new boolean column 'include'\n",
    "  - how to more efficiently deal with issues with >1,000 files, etc"
   ]
  },
  {
   "cell_type": "raw",
   "metadata": {},
   "source": [
    "# Sometimes the esgissue does NOT WORK, then will need to go back to old way:\n",
    "\n",
    "- Navigate to:  https://errata.es-doc.org/static/index.html\n",
    "\n",
    "- Use chrome to download 'Web Page single file' for each set of 100 issues into ES-DOC?.mht \n",
    "\n",
    "/bin/grep \"<tr id=\" ES-DOC1.mht > issues.txt\n",
    "/bin/grep \"<tr id=\" ES-DOC2.mht >> issues.txt\n",
    "/bin/grep \"<tr id=\" ES-DOC3.mht >> issues.txt\n",
    "/bin/grep \"<tr id=\" ES-DOC4.mht >> issues.txt"
   ]
  },
  {
   "cell_type": "raw",
   "metadata": {},
   "source": [
    "# `esgissue retrieve` not working for getting all at once:\n",
    "\n",
    "2020/12/24 03:31:00 PM INFO Processing requested issue id list...\n",
    "2020/12/24 03:31:00 PM INFO Starting issue archiving process...\n",
    "2020/12/24 03:36:00 PM WARNING 31\n",
    "2020/12/24 03:36:00 PM ERROR An unknown error has been detected. Please provide the admins with the error stack. Error code: 99.\n",
    "2020/12/24 03:36:00 PM ERROR Error caused by ServerDownException().\n",
    "\n",
    "still not working 2021/02/12, or 2021/09/27"
   ]
  },
  {
   "cell_type": "code",
   "execution_count": null,
   "metadata": {},
   "outputs": [],
   "source": [
    "# use the ORIGINAL INEFFICIENT METHOD - since  `esgissue retrieve` still does not work\n",
    "#! mkdir issues_new dsets_new\n",
    "cwd = os.getcwd()\n",
    "with open('issues.txt', 'r') as f:\n",
    "    for line in f:\n",
    "        issue_id = line.strip().split('\\\"')[1]\n",
    "        command = f'/usr/local/python/anaconda3/bin/esgissue retrieve -i {cwd}/issues_new -d {cwd}/dsets_new --id {issue_id}'\n",
    "        #print(command)\n",
    "        os.system(command)"
   ]
  },
  {
   "cell_type": "code",
   "execution_count": null,
   "metadata": {},
   "outputs": [],
   "source": [
    "# maybe we should delete contents of issues and dsets directories?\n",
    "# os/system('rm -rf issues dsets')\n",
    "#command = '/usr/local/python/anaconda3/envs/pangeo-Oct2019/bin/esgissue retrieve -i $PWD/issues -d $PWD/dsets'\n",
    "#command = 'esgissue retrieve -i $PWD/issues -d $PWD/dsets'\n",
    "#os.system(command)\n",
    "\n",
    "ifiles = glob('issues_new/issue*.json')\n",
    "issues = [ifile.split('issue_')[1].split('.json')[0] for ifile in ifiles]\n",
    "len(issues),issues[:4]"
   ]
  },
  {
   "cell_type": "code",
   "execution_count": null,
   "metadata": {},
   "outputs": [],
   "source": [
    "make_new = False\n",
    "\n",
    "if make_new:\n",
    "    \n",
    "    df = pd.DataFrame(columns=['uid', 'title', 'description', 'project', 'severity', 'status','urls'])\n",
    "    df_list = []\n",
    "    for item,issue in enumerate(issues):\n",
    "        file_dsets = 'dsets_new/dset_'+issue+'.txt'\n",
    "\n",
    "        if not os.path.isfile(file_dsets):\n",
    "            file_dsets = 'dsets_new/dset_none.txt'\n",
    "\n",
    "        file_issue = 'issues_new/issue_'+issue+'.json'\n",
    "\n",
    "        with open(file_issue) as json_file:\n",
    "            dict_issue = json.load(json_file)\n",
    "\n",
    "        try:\n",
    "            dlist = dict_issue['urls']\n",
    "        except:\n",
    "            dict_issue['urls'] = []\n",
    "\n",
    "        df = df.append(dict_issue,ignore_index=True)\n",
    "        #print(item,file_dsets)\n",
    "\n",
    "        df_dsets = pd.read_csv(file_dsets,delim_whitespace=True,header=None)\n",
    "        df_dsets = df_dsets.rename(columns={0: \"file_id\"}).set_index([df_dsets.index])\n",
    "        df_list += [list(df_dsets.file_id.values)]\n",
    "\n",
    "    df['file_ids'] = df_list\n",
    "    df = df.rename(columns={\"uid\": \"issue_uid\"})\n",
    "\n",
    "    df.to_csv('csv/ES-DOC_issues.csv', index=False)\n",
    "    df.issue_uid.nunique()\n",
    "else:\n",
    "    df = pd.read_csv('csv/ES-DOC_issues.csv', converters={\"file_ids\": literal_eval})    "
   ]
  },
  {
   "cell_type": "code",
   "execution_count": null,
   "metadata": {},
   "outputs": [],
   "source": [
    "keywords = ['issue_uid','source_id', 'experiment_id', 'member_id', 'table_id', 'variable_id', 'grid_label', 'version', 'file_id','status','severity','issue_url']\n",
    "df_all = []\n",
    "for index, row in df.iterrows():\n",
    "    #if index > 200:\n",
    "    #    continue\n",
    "    file_id = row['file_ids']\n",
    "    issue = row['issue_uid']\n",
    "    status = row['status']\n",
    "    severity = row['severity']\n",
    "    issue_url = \"https://errata.es-doc.org/static/view.html?uid=\"+issue\n",
    "    dfs = pd.DataFrame(columns=keywords)\n",
    "    print(index, ': issue uid:', issue, ', number of affected files:',len(file_id))\n",
    "\n",
    "    for file in file_id:\n",
    "        try:\n",
    "            [fill,activity_id,institution_id,source_id,experiment_id,member_id,table_id,variable_id,grid_version] = file.split('.')\n",
    "            [grid_label,version] = grid_version.split('#')\n",
    "            klist = [issue,source_id,experiment_id,member_id,table_id,variable_id,grid_label,version,file,status,severity,issue_url]\n",
    "            kdict = dict(zip(keywords, klist))\n",
    "            dfs = dfs.append(kdict,ignore_index=True)\n",
    "        except:   # one issue has a list of datasets with two lines that need to be split apart\n",
    "            [s1,s2,s3]=file.split('CMIP6')\n",
    "            files = ['CMIP6'+s2,'CMIP6'+s3]\n",
    "            for f in files:\n",
    "                [fill,activity_id,institution_id,source_id,experiment_id,member_id,table_id,variable_id,grid_version] = f.split('.')\n",
    "                [grid_label,version] = grid_version.split('#')\n",
    "                klist = [issue,source_id,experiment_id,member_id,table_id,variable_id,grid_label,version,f,status,severity,issue_url]\n",
    "                kdict = dict(zip(keywords, klist))\n",
    "                dfs = dfs.append(kdict,ignore_index=True)\n",
    "    df_all += [dfs]\n",
<<<<<<< HEAD
    "df_expand = pd.concat(df_all,sort=False).drop_duplicates(subset =[\"file_id\"])"
=======
    "df_expand0 = pd.concat(df_all,sort=False).drop_duplicates(subset =[\"file_id\"])"
>>>>>>> 8be4ee70739c76bb90d5515897d14acaf7a2b832
   ]
  },
  {
   "cell_type": "code",
   "execution_count": null,
   "metadata": {},
   "outputs": [],
   "source": [
<<<<<<< HEAD
    "df_expand[['source_id','file_id']].groupby(['source_id']).count()\n",
    "df_expand.head()"
=======
    "df_expand0[['source_id','file_id']].groupby(['source_id']).count()\n",
    "df_expand0.head()"
>>>>>>> 8be4ee70739c76bb90d5515897d14acaf7a2b832
   ]
  },
  {
   "cell_type": "code",
   "execution_count": null,
   "metadata": {},
   "outputs": [],
   "source": [
    "date = str(datetime.datetime.now().strftime(\"%Y%m%d\"))\n",
    "os.system('cp csv/errata-files.csv csv/errata-files-'+date+'.csv')\n",
    "df_expand0.to_csv('csv/errata-files.csv', mode='w+', index=False)"
   ]
  },
  {
   "cell_type": "code",
   "execution_count": null,
   "metadata": {},
   "outputs": [],
   "source": []
  }
 ],
 "metadata": {
  "kernelspec": {
   "display_name": "pangeo-Jul2020",
   "language": "python",
   "name": "pangeo-jul2020"
  },
  "language_info": {
   "codemirror_mode": {
    "name": "ipython",
    "version": 3
   },
   "file_extension": ".py",
   "mimetype": "text/x-python",
   "name": "python",
   "nbconvert_exporter": "python",
   "pygments_lexer": "ipython3",
   "version": "3.7.6"
  },
  "widgets": {
   "application/vnd.jupyter.widget-state+json": {
    "state": {},
    "version_major": 2,
    "version_minor": 0
   }
  }
 },
 "nbformat": 4,
 "nbformat_minor": 4
}
