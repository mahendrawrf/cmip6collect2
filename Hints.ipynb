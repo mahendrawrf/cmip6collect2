{
 "cells": [
  {
   "cell_type": "code",
   "execution_count": 1,
   "metadata": {},
   "outputs": [],
   "source": [
    "import pandas as pd\n",
    "import zarr\n",
    "import fsspec"
   ]
  },
  {
   "cell_type": "code",
   "execution_count": 3,
   "metadata": {},
   "outputs": [],
   "source": [
    "from myidentify import tracks2version, tracks2source, jdict2source, id2jdict\n",
    "from myutilities import search_df\n",
    "from mysearch import esgf_search\n",
    "import myconfig"
   ]
  },
  {
   "cell_type": "code",
   "execution_count": 4,
   "metadata": {},
   "outputs": [],
   "source": [
    "def gsurl2tracks(gsurl):\n",
    "    mapper = fsspec.get_mapper(gsurl)\n",
    "    group = zarr.open_consolidated(mapper)\n",
    "    tracks = group.attrs['tracking_id']\n",
    "    tracking_ids = tracks.split('\\n')\n",
    "\n",
    "    if len(tracking_ids) != len(set(tracking_ids)):\n",
    "        msg = f'\\nnetcdf file tracking_ids are NOT UNIQUE!\\n{tracking_ids}\\n'\n",
    "        warnings.warn(\"\\n\" + msg)\n",
    "\n",
    "    return tracks"
   ]
  },
  {
   "cell_type": "code",
   "execution_count": 11,
   "metadata": {},
   "outputs": [],
   "source": [
    "dfcat = pd.read_csv('https://cmip6.storage.googleapis.com/cmip6-zarr-consolidated-stores-noQC.csv', dtype='unicode')"
   ]
  },
  {
   "cell_type": "code",
   "execution_count": 25,
   "metadata": {},
   "outputs": [
    {
     "name": "stdout",
     "output_type": "stream",
     "text": [
      "{'mip_era': 'CMIP6', 'activity_id': 'AerChemMIP', 'institution_id': 'AS-RCEC', 'source_id': 'TaiESM1', 'experiment_id': 'histSST', 'member_id': 'r1i1p1f1', 'table_id': 'AERmon', 'variable_id': 'od550aer', 'grid_label': 'gn'}\n"
     ]
    },
    {
     "data": {
      "text/html": [
       "<div>\n",
       "<style scoped>\n",
       "    .dataframe tbody tr th:only-of-type {\n",
       "        vertical-align: middle;\n",
       "    }\n",
       "\n",
       "    .dataframe tbody tr th {\n",
       "        vertical-align: top;\n",
       "    }\n",
       "\n",
       "    .dataframe thead th {\n",
       "        text-align: right;\n",
       "    }\n",
       "</style>\n",
       "<table border=\"1\" class=\"dataframe\">\n",
       "  <thead>\n",
       "    <tr style=\"text-align: right;\">\n",
       "      <th></th>\n",
       "      <th>activity_id</th>\n",
       "      <th>institution_id</th>\n",
       "      <th>source_id</th>\n",
       "      <th>experiment_id</th>\n",
       "      <th>member_id</th>\n",
       "      <th>table_id</th>\n",
       "      <th>variable_id</th>\n",
       "      <th>grid_label</th>\n",
       "      <th>version_id</th>\n",
       "      <th>ncfile</th>\n",
       "      <th>file_size</th>\n",
       "      <th>url</th>\n",
       "      <th>data_node</th>\n",
       "      <th>ds_dir</th>\n",
       "      <th>node_order</th>\n",
       "      <th>start</th>\n",
       "      <th>stop</th>\n",
       "    </tr>\n",
       "  </thead>\n",
       "  <tbody>\n",
       "    <tr>\n",
       "      <th>0</th>\n",
       "      <td>AerChemMIP</td>\n",
       "      <td>AS-RCEC</td>\n",
       "      <td>TaiESM1</td>\n",
       "      <td>histSST</td>\n",
       "      <td>r1i1p1f1</td>\n",
       "      <td>AERmon</td>\n",
       "      <td>od550aer</td>\n",
       "      <td>gn</td>\n",
       "      <td>v20201223</td>\n",
       "      <td>od550aer_AERmon_TaiESM1_histSST_r1i1p1f1_gn_18...</td>\n",
       "      <td>244071707</td>\n",
       "      <td>https://esgf-data1.llnl.gov/thredds/fileServer...</td>\n",
       "      <td>esgf-data1.llnl.gov</td>\n",
       "      <td>AerChemMIP/AS-RCEC/TaiESM1/histSST/r1i1p1f1/AE...</td>\n",
       "      <td>0</td>\n",
       "      <td>185001</td>\n",
       "      <td>197912</td>\n",
       "    </tr>\n",
       "    <tr>\n",
       "      <th>1</th>\n",
       "      <td>AerChemMIP</td>\n",
       "      <td>AS-RCEC</td>\n",
       "      <td>TaiESM1</td>\n",
       "      <td>histSST</td>\n",
       "      <td>r1i1p1f1</td>\n",
       "      <td>AERmon</td>\n",
       "      <td>od550aer</td>\n",
       "      <td>gn</td>\n",
       "      <td>v20201223</td>\n",
       "      <td>od550aer_AERmon_TaiESM1_histSST_r1i1p1f1_gn_19...</td>\n",
       "      <td>65768031</td>\n",
       "      <td>https://esgf-data1.llnl.gov/thredds/fileServer...</td>\n",
       "      <td>esgf-data1.llnl.gov</td>\n",
       "      <td>AerChemMIP/AS-RCEC/TaiESM1/histSST/r1i1p1f1/AE...</td>\n",
       "      <td>0</td>\n",
       "      <td>198001</td>\n",
       "      <td>201412</td>\n",
       "    </tr>\n",
       "  </tbody>\n",
       "</table>\n",
       "</div>"
      ],
      "text/plain": [
       "  activity_id institution_id source_id experiment_id member_id table_id  \\\n",
       "0  AerChemMIP        AS-RCEC   TaiESM1       histSST  r1i1p1f1   AERmon   \n",
       "1  AerChemMIP        AS-RCEC   TaiESM1       histSST  r1i1p1f1   AERmon   \n",
       "\n",
       "  variable_id grid_label version_id  \\\n",
       "0    od550aer         gn  v20201223   \n",
       "1    od550aer         gn  v20201223   \n",
       "\n",
       "                                              ncfile  file_size  \\\n",
       "0  od550aer_AERmon_TaiESM1_histSST_r1i1p1f1_gn_18...  244071707   \n",
       "1  od550aer_AERmon_TaiESM1_histSST_r1i1p1f1_gn_19...   65768031   \n",
       "\n",
       "                                                 url            data_node  \\\n",
       "0  https://esgf-data1.llnl.gov/thredds/fileServer...  esgf-data1.llnl.gov   \n",
       "1  https://esgf-data1.llnl.gov/thredds/fileServer...  esgf-data1.llnl.gov   \n",
       "\n",
       "                                              ds_dir  node_order   start  \\\n",
       "0  AerChemMIP/AS-RCEC/TaiESM1/histSST/r1i1p1f1/AE...           0  185001   \n",
       "1  AerChemMIP/AS-RCEC/TaiESM1/histSST/r1i1p1f1/AE...           0  198001   \n",
       "\n",
       "     stop  \n",
       "0  197912  \n",
       "1  201412  "
      ]
     },
     "execution_count": 25,
     "metadata": {},
     "output_type": "execute_result"
    }
   ],
   "source": [
    "# check current search results matching any dataset in GCS:\n",
    "\n",
    "target_keys = ['mip_era','activity_id','institution_id','source_id','experiment_id','member_id','table_id','variable_id','grid_label']\n",
    "\n",
    "def gsurl2search(gsurl):\n",
    "    values = gsurl[11:-1].split('/')\n",
    "    return dict(zip(target_keys,values))\n",
    "#gsurl = dfcat.zstore.values[0]\n",
    "\n",
    "gsurl = 'gs://cmip6/CMIP6/AerChemMIP/AS-RCEC/TaiESM1/histSST/r1i1p1f1/AERmon/od550aer/gn/'\n",
    "asearch = gsurl2search(gsurl)\n",
    "print(asearch)\n",
    "esgf_search(asearch, toFilter = False)"
   ]
  },
  {
   "cell_type": "code",
   "execution_count": 20,
   "metadata": {},
   "outputs": [
    {
     "name": "stdout",
     "output_type": "stream",
     "text": [
      "0.635802018 G\n"
     ]
    }
   ],
   "source": [
    "# check size of any dataset in GCS:\n",
    "\n",
    "import gcsfs\n",
    "fs = gcsfs.GCSFileSystem(token='anon')\n",
    "gsurl = 'gs://cmip6/CMIP6/CMIP/NCAR/CESM2/historical/r11i1p1f1/Oyr/expc/gr/v20190514/'\n",
    "size_remote = fs.du(gsurl)\n",
    "print(size_remote/1e9,'G')"
   ]
  },
  {
   "cell_type": "code",
   "execution_count": 29,
   "metadata": {},
   "outputs": [
    {
     "name": "stdout",
     "output_type": "stream",
     "text": [
      "gs://cmip6/CMIP6/CMIP/NCAR/CESM2/historical/r11i1p1f1/Oyr/expc/gr/v20190514/\n",
      "current version from GC catalog =  20190514\n",
      "current version from GC tracks =  ['20190514']\n",
      "latest version from handler =  20190514\n",
      "version(s) available from ESGF =  ['v20190514']\n"
     ]
    }
   ],
   "source": [
    "# check current and/or available versions for any dataset in GCS:\n",
    "gsurl_approx = 'gs://cmip6/CMIP6/CMIP/NCAR/CESM2/historical/r11i1p1f1/Oyr/expc/gr/'\n",
    "gsurl = dfcat[dfcat.zstore.str.contains(gsurl_approx)].zstore.values[0]\n",
    "print(gsurl)\n",
    "# If you just want to see the current version:\n",
    "version_cat = dfcat[dfcat.zstore.str.contains(gsurl)].version.values[0]\n",
    "print('current version from GC catalog = ',version_cat)\n",
    "\n",
    "# But this checks for all versions (as listed in the Data Handle Service)\n",
    "tracks = gsurl2tracks(gsurl)\n",
    "(version,jdict) = tracks2version(tracks)\n",
    "print('latest version from handler = ', version)\n",
    "\n",
    "# And this checks for all versions currently available in ESGF\n",
    "asearch = gsurl2search(gsurl)\n",
    "dfs = esgf_search(asearch, toFilter = False)\n",
    "version_ESGF = list(set(dfs.version_id))\n",
    "print('version(s) available from ESGF = ', version_ESGF)\n"
   ]
  },
  {
   "cell_type": "code",
   "execution_count": null,
   "metadata": {},
   "outputs": [],
   "source": [
    "# To make a dataframe of a google sheet\n",
    "#data = wks.get_all_values()\n",
    "#headers = data.pop(0)\n",
    "#pd.DataFrame(data, columns=headers)"
   ]
  },
  {
   "cell_type": "code",
   "execution_count": 30,
   "metadata": {},
   "outputs": [],
   "source": [
    "# THIS IS NEAT:\n",
    "#   get current counts for one experiement_id, table_id, by variable:\n",
    "import requests\n",
    "\n",
    "format = 'application%2Fsolr%2Bjson'\n",
    "table = 'SImon'\n",
    "exp = 'historical'\n",
    "url = f'https://esgf-node.llnl.gov/esg-search/search?format={format}&experiment_id={exp}&table_id={table}&facets=variable_id&limit=0'\n",
    "r = requests.get(url)\n",
    "vcount = r.json()['facet_counts']['facet_fields']['variable_id']\n",
    "variables = vcount[::2]\n",
    "var_count = vcount[1::2]\n",
    "vardict = dict(zip(variables,var_count))"
   ]
  },
  {
   "cell_type": "code",
   "execution_count": 31,
   "metadata": {},
   "outputs": [
    {
     "data": {
      "text/plain": [
       "{'sndmasswindrif': 12,\n",
       " 'simprefrozen': 32,\n",
       " 'siitdsnconc': 61,\n",
       " 'sidragbot': 62,\n",
       " 'sirdgthick': 67,\n",
       " 'sidragtop': 87,\n",
       " 'sistresave': 137,\n",
       " 'sisali': 139,\n",
       " 'sistremax': 139,\n",
       " 'sishevel': 145,\n",
       " 'siitdsnthick': 150,\n",
       " 'sirdgconc': 157,\n",
       " 'siitdthick': 162,\n",
       " 'sndmasssubl': 165,\n",
       " 'siflswdbot': 167,\n",
       " 'siitdconc': 172,\n",
       " 'simpmass': 199,\n",
       " 'sfdsi': 205,\n",
       " 'siforcetiltx': 205,\n",
       " 'siforcetilty': 205,\n",
       " 'siforceintstrx': 233,\n",
       " 'siforceintstry': 240,\n",
       " 'siforcecoriolx': 242,\n",
       " 'siforcecorioly': 246,\n",
       " 'siareaacrossline': 250,\n",
       " 'snmassacrossline': 251,\n",
       " 'siflfwdrain': 260,\n",
       " 'sidivvel': 263,\n",
       " 'sitempsnic': 264,\n",
       " 'sisaltmass': 266,\n",
       " 'sndmassdyn': 282,\n",
       " 'simpconc': 284,\n",
       " 'sndmasssi': 299,\n",
       " 'simassacrossline': 309,\n",
       " 'sitempbot': 329,\n",
       " 'siflsensupbot': 332,\n",
       " 'siextentn': 345,\n",
       " 'siextents': 345,\n",
       " 'siflfwbot': 352,\n",
       " 'siflcondbot': 357,\n",
       " 'sifb': 359,\n",
       " 'sisnhc': 363,\n",
       " 'sifllatstop': 376,\n",
       " 'sicompstren': 398,\n",
       " 'sidconcdyn': 402,\n",
       " 'sidmassth': 406,\n",
       " 'siflswutop': 410,\n",
       " 'sidconcth': 411,\n",
       " 'sidmassdyn': 415,\n",
       " 'siflsenstop': 418,\n",
       " 'sifllwdtop': 421,\n",
       " 'sivols': 423,\n",
       " 'sivoln': 424,\n",
       " 'siage': 427,\n",
       " 'sistrydtop': 434,\n",
       " 'siarean': 435,\n",
       " 'sifllwutop': 436,\n",
       " 'sistrxdtop': 436,\n",
       " 'siareas': 437,\n",
       " 'siflswdtop': 458,\n",
       " 'sidmasslat': 473,\n",
       " 'sndmassmelt': 504,\n",
       " 'sihc': 554,\n",
       " 'sipr': 558,\n",
       " 'siflcondtop': 571,\n",
       " 'sistryubot': 578,\n",
       " 'sistrxubot': 580,\n",
       " 'sidmassevapsubl': 625,\n",
       " 'sidmassgrowthbot': 642,\n",
       " 'sidmasstranx': 643,\n",
       " 'sidmasstrany': 648,\n",
       " 'sidmassgrowthwat': 660,\n",
       " 'sisnconc': 661,\n",
       " 'sidmasssi': 667,\n",
       " 'sidmassmeltbot': 681,\n",
       " 'sidmassmelttop': 684,\n",
       " 'sndmasssnf': 787,\n",
       " 'sisnmass': 788,\n",
       " 'siconca': 862,\n",
       " 'sispeed': 888,\n",
       " 'sitimefrac': 939,\n",
       " 'sitemptop': 965,\n",
       " 'sivol': 1007,\n",
       " 'sisnthick': 1115,\n",
       " 'siu': 1322,\n",
       " 'simass': 1325,\n",
       " 'siv': 1327,\n",
       " 'sithick': 1645,\n",
       " 'siconc': 2064}"
      ]
     },
     "execution_count": 31,
     "metadata": {},
     "output_type": "execute_result"
    }
   ],
   "source": [
    "D = {k: v for k, v in sorted(vardict.items(), key=lambda x: x[1])}\n",
    "#plt.bar(range(len(D)), list(D.values()), align='center')\n",
    "#plt.xticks(range(len(D)), list(D.keys()))\n",
    "#plt.show()\n",
    "D"
   ]
  }
 ],
 "metadata": {
  "kernelspec": {
   "display_name": "pangeo-Oct2019",
   "language": "python",
   "name": "pangeo-oct2019"
  },
  "language_info": {
   "codemirror_mode": {
    "name": "ipython",
    "version": 3
   },
   "file_extension": ".py",
   "mimetype": "text/x-python",
   "name": "python",
   "nbconvert_exporter": "python",
   "pygments_lexer": "ipython3",
   "version": "3.7.3"
  }
 },
 "nbformat": 4,
 "nbformat_minor": 4
}
