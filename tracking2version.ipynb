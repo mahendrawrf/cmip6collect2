{
 "cells": [
  {
   "cell_type": "markdown",
   "metadata": {},
   "source": [
    "# Data Handles (aka persistent identifiers)\n",
    "- Each netcdf file should correspond to a UNIQUE handle, which is called the tracking_id in CMIP6-world.\n",
    "- We can get information about these tracking_ids from the German Climate Computing Centre at http://handle-esgf.dkrz.de\n",
    "\n",
    "### For example,\n",
    "- given tracking_id = hdl:21.14100/2f67746f-580b-4750-a25f-ce2559d1c57b\n",
    "\n",
    "- We can append the tracking_id to 'http://hdl.handle.net/' which re-directs to 'https://handle-esgf.dkrz.de/lp/21.14100/2f67746f-580b-4750-a25f-ce2559d1c57b' (try it out).\n",
    "This gives us the following information:\n",
    "\n",
    "```\n",
    "       netcdf_file    = 'expc_Oyr_CESM2_historical_r11i1p1f1_gr_1850-1899.nc'\n",
    "       file_size      = 440729165  \n",
    "       source_url     = 'http://esgf-data.ucar.edu/thredds/fileServer/esg_dataroot/CMIP6/CMIP/NCAR/CESM2/historical/r11i1p1f1/\n",
    "                      Oyr/expc/gr/v20190514/expc_Oyr_CESM2_historical_r11i1p1f1_gr_1850-1899.nc'\n",
    "       aggregation_id = 'hdl:21.14100/f03d7841-e21a-31fd-88c6-9632c0e2c5b1'  \n",
    "       dataset_id     = 'CMIP6.CMIP.NCAR.CESM2.historical.r11i1p1f1.Oyr.expc.gr'\n",
    "       version        = 20190514\n",
    "       \n",
    "```  \n",
    "\n",
    "- If you now follow the link to the aggregation, you see the following list of netcdf files and their corresponding tracking_ids, including the netcdf file with our given tracking_id (expc_Oyr_CESM2_historical_r11i1p1f1_gr_1850-1899.nc):\n",
    "\n",
    "```\n",
    "       expc_Oyr_CESM2_historical_r11i1p1f1_gr_1950-1999.nc\thdl:21.14100/9c92b764-4f3e-4aa2-9f4b-5a7612cf660f  \n",
    "       expc_Oyr_CESM2_historical_r11i1p1f1_gr_2000-2014.nc\thdl:21.14100/405705f5-6566-4cad-83c1-07ce60e82fcb  \n",
    "       expc_Oyr_CESM2_historical_r11i1p1f1_gr_1900-1949.nc\thdl:21.14100/eab727d0-c996-419f-8f38-1bd79641aca4  \n",
    "       expc_Oyr_CESM2_historical_r11i1p1f1_gr_1850-1899.nc\thdl:21.14100/2f67746f-580b-4750-a25f-ce2559d1c57b  \n",
    "```\n",
    "\n",
    "- Note that this is a list of all netcdf files which were concatenated in time to make the complete dataset: 'CMIP6.CMIP.NCAR.CESM2.historical.r11i1p1f1.Oyr.expc.gr'"
   ]
  },
  {
   "cell_type": "markdown",
   "metadata": {},
   "source": [
    "# Zarr store persistent identifier\n",
    "- Each zarr store in our Cloud collection also has a tracking_id. This tracking id is the concatenation of tracking_ids for all netcdf file in the aggregation.\n",
    "\n",
    "### For example,\n",
    "- For the zarr store = 'gs://cmip6/CMIP/NCAR/CESM2/historical/r11i1p1f1/Oyr/expc/gr':\n",
    "\n",
    "``` \n",
    "ds = xr.open_zarr(fsspec.get_mapper('gs://cmip6/ScenarioMIP/DKRZ/MPI-ESM1-2-HR/ssp370/r1i1p1f1/Amon/prc/gn'),consolidated=True)\n",
    "ds.attrs['tracking_id']) \n",
    "\n",
    "'hdl:21.14100/2f67746f-580b-4750-a25f-ce2559d1c57b\\nhdl:21.14100/eab727d0-c996-419f-8f38-1bd79641aca4\\nhdl:21.14100/9c92b764-4f3e-4aa2-9f4b-5a7612cf660f\\nhdl:21.14100/405705f5-6566-4cad-83c1-07ce60e82fcb'\n",
    "```"
   ]
  },
  {
   "cell_type": "markdown",
   "metadata": {},
   "source": [
    "# GOAL: Finding version_id for each zarr store\n",
    "Once we know the version_id for each zarr store, we can iterate through the catalog and replace old versions with new versions when they become available. \n",
    "\n",
    "- Unfortunately, the version_id is NOT contained in the netcdf file metadata, nor as part of the netcdf file's name.  Since we download the netcdf files (using GLOBUS or wget), the directory structure of the source machine is lost and therefore the version_id is lost.   \n",
    "- Fortunately, using the Handle REST API, we can find the version_id corresponding to the constituent tracking_ids of each zarr store.\n",
    "- Ideally, each netcdf file would have a UNIQUE tracking_id.  This is not always true (e.g., CESM assigns same tracking_id to multiple netcdf files).\n",
    "- Ideally, each aggregation consists of netcdf files with known tracking_ids.  This is not always true (e.g., the netcdf file was not properly registered)\n",
    "- Ideally, each aggregation corresponds to a single version_id.  This is not always true, either.\n",
    "- Ideally, each zarr store has tracking_ids corresponding to the same aggregation. This happens, for example, if the netcdf files from the ESGF search API were not all from the same version. (For example, v20191201 and v20191202). \n",
    "- If all of the above are true, than each zarr store would correspond to a unique version_id.  \n"
   ]
  },
  {
   "cell_type": "markdown",
   "metadata": {},
   "source": [
    "### So here is code to get a version_id from the zarr store's tracking_id"
   ]
  },
  {
   "cell_type": "code",
   "execution_count": 1,
   "metadata": {},
   "outputs": [],
   "source": [
    "import requests"
   ]
  },
  {
   "cell_type": "code",
   "execution_count": 2,
   "metadata": {},
   "outputs": [],
   "source": [
    "client = requests.session()\n",
    "baseurl =  'http://hdl.handle.net/api/handles/'\n",
    "query1 = '?type=IS_PART_OF'\n",
    "query2 = '?type=VERSION_NUMBER'"
   ]
  },
  {
   "cell_type": "code",
   "execution_count": 7,
   "metadata": {},
   "outputs": [
    {
     "name": "stdout",
     "output_type": "stream",
     "text": [
      "dataset_id =  ['CMIP6.CMIP.NCAR.CESM2.historical.r11i1p1f1.Oyr.expc.gr'] \n",
      "\n",
      "version_id =  ['20190514'] \n",
      "\n",
      "aggregation_id =  ['hdl:21.14100/f03d7841-e21a-31fd-88c6-9632c0e2c5b1'] \n",
      "\n"
     ]
    }
   ],
   "source": [
    "# given the zarr store tracking_ids, find the dataset tracking_id and then the version of the dataset\n",
    "\n",
    "# CESM2 - doesn't have unique tracking_id for each file?!\n",
    "#tracking_ids = \"hdl:21.14100/33cbdc29-fbc9-44ab-9e09-5dc7824441cf\\nhdl:21.14100/33cbdc29-fbc9-44ab-9e09-5dc7824441cf\"\n",
    "\n",
    "tracking_ids = 'hdl:21.14100/2f67746f-580b-4750-a25f-ce2559d1c57b\\nhdl:21.14100/eab727d0-c996-419f-8f38-1bd79641aca4\\nhdl:21.14100/9c92b764-4f3e-4aa2-9f4b-5a7612cf660f\\nhdl:21.14100/405705f5-6566-4cad-83c1-07ce60e82fcb'\n",
    "\n",
    "aggregations = []\n",
    "versions = []\n",
    "datasets = []\n",
    "for file_tracking_id in tracking_ids.split('\\n'):\n",
    "    url1 = baseurl + file_tracking_id[4:]+query1\n",
    "    r = client.get(url1)\n",
    "    r.raise_for_status()\n",
    "    dataset_tracking_id = r.json()['values'][0]['data']['value']\n",
    "    aggregations += [dataset_tracking_id]\n",
    "    url2 = baseurl + dataset_tracking_id[4:] + query2\n",
    "    r = client.get(url2)\n",
    "    r.raise_for_status()\n",
    "    versions += [r.json()['values'][0]['data']['value']]\n",
    "    url = baseurl + dataset_tracking_id[4:]\n",
    "    r = client.get(url)\n",
    "    r.raise_for_status()\n",
    "    datasets += [r.json()['values'][3]['data']['value']]\n",
    "\n",
    "aggregation_id = list(set(aggregations)) \n",
    "version_id = list(set(versions))\n",
    "dataset_id = list(set(datasets))\n",
    "    \n",
    "print('dataset_id = ',dataset_id,'\\n')\n",
    "print('version_id = ',version_id,'\\n')\n",
    "print('aggregation_id = ', aggregation_id,'\\n')"
   ]
  }
 ],
 "metadata": {
  "kernelspec": {
   "display_name": "pangeo-Oct2019",
   "language": "python",
   "name": "pangeo-oct2019"
  },
  "language_info": {
   "codemirror_mode": {
    "name": "ipython",
    "version": 3
   },
   "file_extension": ".py",
   "mimetype": "text/x-python",
   "name": "python",
   "nbconvert_exporter": "python",
   "pygments_lexer": "ipython3",
   "version": "3.7.3"
  }
 },
 "nbformat": 4,
 "nbformat_minor": 4
}
