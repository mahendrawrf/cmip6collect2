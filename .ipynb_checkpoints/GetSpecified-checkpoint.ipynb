{
 "cells": [
  {
   "cell_type": "code",
   "execution_count": null,
   "metadata": {},
   "outputs": [],
   "source": [
    "import pandas as pd\n",
    "import gcsfs\n",
    "import xarray as xr\n",
    "from datetime import datetime\n",
    "\n",
    "import myconfig\n",
    "from mytasks import Check, Download, ReadFiles, SaveAsZarr, Upload, Cleanup\n",
    "from mysearch import esgf_search"
   ]
  },
  {
   "cell_type": "code",
   "execution_count": null,
   "metadata": {},
   "outputs": [],
   "source": [
    "# CONFIGURE ESGF Search here\n",
    "\n",
    "import myconfig\n",
    "node_pref = myconfig.node_pref\n",
    "dtype = myconfig.dtype\n",
    "\n",
    "# reset the preference rank to omit\n",
    "# node_pref['esgf-data1.llnl.gov'] = 999\n",
    "\n",
    "ESGF_site = dtype['llnl']\n",
    "#ESGF_site = dtype['dkrz']\n",
    "\n",
    "print('zarrs will be written to: ',myconfig.local_target_prefix)"
   ]
  },
  {
   "cell_type": "code",
   "execution_count": null,
   "metadata": {},
   "outputs": [],
   "source": [
    "# CONFIGURE GCS\n",
    "fs     = gcsfs.GCSFileSystem(token='anon', access='read_only',cache_timeout=-1)\n",
    "df_GCS = pd.read_csv('https://cmip6.storage.googleapis.com/cmip6-zarr-consolidated-stores-noQC.csv', dtype='unicode')\n",
    "\n",
    "# make available to all modules\n",
    "myconfig.fs = fs\n",
    "myconfig.df_GCS = df_GCS"
   ]
  },
  {
   "cell_type": "code",
   "execution_count": null,
   "metadata": {},
   "outputs": [],
   "source": [
    "core_experiments = ['ssp126','ssp245','ssp370','ssp585','ssp119','ssp434','ssp460','ssp534-over','1pctCO2','abrupt-4xCO2','amip','historical','piControl',\n",
    " 'esm-hist','esm-piControl','esm-piControl-spinup','piControl-spinup','amip-hist']\n",
    "core_Amon_vars = ['ts','psl','hfls','ps','sfcWind','uas','vas','tas','pr','prc','evspsbl']\n",
    "core_Omon_vars = ['tos','sos','zos']"
   ]
  },
  {
   "cell_type": "code",
   "execution_count": null,
   "metadata": {},
   "outputs": [],
   "source": [
    "# specify your search. not specifying means it will find all\n",
    "all_search = {\n",
    "     'table_id'      : ['day']\n",
    "    ,'experiment_id' : ['ssp370']\n",
    "    ,'variable_id'   : ['pr']\n",
    "    #,'member_id'     : ['r1i1p1f1']\n",
    "    ,'source_id'     : ['CESM2-WACCM']\n",
    "}"
   ]
  },
  {
   "cell_type": "code",
   "execution_count": null,
   "metadata": {},
   "outputs": [],
   "source": [
    "import itertools\n",
    "\n",
    "update_ESGF = True\n",
    "if update_ESGF:\n",
    "    x = [value for key,value in all_search.items()]\n",
    "    searches = [p for p in itertools.product(*x)]\n",
    "\n",
    "    dESGF = []\n",
    "    for s in searches:\n",
    "        search = dict(zip(all_search.keys(),s))\n",
    "        print(search)\n",
    "        df = esgf_search(search, server=ESGF_site)\n",
    "        if len(df)>0:\n",
    "            dESGF += [df]\n",
    "\n",
    "    df_ESGF = pd.concat(dESGF)\n",
    "    df_ESGF.to_csv('csv/ESGF_test2.csv',index=False)\n",
    "else:\n",
    "    df_ESGF = pd.read_csv('csv/ESGF_test2.csv', dtype='unicode')\n",
    "\n",
    "len(df_ESGF), len(df_ESGF.ds_dir.unique())"
   ]
  },
  {
   "cell_type": "code",
   "execution_count": null,
   "metadata": {},
   "outputs": [],
   "source": [
    "# make df of all needed\n",
    "NewNeeded = True\n",
    "if NewNeeded:\n",
    "    df = pd.merge(df_ESGF,df_GCS, how='outer', indicator=True)\n",
    "    df_needed = df[df._merge == 'left_only']\n",
    "    \n",
    "    keep_keys = df_ESGF.keys()\n",
    "    all_keys = df.keys()\n",
    "    drop_keys = list(set(all_keys) - set(keep_keys))\n",
    "    df_needed = df_needed.drop(drop_keys,1)\n",
    "\n",
    "    num_stores = 0\n",
    "    if len(df_needed) > 0:\n",
    "        num_stores = df_needed.ds_dir.nunique() \n",
    "        print(f'needed: nfiles={len(df_needed)}, nstores={num_stores}')\n",
    "    else:\n",
    "        print('no new data available')\n",
    "        exit    \n",
    "    \n",
    "    df_needed['member'] = [int(s.split('r')[-1].split('i')[0]) for s in df_needed['member_id']]\n",
    "    df_needed['zsize'] = [df_needed[df_needed.ds_dir==zs]['file_size'].sum() for zs in df_needed['ds_dir']]\n",
    "    df_needed = df_needed.sort_values(by=['zsize'])\n",
    "    \n",
    "    df_needed.to_csv('csv/needed_test2.csv',index=False)\n",
    "else:\n",
    "    df_needed = pd.read_csv('csv/needed_test2.csv')\n",
    "\n",
    "len(df_needed), len(df_needed.ds_dir.unique())"
   ]
  },
  {
   "cell_type": "code",
   "execution_count": null,
   "metadata": {},
   "outputs": [],
   "source": [
    "# make available to all modules\n",
    "myconfig.df_needed = df_needed"
   ]
  },
  {
   "cell_type": "code",
   "execution_count": null,
   "metadata": {},
   "outputs": [],
   "source": [
    "ds_dirs = df_needed.ds_dir.unique()\n",
    "numdsets = len(ds_dirs)"
   ]
  },
  {
   "cell_type": "code",
   "execution_count": null,
   "metadata": {},
   "outputs": [],
   "source": [
    "request_id = 'test' #datetime.now().strftime('%Y%m%d-%H%M')\n",
    "progress_log  = f'txt/progress_{request_id}.log'\n",
    "failure_log  = f'txt/failure_{request_id}.log'\n",
    "success_log  = f'txt/success_{request_id}.log'"
   ]
  },
  {
   "cell_type": "code",
   "execution_count": null,
   "metadata": {},
   "outputs": [],
   "source": [
    "def write_log(file,str,verbose=True):\n",
    "    f = open(file,'a')\n",
    "    if verbose:\n",
    "        print(str)\n",
    "    f.write(f'{datetime.now().strftime(\"%Y%m%d-%H%M\")}: {str}\\n')\n",
    "    f.close()\n",
    "    return"
   ]
  },
  {
   "cell_type": "code",
   "execution_count": null,
   "metadata": {},
   "outputs": [],
   "source": [
    "for item, ds_dir in enumerate(ds_dirs):\n",
    "    \n",
    "    print(f'\\n{item}/{numdsets-1}',ds_dir)\n",
    "\n",
    "    (ierr, exc) = Check(ds_dir)\n",
    "    if ierr > 0:\n",
    "        write_log(progress_log,f'{ds_dir} with error {ierr}: {exc}'); continue\n",
    "        \n",
    "    (gfiles, ierr, exc) = Download(ds_dir)\n",
    "    if ierr > 0:\n",
    "        write_log(failure_log,f'{ds_dir} with error {ierr}: {exc}'); continue\n",
    "        \n",
    "    (ds,ierr,exc) = ReadFiles(ds_dir, gfiles)\n",
    "    if ierr > 0:\n",
    "        write_log(failure_log,f'{ds_dir} with error {ierr}: {exc}'); continue\n",
    "\n",
    "    (ierr,exc) = SaveAsZarr(ds_dir, ds)\n",
    "    if ierr > 0:\n",
    "        write_log(failure_log,f'{ds_dir} with error {ierr}: {exc}'); continue\n",
    "        \n",
    "    (gsurl, ierr,exc) = Upload(ds_dir)\n",
    "    if ierr > 0:\n",
    "        write_log(failure_log,f'{ds_dir} with error {ierr}: {exc}'); continue\n",
    "\n",
    "    (ierr,exc) = Cleanup(ds_dir, gfiles)\n",
    "    if ierr > 0:\n",
    "        write_log(failure_log,f'{ds_dir} with error {ierr}: {exc}'); continue\n",
    "\n",
    "    write_log(success_log,f'{item}/{numdsets-1}: {ds_dir} saved to {gsurl}'); continue"
   ]
  },
  {
   "cell_type": "code",
   "execution_count": null,
   "metadata": {},
   "outputs": [],
   "source": []
  }
 ],
 "metadata": {
  "kernelspec": {
   "display_name": "pangeo-fall2020",
   "language": "python",
   "name": "pangeo-fall2020"
  },
  "language_info": {
   "codemirror_mode": {
    "name": "ipython",
    "version": 3
   },
   "file_extension": ".py",
   "mimetype": "text/x-python",
   "name": "python",
   "nbconvert_exporter": "python",
   "pygments_lexer": "ipython3",
   "version": "3.7.8"
  }
 },
 "nbformat": 4,
 "nbformat_minor": 4
}
