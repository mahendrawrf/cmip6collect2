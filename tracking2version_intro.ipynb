{
 "cells": [
  {
   "cell_type": "markdown",
   "metadata": {},
   "source": [
    "# Data Handles (aka persistent identifiers)\n",
    "- Each netcdf file should correspond to a UNIQUE handle, which is called the tracking_id in CMIP6-world.\n",
    "- We can get information about these tracking_ids from the German Climate Computing Centre at http://handle-esgf.dkrz.de"
   ]
  },
  {
   "cell_type": "markdown",
   "metadata": {},
   "source": [
    "### For example,\n",
    "- for tracking_id = 'hdl:21.14100/2f67746f-580b-4750-a25f-ce2559d1c57b'\n",
    "\n",
    "- We can cut and paste the tracking_id into [http://hdl.handle.net](http://hdl.handle.net) \n",
    "  this actually re-directs to [https://handle-esgf.dkrz.de/lp/21.14100/2f67746f-580b-4750-a25f-ce2559d1c57b](https://handle-esgf.dkrz.de/lp/21.14100/2f67746f-580b-4750-a25f-ce2559d1c57b) (try it out)\n",
    "  \n",
    "- This gives us the following information (also provides checksum and source_url):\n",
    "\n",
    "        netcdf_file    = 'expc_Oyr_CESM2_historical_r11i1p1f1_gr_1850-1899.nc'\n",
    "        file_size      = '440729165'  \n",
    "        dataset_id     = 'hdl:21.14100/f03d7841-e21a-31fd-88c6-9632c0e2c5b1'  \n",
    "        dataset_name   = 'CMIP6.CMIP.NCAR.CESM2.historical.r11i1p1f1.Oyr.expc.gr'\n",
    "        version        = '20190514'\n",
    "\n",
    "- If you now follow the link to the dataset_id, you see the following list of netcdf files and their corresponding tracking_ids, including the netcdf file with our given tracking_id (expc_Oyr_CESM2_historical_r11i1p1f1_gr_1850-1899.nc):\n",
    "\n",
    "       expc_Oyr_CESM2_historical_r11i1p1f1_gr_1950-1999.nc\thdl:21.14100/9c92b764-4f3e-4aa2-9f4b-5a7612cf660f  \n",
    "       expc_Oyr_CESM2_historical_r11i1p1f1_gr_2000-2014.nc\thdl:21.14100/405705f5-6566-4cad-83c1-07ce60e82fcb  \n",
    "       expc_Oyr_CESM2_historical_r11i1p1f1_gr_1900-1949.nc\thdl:21.14100/eab727d0-c996-419f-8f38-1bd79641aca4  \n",
    "       expc_Oyr_CESM2_historical_r11i1p1f1_gr_1850-1899.nc\thdl:21.14100/2f67746f-580b-4750-a25f-ce2559d1c57b  \n",
    "\n",
    "\n",
    "- Note that this is a list of all netcdf files which were concatenated in time to make the complete dataset: 'CMIP6.CMIP.NCAR.CESM2.historical.r11i1p1f1.Oyr.expc.gr'"
   ]
  },
  {
   "cell_type": "markdown",
   "metadata": {},
   "source": [
    "# Zarr store persistent identifier\n",
    "- Each zarr store in our Cloud collection also has a tracking_id. This tracking id is the concatenation of tracking_ids for all netcdf file in the dataset.\n",
    "\n",
    "### For example,\n",
    "- For the zarr store = 'gs://cmip6/CMIP/NCAR/CESM2/historical/r11i1p1f1/Oyr/expc/gr':\n",
    "\n",
    "        ds = xr.open_zarr(fsspec.get_mapper('gs://cmip6/ScenarioMIP/DKRZ/MPI-ESM1-2-HR/ssp370/r1i1p1f1/Amon/prc/gn'),consolidated=True)\n",
    "        ds.attrs['tracking_id']) \n",
    "        ---\n",
    "        'hdl:21.14100/2f67746f-580b-4750-a25f-ce2559d1c57b\\nhdl:21.14100/eab727d0-c996-419f-8f38-1bd79641aca4\\nhdl:21.14100/9c92b764-4f3e-4aa2-9f4b-5a7612cf660f\\nhdl:21.14100/405705f5-6566-4cad-83c1-07ce60e82fcb'\n"
   ]
  },
  {
   "cell_type": "markdown",
   "metadata": {},
   "source": [
    "# GOAL: Find version_id for each zarr store\n",
    "Steps:\n",
    "1. Get tracking_id from zarr store\n",
    "2. Get version_id from tracking_id"
   ]
  },
  {
   "cell_type": "markdown",
   "metadata": {},
   "source": [
    "Once we know the version_id for each zarr store, we can iterate through the catalog and replace old versions with new versions when they become available. \n",
    "\n",
    "- Unfortunately, the version_id is NOT contained in the netcdf file metadata, nor as part of the netcdf file's name.  Since we download the netcdf files (using GLOBUS or wget), the directory structure of the source machine is lost and therefore the version_id is lost.  (N.B., this is the ONLY DRS element which is not stored in the file's metadata) \n",
    "- Fortunately, using the Handle REST API, we can find the version_id corresponding to the constituent tracking_ids of each zarr store.\n",
    "- Ideally, each netcdf file would have a UNIQUE tracking_id.  This is not always true (e.g., CESM assigns same tracking_id to multiple netcdf files).\n",
    "- Ideally, each dataset consists of netcdf files with known tracking_ids.  This is not always true (e.g., the netcdf file was not properly registered)\n",
    "- Ideally, each dataset corresponds to a single version_id.  This is not always true, either.\n",
    "- Ideally, each zarr store has tracking_ids corresponding to the same dataset. This happens, for example, if the netcdf files from the ESGF search API were not all from the same version. (For example, v20191201 and v20191202). \n",
    "- If all of the above are true, than each zarr store would correspond to a unique version_id.  "
   ]
  },
  {
   "cell_type": "markdown",
   "metadata": {},
   "source": [
    "### Step 1 - Get tracking_id from zarr store"
   ]
  },
  {
   "cell_type": "code",
   "execution_count": null,
   "metadata": {},
   "outputs": [],
   "source": [
    "import zarr\n",
    "import fsspec\n",
    "import warnings"
   ]
  },
  {
   "cell_type": "code",
   "execution_count": null,
   "metadata": {},
   "outputs": [],
   "source": [
    "zstore = 'gs://cmip6/CMIP/NCAR/CESM2/historical/r11i1p1f1/Oyr/expc/gr'\n",
    "mapper = fsspec.get_mapper(zstore)\n",
    "\n",
    "group = zarr.open_consolidated(mapper)\n",
    "\n",
    "zarr_tracking_id = group.attrs['tracking_id']\n",
    "\n",
    "zarr_tracking_id"
   ]
  },
  {
   "cell_type": "markdown",
   "metadata": {},
   "source": [
    "### Step 2 - Get version from tracking_id"
   ]
  },
  {
   "cell_type": "code",
   "execution_count": null,
   "metadata": {},
   "outputs": [],
   "source": [
    "import requests"
   ]
  },
  {
   "cell_type": "code",
   "execution_count": null,
   "metadata": {},
   "outputs": [],
   "source": [
    "client = requests.session()\n",
    "baseurl =  'http://hdl.handle.net/api/handles/'\n",
    "query1 = '?type=IS_PART_OF'\n",
    "query2 = '?type=VERSION_NUMBER'"
   ]
  },
  {
   "cell_type": "code",
   "execution_count": null,
   "metadata": {},
   "outputs": [],
   "source": [
    "# given a zarr store tracking_id, find the dataset tracking_id and then the version of the dataset\n",
    "\n",
    "datasets = []\n",
    "versions = []\n",
    "names = []\n",
    "for file_tracking_id in zarr_tracking_id.split('\\n'):\n",
    "    url1 = baseurl + file_tracking_id[4:]+query1\n",
    "    r = client.get(url1)\n",
    "    r.raise_for_status()\n",
    "    dataset_tracking_id = r.json()['values'][0]['data']['value']\n",
    "    datasets += [dataset_tracking_id]\n",
    "    url2 = baseurl + dataset_tracking_id[4:] + query2\n",
    "    r = client.get(url2)\n",
    "    r.raise_for_status()\n",
    "    versions += [r.json()['values'][0]['data']['value']]\n",
    "    url = baseurl + dataset_tracking_id[4:]\n",
    "    r = client.get(url)\n",
    "    r.raise_for_status()\n",
    "    names += [r.json()['values'][3]['data']['value']]\n",
    "\n",
    "dataset_id = list(set(datasets)) \n",
    "version_id = list(set(versions))\n",
    "dataset_name = list(set(names))\n",
    "    \n",
    "print('dataset_name = ',dataset_name,'\\n')\n",
    "print('version_id = ',version_id,'\\n')\n",
    "print('dataset_id = ', dataset_id,'\\n')"
   ]
  },
  {
   "cell_type": "code",
   "execution_count": null,
   "metadata": {},
   "outputs": [],
   "source": [
    "# Now, what if we try this for another? This example has two features. The tracking_ids of the netcdf files are not unique and this is a replacement version.\n",
    "zstore = 'gs://cmip6/ScenarioMIP/NCAR/CESM2/ssp370/r4i1p1f1/Amon/ts/gn'\n",
    "zarr_tracking_id = gsurl2tracks(zstore)\n",
    "print(zarr_tracking_id)"
   ]
  },
  {
   "cell_type": "code",
   "execution_count": null,
   "metadata": {},
   "outputs": [],
   "source": [
    "(ier, dataset_id,version_id,dataset_name) = tracks2version(zarr_tracking_id)\n",
    "print('dataset_id = ',dataset_id)\n",
    "print('version_id     = ',version_id)\n",
    "print('dataset_name     = ',dataset_name)\n",
    "\n",
    "ds_url = f'http://hdl.handle.net/{dataset_id}'\n",
    "print('dataset_url    = ',ds_url)"
   ]
  },
  {
   "cell_type": "code",
   "execution_count": null,
   "metadata": {},
   "outputs": [],
   "source": [
    "(ier, jdict_file, jdict_ds) = tracks2version(zarr_tracking_id, get_jdicts=True)\n",
    "jdict_ds"
   ]
  },
  {
   "cell_type": "code",
   "execution_count": null,
   "metadata": {},
   "outputs": [],
   "source": [
    "#In this case, there was an older version of this dataset:\n",
    "old_tracking_id = 'hdl:21.14100/948e81df-eb28-4b31-92ec-828a4e2883cf' \n",
    "(ier, jdict_file, jdict_ds) = tracks2version(old_tracking_id,get_jdicts=True)\n",
    "jdict_ds"
   ]
  },
  {
   "cell_type": "code",
   "execution_count": null,
   "metadata": {},
   "outputs": [],
   "source": [
    "zstore = 'gs://cmip6/CMIP/NCAR/CESM2/historical/r11i1p1f1/Oyr/expc/gr'\n",
    "#zstore = 'gs://cmip6/ScenarioMIP/NCAR/CESM2/ssp370/r4i1p1f1/Amon/ts/gn'\n",
    "zarr_tracking_id = gsurl2tracks(zstore)\n",
    "\n",
    "(ier, surls) = tracks2source(zarr_tracking_id)\n",
    "surls"
   ]
  }
 ],
 "metadata": {
  "kernelspec": {
   "display_name": "pangeo-Oct2019",
   "language": "python",
   "name": "pangeo-oct2019"
  },
  "language_info": {
   "codemirror_mode": {
    "name": "ipython",
    "version": 3
   },
   "file_extension": ".py",
   "mimetype": "text/x-python",
   "name": "python",
   "nbconvert_exporter": "python",
   "pygments_lexer": "ipython3",
   "version": "3.7.3"
  }
 },
 "nbformat": 4,
 "nbformat_minor": 4
}
