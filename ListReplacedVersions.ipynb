{
 "cells": [
  {
   "cell_type": "code",
   "execution_count": null,
   "metadata": {},
   "outputs": [],
   "source": [
    "import pandas as pd\n",
    "import numpy as np\n",
    "from glob import glob\n",
    "import gcsfs\n",
    "pd.set_option('display.width', 1000)"
   ]
  },
  {
   "cell_type": "markdown",
   "metadata": {},
   "source": [
    "### Find datasets which have a new version since a prior date\n",
    " - Specify the catalog date to compare to current catalog\n",
    " - Specify catalog type ('-noQC' or '') "
   ]
  },
  {
   "cell_type": "code",
   "execution_count": null,
   "metadata": {},
   "outputs": [],
   "source": [
    "fs = gcsfs.GCSFileSystem(token='anon',access='read_only',cache_timeout=-1)\n",
    "\n",
    "date = '20210210'\n",
    "cat_type = '-noQC'\n",
    "\n",
    "# find closest catalog to specified date:\n",
    "files = fs.glob(f'gs://cmip6/CMIP6/old_catalogs/pangeo-cmip6-*{cat_type}.csv.gz')\n",
    "dates = [int(s.split('cmip6-')[-1].split(cat_type)[0]) for s in files]\n",
    "prior_date = str(min(dates, key=lambda x:abs(x-int(date))))\n",
    "prior_date"
   ]
  },
  {
   "cell_type": "code",
   "execution_count": null,
   "metadata": {},
   "outputs": [],
   "source": [
    "# Read the catalogs\n",
    "df_old = pd.read_csv(f'https://cmip6.storage.googleapis.com/CMIP6/old_catalogs/pangeo-cmip6-{prior_date}{cat_type}.csv.gz', dtype='unicode')\n",
    "df_old['cstore'] = df_old.apply(lambda row: row.zstore.split('CMIP6/')[-1].split('v20')[0], axis = 1)\n",
    "df = pd.read_csv(f'https://cmip6.storage.googleapis.com/cmip6-zarr-consolidated-stores{cat_type}.csv', dtype='unicode')\n",
    "df['cstore'] = df.apply(lambda row: row.zstore.split('CMIP6/')[-1].split('v20')[0], axis = 1)"
   ]
  },
  {
   "cell_type": "code",
   "execution_count": null,
   "metadata": {},
   "outputs": [],
   "source": [
    "dfn = pd.merge(df_old, df[['cstore','version']], on='cstore', how='left', sort=False, suffixes=('_old', '_new'))\n",
    "df_replaced = dfn[dfn.version_old != dfn.version_new]\n",
    "df_replaced = df_replaced[~(df_replaced.version_new.isnull())]\n",
    "len(df_replaced), df_replaced.experiment_id.unique(), df_replaced.table_id.unique()"
   ]
  },
  {
   "cell_type": "code",
   "execution_count": null,
   "metadata": {},
   "outputs": [],
   "source": [
    "df_replaced[['zstore', 'version_old','version_new']].style"
   ]
  },
  {
   "cell_type": "code",
   "execution_count": null,
   "metadata": {},
   "outputs": [],
   "source": [
    "df.zstore.values[0]"
   ]
  },
  {
   "cell_type": "code",
   "execution_count": null,
   "metadata": {},
   "outputs": [],
   "source": [
    "df_old.version.unique()"
   ]
  },
  {
   "cell_type": "code",
   "execution_count": null,
   "metadata": {},
   "outputs": [],
   "source": []
  }
 ],
 "metadata": {
  "kernelspec": {
   "display_name": "pangeo-fall2020",
   "language": "python",
   "name": "pangeo-fall2020"
  },
  "language_info": {
   "codemirror_mode": {
    "name": "ipython",
    "version": 3
   },
   "file_extension": ".py",
   "mimetype": "text/x-python",
   "name": "python",
   "nbconvert_exporter": "python",
   "pygments_lexer": "ipython3",
   "version": "3.7.8"
  }
 },
 "nbformat": 4,
 "nbformat_minor": 4
}
