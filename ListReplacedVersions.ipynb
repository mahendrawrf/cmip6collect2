{
 "cells": [
  {
   "cell_type": "code",
   "execution_count": 1,
   "metadata": {},
   "outputs": [],
   "source": [
    "import pandas as pd\n",
    "import numpy as np\n",
    "from glob import glob\n",
    "import gcsfs\n",
    "pd.set_option('display.width', 1000)"
   ]
  },
  {
   "cell_type": "markdown",
   "metadata": {},
   "source": [
    "### Find datasets which have a new version since a prior date\n",
    " - Specify the catalog date to compare to current catalog\n",
    " - Specify catalog type ('-noQC' or '') "
   ]
  },
  {
   "cell_type": "code",
   "execution_count": 2,
   "metadata": {},
   "outputs": [
    {
     "data": {
      "text/plain": [
       "'20210119'"
      ]
     },
     "execution_count": 2,
     "metadata": {},
     "output_type": "execute_result"
    }
   ],
   "source": [
    "fs = gcsfs.GCSFileSystem(token='anon',access='read_only',cache_timeout=-1)\n",
    "\n",
    "date = '20210119'\n",
    "cat_type = '-noQC'\n",
    "\n",
    "# find closest catalog to specified date:\n",
    "files = fs.glob(f'gs://cmip6/old_catalogs/pangeo-cmip6-*{cat_type}.csv.gz')\n",
    "dates = [int(s.split('cmip6-')[-1].split(cat_type)[0]) for s in files]\n",
    "prior_date = str(min(dates, key=lambda x:abs(x-int(date))))\n",
    "prior_date"
   ]
  },
  {
   "cell_type": "code",
   "execution_count": 3,
   "metadata": {},
   "outputs": [],
   "source": [
    "# Read the catalogs\n",
    "df_old = pd.read_csv(f'https://cmip6.storage.googleapis.com/old_catalogs/pangeo-cmip6-{prior_date}{cat_type}.csv.gz', dtype='unicode')\n",
    "df = pd.read_csv(f'https://cmip6.storage.googleapis.com/cmip6-zarr-consolidated-stores{cat_type}.csv', dtype='unicode')"
   ]
  },
  {
   "cell_type": "code",
   "execution_count": 4,
   "metadata": {},
   "outputs": [],
   "source": [
    "dfn = pd.merge(df_old, df[['zstore','version']], on='zstore', how='left', sort=False, suffixes=('_old', '_new'))\n",
    "df_replaced = dfn[dfn.version_old != dfn.version_new]\n",
    "df_replaced = df_replaced[~(df_replaced.version_new.isnull())]"
   ]
  },
  {
   "cell_type": "code",
   "execution_count": 5,
   "metadata": {},
   "outputs": [
    {
     "data": {
      "text/html": [
       "<style  type=\"text/css\" >\n",
       "</style><table id=\"T_2cedf4aa_5b3a_11eb_89cc_0cc47aa87f57\" ><thead>    <tr>        <th class=\"blank level0\" ></th>        <th class=\"col_heading level0 col0\" >zstore</th>        <th class=\"col_heading level0 col1\" >version_old</th>        <th class=\"col_heading level0 col2\" >version_new</th>    </tr></thead><tbody>\n",
       "                <tr>\n",
       "                        <th id=\"T_2cedf4aa_5b3a_11eb_89cc_0cc47aa87f57level0_row0\" class=\"row_heading level0 row0\" >35856</th>\n",
       "                        <td id=\"T_2cedf4aa_5b3a_11eb_89cc_0cc47aa87f57row0_col0\" class=\"data row0 col0\" >gs://cmip6/CMIP/CNRM-CERFACS/CNRM-CM6-1/historical/r29i1p1f2/Amon/clt/gr/</td>\n",
       "                        <td id=\"T_2cedf4aa_5b3a_11eb_89cc_0cc47aa87f57row0_col1\" class=\"data row0 col1\" >20191004</td>\n",
       "                        <td id=\"T_2cedf4aa_5b3a_11eb_89cc_0cc47aa87f57row0_col2\" class=\"data row0 col2\" >20200529</td>\n",
       "            </tr>\n",
       "            <tr>\n",
       "                        <th id=\"T_2cedf4aa_5b3a_11eb_89cc_0cc47aa87f57level0_row1\" class=\"row_heading level0 row1\" >45531</th>\n",
       "                        <td id=\"T_2cedf4aa_5b3a_11eb_89cc_0cc47aa87f57row1_col0\" class=\"data row1 col0\" >gs://cmip6/CMIP/E3SM-Project/E3SM-1-1-ECA/piControl/r1i1p1f1/Amon/clt/gr/</td>\n",
       "                        <td id=\"T_2cedf4aa_5b3a_11eb_89cc_0cc47aa87f57row1_col1\" class=\"data row1 col1\" >20191216</td>\n",
       "                        <td id=\"T_2cedf4aa_5b3a_11eb_89cc_0cc47aa87f57row1_col2\" class=\"data row1 col2\" >20201001</td>\n",
       "            </tr>\n",
       "            <tr>\n",
       "                        <th id=\"T_2cedf4aa_5b3a_11eb_89cc_0cc47aa87f57level0_row2\" class=\"row_heading level0 row2\" >45672</th>\n",
       "                        <td id=\"T_2cedf4aa_5b3a_11eb_89cc_0cc47aa87f57row2_col0\" class=\"data row2 col0\" >gs://cmip6/CMIP/E3SM-Project/E3SM-1-1/piControl/r1i1p1f1/Amon/clt/gr/</td>\n",
       "                        <td id=\"T_2cedf4aa_5b3a_11eb_89cc_0cc47aa87f57row2_col1\" class=\"data row2 col1\" >20191029</td>\n",
       "                        <td id=\"T_2cedf4aa_5b3a_11eb_89cc_0cc47aa87f57row2_col2\" class=\"data row2 col2\" >20201123</td>\n",
       "            </tr>\n",
       "            <tr>\n",
       "                        <th id=\"T_2cedf4aa_5b3a_11eb_89cc_0cc47aa87f57level0_row3\" class=\"row_heading level0 row3\" >45996</th>\n",
       "                        <td id=\"T_2cedf4aa_5b3a_11eb_89cc_0cc47aa87f57row3_col0\" class=\"data row3 col0\" >gs://cmip6/CMIP/EC-Earth-Consortium/EC-Earth3-LR/piControl/r1i1p1f1/Amon/clt/gr/</td>\n",
       "                        <td id=\"T_2cedf4aa_5b3a_11eb_89cc_0cc47aa87f57row3_col1\" class=\"data row3 col1\" >20190103</td>\n",
       "                        <td id=\"T_2cedf4aa_5b3a_11eb_89cc_0cc47aa87f57row3_col2\" class=\"data row3 col2\" >20200409</td>\n",
       "            </tr>\n",
       "            <tr>\n",
       "                        <th id=\"T_2cedf4aa_5b3a_11eb_89cc_0cc47aa87f57level0_row4\" class=\"row_heading level0 row4\" >47067</th>\n",
       "                        <td id=\"T_2cedf4aa_5b3a_11eb_89cc_0cc47aa87f57row4_col0\" class=\"data row4 col0\" >gs://cmip6/CMIP/EC-Earth-Consortium/EC-Earth3-Veg/piControl/r1i1p1f1/Amon/clt/gr/</td>\n",
       "                        <td id=\"T_2cedf4aa_5b3a_11eb_89cc_0cc47aa87f57row4_col1\" class=\"data row4 col1\" >20190619</td>\n",
       "                        <td id=\"T_2cedf4aa_5b3a_11eb_89cc_0cc47aa87f57row4_col2\" class=\"data row4 col2\" >20200226</td>\n",
       "            </tr>\n",
       "            <tr>\n",
       "                        <th id=\"T_2cedf4aa_5b3a_11eb_89cc_0cc47aa87f57level0_row5\" class=\"row_heading level0 row5\" >50487</th>\n",
       "                        <td id=\"T_2cedf4aa_5b3a_11eb_89cc_0cc47aa87f57row5_col0\" class=\"data row5 col0\" >gs://cmip6/CMIP/EC-Earth-Consortium/EC-Earth3/piControl/r1i1p1f1/Amon/clt/gr/</td>\n",
       "                        <td id=\"T_2cedf4aa_5b3a_11eb_89cc_0cc47aa87f57row5_col1\" class=\"data row5 col1\" >20190712</td>\n",
       "                        <td id=\"T_2cedf4aa_5b3a_11eb_89cc_0cc47aa87f57row5_col2\" class=\"data row5 col2\" >20200312</td>\n",
       "            </tr>\n",
       "    </tbody></table>"
      ],
      "text/plain": [
       "<pandas.io.formats.style.Styler at 0x7f2cf3fff350>"
      ]
     },
     "execution_count": 5,
     "metadata": {},
     "output_type": "execute_result"
    }
   ],
   "source": [
    "df_replaced[['zstore', 'version_old','version_new']].style "
   ]
  },
  {
   "cell_type": "code",
   "execution_count": null,
   "metadata": {},
   "outputs": [],
   "source": []
  }
 ],
 "metadata": {
  "kernelspec": {
   "display_name": "pangeo-fall2020",
   "language": "python",
   "name": "pangeo-fall2020"
  },
  "language_info": {
   "codemirror_mode": {
    "name": "ipython",
    "version": 3
   },
   "file_extension": ".py",
   "mimetype": "text/x-python",
   "name": "python",
   "nbconvert_exporter": "python",
   "pygments_lexer": "ipython3",
   "version": "3.7.8"
  }
 },
 "nbformat": 4,
 "nbformat_minor": 4
}
