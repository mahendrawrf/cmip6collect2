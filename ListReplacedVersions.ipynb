{
 "cells": [
  {
   "cell_type": "code",
   "execution_count": 1,
   "metadata": {},
   "outputs": [],
   "source": [
    "import pandas as pd\n",
    "import numpy as np\n",
    "from glob import glob\n",
    "import gcsfs"
   ]
  },
  {
   "cell_type": "markdown",
   "metadata": {},
   "source": [
    "### Find datasets which have a new version since a prior date\n",
    " - Specify the catalog date to compare to current catalog\n",
    " - Specify catalog type ('-noQC' or '') "
   ]
  },
  {
   "cell_type": "code",
   "execution_count": 2,
   "metadata": {},
   "outputs": [
    {
     "data": {
      "text/plain": [
       "'20210118'"
      ]
     },
     "execution_count": 2,
     "metadata": {},
     "output_type": "execute_result"
    }
   ],
   "source": [
    "fs = gcsfs.GCSFileSystem(token='anon',access='read_only',cache_timeout=-1)\n",
    "\n",
    "date = '20210118'\n",
    "cat_type = '-noQC'\n",
    "\n",
    "# find closest catalog to specified date:\n",
    "files = fs.glob(f'gs://cmip6/old_catalogs/pangeo-cmip6-*{cat_type}.csv.gz')\n",
    "dates = [int(s.split('cmip6-')[-1].split(cat_type)[0]) for s in files]\n",
    "prior_date = str(min(dates, key=lambda x:abs(x-int(date))))\n",
    "prior_date"
   ]
  },
  {
   "cell_type": "code",
   "execution_count": 3,
   "metadata": {},
   "outputs": [],
   "source": [
    "# Read the catalogs\n",
    "df_old = pd.read_csv(f'https://cmip6.storage.googleapis.com/old_catalogs/pangeo-cmip6-{prior_date}{cat_type}.csv.gz', dtype='unicode')\n",
    "df = pd.read_csv(f'https://cmip6.storage.googleapis.com/cmip6-zarr-consolidated-stores{cat_type}.csv', dtype='unicode')"
   ]
  },
  {
   "cell_type": "code",
   "execution_count": 4,
   "metadata": {},
   "outputs": [],
   "source": [
    "dfn = pd.merge(df_old, df[['zstore','version']], on='zstore', how='left', sort=False, suffixes=('_old', '_new'))\n",
    "df_replaced = dfn[dfn.version_old != dfn.version_new]\n",
    "df_replaced = df_replaced[~(df_replaced.version_new.isnull())]"
   ]
  },
  {
   "cell_type": "code",
   "execution_count": 5,
   "metadata": {},
   "outputs": [
    {
     "data": {
      "text/html": [
       "<div>\n",
       "<style scoped>\n",
       "    .dataframe tbody tr th:only-of-type {\n",
       "        vertical-align: middle;\n",
       "    }\n",
       "\n",
       "    .dataframe tbody tr th {\n",
       "        vertical-align: top;\n",
       "    }\n",
       "\n",
       "    .dataframe thead th {\n",
       "        text-align: right;\n",
       "    }\n",
       "</style>\n",
       "<table border=\"1\" class=\"dataframe\">\n",
       "  <thead>\n",
       "    <tr style=\"text-align: right;\">\n",
       "      <th></th>\n",
       "      <th>zstore</th>\n",
       "      <th>version_old</th>\n",
       "      <th>version_new</th>\n",
       "    </tr>\n",
       "  </thead>\n",
       "  <tbody>\n",
       "    <tr>\n",
       "      <th>45317</th>\n",
       "      <td>gs://cmip6/CMIP/E3SM-Project/E3SM-1-1-ECA/hist...</td>\n",
       "      <td>20200127</td>\n",
       "      <td>20200623</td>\n",
       "    </tr>\n",
       "    <tr>\n",
       "      <th>46437</th>\n",
       "      <td>gs://cmip6/CMIP/EC-Earth-Consortium/EC-Earth3-...</td>\n",
       "      <td>20190605</td>\n",
       "      <td>20200225</td>\n",
       "    </tr>\n",
       "    <tr>\n",
       "      <th>106160</th>\n",
       "      <td>gs://cmip6/CMIP/NCC/NorCPM1/historical/r1i1p1f...</td>\n",
       "      <td>20190914</td>\n",
       "      <td>20200724</td>\n",
       "    </tr>\n",
       "    <tr>\n",
       "      <th>116537</th>\n",
       "      <td>gs://cmip6/CMIP/THU/CIESM/historical/r1i1p1f1/...</td>\n",
       "      <td>20191228</td>\n",
       "      <td>20200417</td>\n",
       "    </tr>\n",
       "    <tr>\n",
       "      <th>297817</th>\n",
       "      <td>gs://cmip6/ScenarioMIP/CAS/FGOALS-g3/ssp126/r1...</td>\n",
       "      <td>20190818</td>\n",
       "      <td>20200927</td>\n",
       "    </tr>\n",
       "    <tr>\n",
       "      <th>341957</th>\n",
       "      <td>gs://cmip6/ScenarioMIP/EC-Earth-Consortium/EC-...</td>\n",
       "      <td>20190629</td>\n",
       "      <td>20200225</td>\n",
       "    </tr>\n",
       "    <tr>\n",
       "      <th>343887</th>\n",
       "      <td>gs://cmip6/ScenarioMIP/EC-Earth-Consortium/EC-...</td>\n",
       "      <td>20190926</td>\n",
       "      <td>20200310</td>\n",
       "    </tr>\n",
       "    <tr>\n",
       "      <th>344680</th>\n",
       "      <td>gs://cmip6/ScenarioMIP/EC-Earth-Consortium/EC-...</td>\n",
       "      <td>20190927</td>\n",
       "      <td>20200310</td>\n",
       "    </tr>\n",
       "  </tbody>\n",
       "</table>\n",
       "</div>"
      ],
      "text/plain": [
       "                                                   zstore version_old  \\\n",
       "45317   gs://cmip6/CMIP/E3SM-Project/E3SM-1-1-ECA/hist...    20200127   \n",
       "46437   gs://cmip6/CMIP/EC-Earth-Consortium/EC-Earth3-...    20190605   \n",
       "106160  gs://cmip6/CMIP/NCC/NorCPM1/historical/r1i1p1f...    20190914   \n",
       "116537  gs://cmip6/CMIP/THU/CIESM/historical/r1i1p1f1/...    20191228   \n",
       "297817  gs://cmip6/ScenarioMIP/CAS/FGOALS-g3/ssp126/r1...    20190818   \n",
       "341957  gs://cmip6/ScenarioMIP/EC-Earth-Consortium/EC-...    20190629   \n",
       "343887  gs://cmip6/ScenarioMIP/EC-Earth-Consortium/EC-...    20190926   \n",
       "344680  gs://cmip6/ScenarioMIP/EC-Earth-Consortium/EC-...    20190927   \n",
       "\n",
       "       version_new  \n",
       "45317     20200623  \n",
       "46437     20200225  \n",
       "106160    20200724  \n",
       "116537    20200417  \n",
       "297817    20200927  \n",
       "341957    20200225  \n",
       "343887    20200310  \n",
       "344680    20200310  "
      ]
     },
     "execution_count": 5,
     "metadata": {},
     "output_type": "execute_result"
    }
   ],
   "source": [
    "df_replaced[['zstore', 'version_old','version_new']]"
   ]
  },
  {
   "cell_type": "code",
   "execution_count": null,
   "metadata": {},
   "outputs": [],
   "source": []
  }
 ],
 "metadata": {
  "kernelspec": {
   "display_name": "pangeo-fall2020",
   "language": "python",
   "name": "pangeo-fall2020"
  },
  "language_info": {
   "codemirror_mode": {
    "name": "ipython",
    "version": 3
   },
   "file_extension": ".py",
   "mimetype": "text/x-python",
   "name": "python",
   "nbconvert_exporter": "python",
   "pygments_lexer": "ipython3",
   "version": "3.7.8"
  }
 },
 "nbformat": 4,
 "nbformat_minor": 4
}
