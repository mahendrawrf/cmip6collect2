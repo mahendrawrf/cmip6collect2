{
 "cells": [
  {
   "cell_type": "markdown",
   "metadata": {},
   "source": [
    "# To Run Standard Searches\n",
    "- define new searches in mysets.py\n",
    "- beginning of notebook is assumed to be interactive until the requests have been checked\n",
    "- all progress and exception logging is done only for main loop"
   ]
  },
  {
   "cell_type": "markdown",
   "metadata": {},
   "source": [
    "- `gsurl` is the GCS url for the dataset\n",
    "- `ds_dir` is our dataset identifier ( activity_id/institution_id/.../variable_id/grid_label ) NO version included"
   ]
  },
  {
   "cell_type": "code",
   "execution_count": 24,
   "metadata": {},
   "outputs": [],
   "source": [
    "import pandas as pd\n",
    "import gcsfs\n",
    "import xarray as xr\n",
    "from datetime import datetime\n",
    "import itertools\n",
    "import os\n",
    "import gspread\n",
    "from oauth2client.service_account import ServiceAccountCredentials"
   ]
  },
  {
   "cell_type": "markdown",
   "metadata": {},
   "source": [
    "### Local modules"
   ]
  },
  {
   "cell_type": "code",
   "execution_count": 25,
   "metadata": {},
   "outputs": [],
   "source": [
    "import myconfig\n",
    "from mysets import all_search\n",
    "from mydataset import dir2url_, dir2dict\n",
    "from mytasks import Check, Download, ReadFiles, SaveAsZarr, Upload, Cleanup\n",
    "from mysearch import esgf_search\n",
    "from myidentify import gsurl2search, gsurl2dsdir\n",
    "from myutilities import search_df, remove_from_GC_bucket"
   ]
  },
  {
   "cell_type": "code",
   "execution_count": 26,
   "metadata": {},
   "outputs": [],
   "source": [
    "# Directly connect to Search Status Page for updating\n",
    "# Anyone can view: https://docs.google.com/spreadsheets/d/1yAt7604tVt7OXXZUyL2uALtGP2WVa-Pb5NMuTluFsAc/edit?usp=sharing\n",
    "\n",
    "json_keyfile = '/home/naomi/json/CMIP6-d0cb1df722d1.json'\n",
    "scope = ['https://spreadsheets.google.com/feeds','https://www.googleapis.com/auth/drive']\n",
    "credentials = ServiceAccountCredentials.from_json_keyfile_name(json_keyfile, scope)\n",
    "gc = gspread.authorize(credentials)\n",
    "sheet_name = \"CMIP6_UpdateSchedule\"\n",
    "sh = gc.open(sheet_name)\n",
    "wks = sh.worksheet(\"Searches\")\n",
    "\n",
    "# read the first row to get the column labels\n",
    "columns = wks.row_values(3)\n",
    "col_status = columns.index('status')\n",
    "col_run = columns.index('last run')\n",
    "col_drive = columns.index('HD')\n",
    "col_dataset = columns.index('current dataset')\n",
    "col_node = columns.index('search node')"
   ]
  },
  {
   "cell_type": "code",
   "execution_count": 33,
   "metadata": {},
   "outputs": [
    {
     "name": "stdout",
     "output_type": "stream",
     "text": [
      "42\n",
      "zarrs will be written to:  /h123/naomi/zarr-minimal/\n"
     ]
    }
   ],
   "source": [
    "# CONFIGURE ESGF Search here\n",
    "node_pref = myconfig.node_pref\n",
    "dtype = myconfig.dtype\n",
    "hd = '/h123'\n",
    "myconfig.local_target_prefix = hd + '/naomi/zarr-minimal/'\n",
    "dir2local = dir2url_(myconfig.local_target_prefix)\n",
    "\n",
    "clear_logs = False\n",
    "find_oldversions = True\n",
    "update_ESGF = True\n",
    "update_Needed  = True\n",
    "\n",
    "search = 'newtest'   # if search='test', must define below\n",
    "\n",
    "try:\n",
    "    search_row = wks.find(search).row\n",
    "    print(search_row)\n",
    "except:\n",
    "    print('need another row in Google Form!')\n",
    "    wks.append_row([search])\n",
    "    search_row = wks.find(search).row\n",
    "\n",
    "search_node = 'llnl'\n",
    "ESGF_site = dtype[search_node]\n",
    "\n",
    "date = datetime.now().strftime('%Y-%m-%d')\n",
    "wks.update_cell(search_row, col_run + 1, date)\n",
    "wks.update_cell(search_row, col_drive + 1, hd)\n",
    "wks.update_cell(search_row, col_node + 1, search_node)\n",
    "\n",
    "print('zarrs will be written to: ',myconfig.local_target_prefix)"
   ]
  },
  {
   "cell_type": "code",
   "execution_count": 28,
   "metadata": {},
   "outputs": [],
   "source": [
    "# CONFIGURE GCS\n",
    "fs     = gcsfs.GCSFileSystem(token='anon', access='read_only',cache_timeout=-1)\n",
    "df_GCS = pd.read_csv('https://cmip6.storage.googleapis.com/pangeo-cmip6-noQC.csv', dtype='unicode')\n",
    "df_GCS['ds_dir'] = df_GCS.apply(lambda row: myconfig.target_format % row,axis=1)\n",
    "\n",
    "# make available to all modules (except those)\n",
    "myconfig.fs = fs\n",
    "myconfig.df_GCS = df_GCS"
   ]
  },
  {
   "cell_type": "code",
   "execution_count": 29,
   "metadata": {},
   "outputs": [],
   "source": [
    "#df_muddled = df_GCS[df_GCS.zstore.str.contains('CMIP6')]\n",
    "#df_GCS[df_GCS.version.str.contains('/')].version.values[0]#.split('/')[-1]\n",
    "#df_GCS[df_GCS.version.str.contains('/')].version.values[0]"
   ]
  },
  {
   "cell_type": "code",
   "execution_count": 30,
   "metadata": {},
   "outputs": [
    {
     "data": {
      "text/plain": [
       "('newtest',\n",
       " {'table_id': ['SImon'],\n",
       "  'variable_id': ['siconc'],\n",
       "  'source_id': ['BCC-ESM1'],\n",
       "  'grid_label': ['gn']})"
      ]
     },
     "execution_count": 30,
     "metadata": {},
     "output_type": "execute_result"
    }
   ],
   "source": [
    "#AerChemMIP/BCC/BCC-ESM1/ssp370/r2i1p1f1/SImon/siconc/gn\n",
    "\n",
    "if search in all_search:\n",
    "    # Use a pre-defined search\n",
    "    asearch = all_search[search]\n",
    "else:\n",
    "    # Define your own search: Pick keyword values to specify your search, not specifying a particular keyword means it will find all.\n",
    "    asearch = {\n",
    "                     'table_id'      : ['SImon']\n",
    "                    #,'activity_id'   : ['CDRMIP']\n",
    "                    #,'experiment_id' : ['1pctCO2-cdr']\n",
    "                    ,'variable_id'   : [\"siconc\"] \n",
    "                    #,'member_id'     : ['r2i1p1f1']\n",
    "                    ,'source_id'     : ['BCC-ESM1']\n",
    "                    ,'grid_label'    : ['gn']\n",
    "                }\n",
    "# cmip6/CMIP6/CDRMIP/NOAA-GFDL/GFDL-ESM4/1pctCO2-cdr/r1i1p1f1/SImon/siconc/gn\n",
    "# check if ANOTHER notebook is doing the same search\n",
    "lock_file = f'logs/{search}.lock'\n",
    "if os.path.exists(lock_file):\n",
    "    if clear_logs:  \n",
    "        command = f'/bin/rm logs/*{search}*'\n",
    "        print(command)\n",
    "        os.system(command)\n",
    "    #else:\n",
    "    #    assert False, f'lockfile {lock_file} exists'\n",
    "        \n",
    "f = open(lock_file,'w')\n",
    "date = str(datetime.now().strftime(\"%Y%m%d-%H%M\"))\n",
    "f.write(f'started {search} at {date}')\n",
    "f.close()\n",
    "\n",
    "search, asearch"
   ]
  },
  {
   "cell_type": "code",
   "execution_count": 37,
   "metadata": {},
   "outputs": [
    {
     "name": "stdout",
     "output_type": "stream",
     "text": [
      "9\n",
      "version_cat,version_ESGF 20200218 20200218\n",
      "version_cat,version_ESGF 20200218 20200218\n",
      "version_cat,version_ESGF 20200218 20200218\n",
      "version_cat,version_ESGF 20200219 20200219\n",
      "version_cat,version_ESGF 20200512 20200512\n",
      "version_cat,version_ESGF 20200219 20200219\n",
      "version_cat,version_ESGF 20200219 20200219\n",
      "version_cat,version_ESGF 20200219 20200219\n",
      "version_cat,version_ESGF 20200219 20200219\n",
      "number of GC datasets removed =  0\n"
     ]
    }
   ],
   "source": [
    "# Remove old versions which have new versions on THE SAME SEARCH NODE \n",
    "#  (we don't want to delete old if new is not available)\n",
    "df_GCS_matching = search_df(df_GCS,**asearch)\n",
    "df_GCS_matching['ds_dir'] = df_GCS_matching.apply(lambda row: myconfig.target_format % row,axis=1)\n",
    "\n",
    "if find_oldversions:\n",
    "    dflcat = df_GCS.copy()\n",
    "\n",
    "    gsurls = df_GCS_matching.zstore.unique()\n",
    "    print(len(gsurls))\n",
    "    num_removed = 0\n",
    "    for item, gsurl in enumerate(gsurls):\n",
    "        ds_dir = gsurl2dsdir(gsurl)\n",
    "        version_cat = df_GCS[df_GCS.ds_dir == ds_dir].version.values[0].split('/')[-1]\n",
    "        bsearch = gsurl2search(gsurl)\n",
    "        bsearch.pop('version', None)\n",
    "        dfs = esgf_search(bsearch, server=ESGF_site, toFilter = False)\n",
    "        try:\n",
    "            version_ESGF = dfs.version_id.unique()[-1][1:]\n",
    "            print('version_cat,version_ESGF',version_cat,version_ESGF)\n",
    "        except:\n",
    "            print(f'no version currently exists at {search_node} for {item}:{gsurl}')\n",
    "            version_ESGF = 0\n",
    "        try:\n",
    "            iv_cat = int(version_cat)\n",
    "            if iv_cat < int(version_ESGF):\n",
    "                print(f'newer version available for {item}:{gsurl}')\n",
    "                remove_from_GC_bucket(gsurl,execute=True)\n",
    "                dflcat = dflcat[dflcat['zstore'] != gsurl] \n",
    "                num_removed += 1\n",
    "        except:\n",
    "            print(f'no version exists in catalog for {item}:{gsurl}')\n",
    "            \n",
    "    df_GCS = dflcat\n",
    "    myconfig.df_GCS = dflcat\n",
    "    print('number of GC datasets removed = ',num_removed)    "
   ]
  },
  {
   "cell_type": "code",
   "execution_count": null,
   "metadata": {},
   "outputs": [],
   "source": [
    "# make dataframe of ESGF search results\n",
    "\n",
    "if update_ESGF:\n",
    "    x = [value for key,value in asearch.items()]\n",
    "    searches = [p for p in itertools.product(*x)]\n",
    "\n",
    "    dESGF = []\n",
    "    for s in searches:\n",
    "        dsearch = dict(zip(asearch.keys(),s))\n",
    "        print(dsearch)\n",
    "        df = esgf_search(dsearch, server=ESGF_site)\n",
    "        if len(df)>0:\n",
    "            dESGF += [df]\n",
    "\n",
    "    df_ESGF = pd.concat(dESGF)\n",
    "    df_ESGF.to_csv(f'csv/ESGF_{search}.csv',index=False)\n",
    "else:\n",
    "    df_ESGF = pd.read_csv(f'csv/ESGF_{search}.csv', dtype='unicode')\n",
    "\n",
    "len(df_ESGF), len(df_ESGF.ds_dir.unique())\n",
    "df_ESGF.ds_dir.unique()"
   ]
  },
  {
   "cell_type": "code",
   "execution_count": null,
   "metadata": {},
   "outputs": [],
   "source": [
    "# make dataframe of all needed\n",
    "\n",
    "if update_Needed:\n",
    "    df = pd.merge(df_ESGF, df_GCS, how='outer', indicator=True)\n",
    "    df_needed = df[df._merge == 'left_only']\n",
    "    \n",
    "    keep_keys = df_ESGF.keys()\n",
    "    all_keys = df.keys()\n",
    "    drop_keys = list(set(all_keys) - set(keep_keys))\n",
    "    df_needed = df_needed.drop(drop_keys,1)\n",
    "\n",
    "    num_stores = 0\n",
    "    if len(df_needed) > 0:\n",
    "        num_stores = df_needed.ds_dir.nunique() \n",
    "        print(f'needed: nfiles={len(df_needed)}, nstores={num_stores}')\n",
    "    \n",
    "        df_needed['member'] = [int(s.split('r')[-1].split('i')[0]) for s in df_needed['member_id']]\n",
    "        df_needed = df_needed.sort_values(by=['member'])\n",
    "        #df_needed['zsize'] = [df_needed[df_needed.ds_dir==zs]['file_size'].sum() for zs in df_needed['ds_dir']]\n",
    "        #df_needed = df_needed.sort_values(by=['zsize'])\n",
    "        df_needed.to_csv(f'csv/needed_{search}.csv',index=False)\n",
    "else:\n",
    "    df_needed = pd.read_csv(f'csv/needed_{search}.csv')\n",
    "\n",
    "print('Variables')\n",
    "try:\n",
    "    for var in df_needed.variable_id.unique():\n",
    "        print(var,df_needed[df_needed.variable_id==var].ds_dir.nunique())\n",
    "\n",
    "    print('\\nExperiments')\n",
    "    for exp in df_needed.experiment_id.unique():\n",
    "        print(exp,df_needed[df_needed.experiment_id==exp].ds_dir.nunique())\n",
    "except:\n",
    "    print('no new data available')"
   ]
  },
  {
   "cell_type": "code",
   "execution_count": null,
   "metadata": {},
   "outputs": [],
   "source": [
    "# make available to all modules\n",
    "myconfig.df_needed = df_needed\n",
    "ds_dirs = df_needed.ds_dir.unique()\n",
    "numdsets = len(ds_dirs)"
   ]
  },
  {
   "cell_type": "code",
   "execution_count": null,
   "metadata": {},
   "outputs": [],
   "source": [
    "progress_log  = f'logs/progress_{search}.log'\n",
    "failure_log   = f'logs/failure_{search}.log'\n",
    "success_log   = f'logs/success_{search}.log'\n",
    "logs = {1:progress_log, 2:failure_log, 3:success_log}"
   ]
  },
  {
   "cell_type": "markdown",
   "metadata": {},
   "source": [
    "### ierr:\n",
    "- 0 : proceed with next task\n",
    "- 1 : write to progress_log, go to next dataset (finished or try again)\n",
    "- 2 : write to failure_log,  go to next dataset (mark as un-usable - do not try again until problem is solved) \n",
    "- 3 : write to success_log,  go to next dataset (dataset added to cloud)"
   ]
  },
  {
   "cell_type": "code",
   "execution_count": null,
   "metadata": {},
   "outputs": [],
   "source": [
    "def write_log(file,str,verbose=True):\n",
    "    f = open(file,'a')\n",
    "    if verbose:\n",
    "        print(str)\n",
    "    f.write(f'{str}')\n",
    "    f.close()\n",
    "    return"
   ]
  },
  {
   "cell_type": "code",
   "execution_count": null,
   "metadata": {},
   "outputs": [],
   "source": [
    "# refresh the gcsfs\n",
    "fs.invalidate_cache()\n",
    "date = str(datetime.now().strftime(\"%Y%m%d-%H%M\"))\n",
    "for log in [1,2,3]:   \n",
    "    write_log(logs[log],f'starting at {date} \\n') \n",
    "\n",
    "for item, ds_dir in enumerate(ds_dirs):\n",
    "    #if item > 3:\n",
    "    #    continue\n",
    "    print(f'\\n{item}/{numdsets-1}',ds_dir)\n",
    "\n",
    "    #skip = 'EC-Earth3'\n",
    "    skip = 'none'\n",
    "    if skip in ds_dir:\n",
    "        write_log(progress_log,f'{ds_dir} skipping {skip}') \n",
    "        continue\n",
    "    \n",
    "    #print(ds_dir,dir2local)\n",
    "    (ierr, exc) = Check(ds_dir, dir2local)\n",
    "    if ierr > 0:\n",
    "        write_log(logs[ierr],f'{ds_dir} {exc}'); continue\n",
    "                     \n",
    "    (gfiles, version, ierr, exc) = Download(ds_dir)\n",
    "    if ierr > 0:\n",
    "        write_log(logs[ierr],f'{ds_dir}, {exc}'); continue\n",
    "        \n",
    "    search_row = wks.find(search).row\n",
    "    wks.update_cell(search_row, col_dataset + 1, ds_dir)\n",
    "    \n",
    "    (ds,ierr,exc) = ReadFiles(ds_dir, gfiles, version, dir2dict)\n",
    "    \n",
    "    if ierr > 0:\n",
    "        write_log(logs[ierr],f'{ds_dir}, {exc}'); continue\n",
    "\n",
    "    (version,ierr,exc) = SaveAsZarr(ds_dir, ds, dir2local)\n",
    "    if ierr > 0:\n",
    "        write_log(logs[ierr],f'{ds_dir}, {exc}'); continue\n",
    "        \n",
    "    (zbdir, gsurl, ierr,exc) = Upload(ds_dir, version, dir2local)\n",
    "    if ierr > 0:\n",
    "        write_log(logs[ierr],f'{ds_dir}, {exc}'); continue\n",
    "\n",
    "    (ierr,exc) = Cleanup(ds_dir, version, gfiles, dir2local)\n",
    "    if ierr > 0:\n",
    "        write_log(logs[ierr],f'{ds_dir}, {exc}'); continue\n",
    "\n",
    "    date = datetime.now().strftime('%H:%M, %b%d')\n",
    "    status_str = f'{item+1} of {numdsets} at {date}'\n",
    "    search_row = wks.find(search).row\n",
    "    wks.update_cell(search_row, col_status + 1, status_str)\n",
    "\n",
    "    write_log(success_log,f'{zbdir} saved to {gsurl}'); continue"
   ]
  },
  {
   "cell_type": "code",
   "execution_count": null,
   "metadata": {},
   "outputs": [],
   "source": [
    "#xr.open_zarr(fs.get_mapper(gsurl),consolidated=True)\n",
    "#xr.open_zarr(zbdir,consolidated=True)"
   ]
  },
  {
   "cell_type": "code",
   "execution_count": null,
   "metadata": {},
   "outputs": [],
   "source": []
  }
 ],
 "metadata": {
  "kernelspec": {
   "display_name": "pangeo-fall2020",
   "language": "python",
   "name": "pangeo-fall2020"
  },
  "language_info": {
   "codemirror_mode": {
    "name": "ipython",
    "version": 3
   },
   "file_extension": ".py",
   "mimetype": "text/x-python",
   "name": "python",
   "nbconvert_exporter": "python",
   "pygments_lexer": "ipython3",
   "version": "3.7.8"
  }
 },
 "nbformat": 4,
 "nbformat_minor": 4
}
