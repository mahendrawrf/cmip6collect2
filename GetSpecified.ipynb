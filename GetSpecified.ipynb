{
 "cells": [
  {
   "cell_type": "code",
   "execution_count": 2,
   "metadata": {},
   "outputs": [],
   "source": [
    "import pandas as pd\n",
    "import gcsfs\n",
    "import xarray as xr\n",
    "from datetime import datetime\n",
    "import itertools\n",
    "import importlib\n",
    "\n",
    "import myconfig\n",
    "from mydataset import id2dict_, dir2url_, dir2dict\n",
    "from mytasks import Check, Download, ReadFiles, SaveAsZarr, Upload, Cleanup\n",
    "from mysearch import esgf_search"
   ]
  },
  {
   "cell_type": "code",
   "execution_count": 3,
   "metadata": {},
   "outputs": [
    {
     "name": "stdout",
     "output_type": "stream",
     "text": [
      "zarrs will be written to:  /h112/naomi/zarr-minimal/\n"
     ]
    }
   ],
   "source": [
    "# CONFIGURE ESGF Search here\n",
    "node_pref = myconfig2.node_pref\n",
    "dtype = myconfig.dtype\n",
    "myconfig.local_target_prefix = '/h112/naomi/zarr-minimal/'\n",
    "dir2local = dir2url_(myconfig2.local_target_prefix)\n",
    "\n",
    "ESGF_site = dtype['llnl']\n",
    "#ESGF_site = dtype['dkrz']\n",
    "\n",
    "print('zarrs will be written to: ',myconfig2.local_target_prefix)"
   ]
  },
  {
   "cell_type": "code",
   "execution_count": 4,
   "metadata": {},
   "outputs": [],
   "source": [
    "# CONFIGURE GCS\n",
    "fs     = gcsfs.GCSFileSystem(token='anon', access='read_only',cache_timeout=-1)\n",
    "df_GCS = pd.read_csv('https://cmip6.storage.googleapis.com/cmip6-zarr-consolidated-stores-noQC.csv', dtype='unicode')\n",
    "\n",
    "# make available to all modules (except those)\n",
    "myconfig.fs = fs\n",
    "myconfig.df_GCS = df_GCS"
   ]
  },
  {
   "cell_type": "code",
   "execution_count": 5,
   "metadata": {},
   "outputs": [],
   "source": [
    "core_experiments = [\n",
    "    '1pctCO2', 'abrupt-4xCO2',  'historical', 'piControl' \n",
    "    ,'ssp119', 'ssp126', 'ssp245', 'ssp370', 'ssp434', 'ssp460', 'ssp534-over', 'ssp585'\n",
    "                   ]\n",
    "more_experiments = [\n",
    "     'piControl-spinup', 'amip-hist', 'esm-hist', 'esm-piControl', 'esm-piControl-spinup'\n",
    "    ,'1pctCO2-bgc','lgm', 'past1000', 'amip'\n",
    "                   ]\n",
    "                   \n",
    "core_Amon_2dvars = ['evspsbl', 'hfls', 'pr', 'prc', 'ps', 'psl', 'sfcWind', 'tas', 'ts', 'uas', 'vas','huss','hurs']\n",
    "flux_Amon_2dvars = ['rlds', 'rlus', 'rsds', 'rsus', 'hfds', 'hfls', 'hfss','tauu','tauv']\n",
    "core_Omon_2dvars = ['tos', 'sos', 'zos']\n",
    "flux_Omon_2dvars = ['tauuo', 'tauuo']\n",
    "core_Amon_3dvars = ['ta', 'ua', 'va', 'zg', 'wap', 'hur', 'hus']\n",
    "core_Omon_3dvars = ['masscello', 'so', 'thetao', 'umo', 'uo', 'vmo', 'vo', 'wmo', 'wo']\n",
    "core_Omon_tracers = ['chl', 'chlos', 'dfe', 'dfeos', 'epc100', 'fgco2', 'intpp', 'no3', 'no3os', 'phyc', 'phycos', 'phydiat', 'phydiatos', 'si', 'sios', 'spco2', 'zooc', 'zoocos']"
   ]
  },
  {
   "cell_type": "code",
   "execution_count": 6,
   "metadata": {},
   "outputs": [
    {
     "data": {
      "text/plain": [
       "({'table_id': ['Amon'],\n",
       "  'experiment_id': ['1pctCO2',\n",
       "   'abrupt-4xCO2',\n",
       "   'historical',\n",
       "   'piControl',\n",
       "   'ssp119',\n",
       "   'ssp126',\n",
       "   'ssp245',\n",
       "   'ssp370',\n",
       "   'ssp434',\n",
       "   'ssp460',\n",
       "   'ssp534-over',\n",
       "   'ssp585'],\n",
       "  'variable_id': ['evspsbl',\n",
       "   'hfls',\n",
       "   'pr',\n",
       "   'prc',\n",
       "   'ps',\n",
       "   'psl',\n",
       "   'sfcWind',\n",
       "   'tas',\n",
       "   'ts',\n",
       "   'uas',\n",
       "   'vas',\n",
       "   'huss',\n",
       "   'hurs']},\n",
       " 'Amon-core_experiments-core_2dvars')"
      ]
     },
     "execution_count": 6,
     "metadata": {},
     "output_type": "execute_result"
    }
   ],
   "source": [
    "# Pick keyword values to specify your search here. Not specifying a particular keyword means it will find all.\n",
    "all_search = {\n",
    "     'table_id'      : ['Omon','Amon','AERmon','SImon']\n",
    "    ,'experiment_id' : ['historical','ssp585','ssp370']\n",
    "    ,'variable_id'   : [\"uas\", \"vas\", \"chl\", \"clt\", \"sithick\", \"siconc\", \"sisnthick\", \"sisnconc\",\"tas\",\"toz\"]\n",
    "    #,'member_id'     : ['r1i1p1f1']\n",
    "    #,'source_id'     : ['CESM2-WACCM']\n",
    "}\n",
    "\n",
    "search = 'A2d-1'\n",
    "\n",
    "# define some common searches:\n",
    "if search == 'A2d-1':\n",
    "    all_search = {'table_id': ['Amon'], 'experiment_id': core_experiments, 'variable_id': core_Amon_2dvars}\n",
    "    label = f'Amon-core_experiments-core_2dvars'\n",
    "if search == 'A2d-1f':\n",
    "    all_search = {'table_id': ['Amon'], 'experiment_id': ['historical'], 'variable_id': flux_Amon_2dvars}\n",
    "    label = f'Amon-core_experiments-flux_2dvars'\n",
    "\n",
    "if search == 'O2d-1f':\n",
    "    all_search = {'table_id': ['Omon'], 'experiment_id': core_experiments, 'variable_id': flux_Omon_2dvars}\n",
    "    label = f'Omon-core_experiments-flux_Omon_2dvars'\n",
    "if search == 'O2d-1c':\n",
    "    all_search = {'table_id': ['Omon'], 'experiment_id': core_experiments, 'variable_id': core_Omon_2dvars}\n",
    "    label = f'Omon-core_experiments-core_Omon_2dvars'\n",
    "if search == 'hiba':\n",
    "    all_search = {'table_id': ['day'], 'experiment_id': ['ssp370','ssp126','ssp585','ssp245','historical'], \n",
    "                  'variable_id': ['tas','pr','tasmax','tasmin','vas','uas']}\n",
    "    label = 'hiba'\n",
    "if search == 'trond':\n",
    "    all_search = {'table_id': ['Omon'], 'experiment_id': ['ssp370','ssp585','historical'], \n",
    "                  'variable_id': [\"thetao\",\"o2\"]}\n",
    "    label = 'trond'\n",
    "\n",
    "\n",
    "all_search, label"
   ]
  },
  {
   "cell_type": "code",
   "execution_count": 7,
   "metadata": {},
   "outputs": [
    {
     "data": {
      "text/plain": [
       "(447124, 25459)"
      ]
     },
     "execution_count": 7,
     "metadata": {},
     "output_type": "execute_result"
    }
   ],
   "source": [
    "update_ESGF = False\n",
    "if update_ESGF:\n",
    "    x = [value for key,value in all_search.items()]\n",
    "    searches = [p for p in itertools.product(*x)]\n",
    "\n",
    "    dESGF = []\n",
    "    for s in searches:\n",
    "        search = dict(zip(all_search.keys(),s))\n",
    "        print(search)\n",
    "        df = esgf_search(search, server=ESGF_site)\n",
    "        if len(df)>0:\n",
    "            dESGF += [df]\n",
    "\n",
    "    df_ESGF = pd.concat(dESGF)\n",
    "    df_ESGF.to_csv(f'csv/ESGF_{label}.csv',index=False)\n",
    "else:\n",
    "    df_ESGF = pd.read_csv(f'csv/ESGF_{label}.csv', dtype='unicode')\n",
    "\n",
    "len(df_ESGF), len(df_ESGF.ds_dir.unique())"
   ]
  },
  {
   "cell_type": "code",
   "execution_count": 8,
   "metadata": {},
   "outputs": [
    {
     "name": "stdout",
     "output_type": "stream",
     "text": [
      "needed: nfiles=73855, nstores=2242\n",
      "Variables\n",
      "huss 1036\n",
      "hurs 1180\n",
      "evspsbl 5\n",
      "ps 2\n",
      "tas 1\n",
      "vas 3\n",
      "psl 2\n",
      "ts 1\n",
      "hfls 2\n",
      "prc 3\n",
      "sfcWind 2\n",
      "pr 3\n",
      "uas 2\n",
      "\n",
      "Experiments\n",
      "ssp585 343\n",
      "ssp370 172\n",
      "ssp245 221\n",
      "ssp126 269\n",
      "1pctCO2 68\n",
      "abrupt-4xCO2 59\n",
      "historical 607\n",
      "piControl 51\n",
      "ssp460 52\n",
      "ssp434 144\n",
      "ssp534-over 128\n",
      "ssp119 128\n"
     ]
    }
   ],
   "source": [
    "# make df of all needed\n",
    "NewNeeded = False\n",
    "if NewNeeded:\n",
    "    df = pd.merge(df_ESGF,df_GCS, how='outer', indicator=True)\n",
    "    df_needed = df[df._merge == 'left_only']\n",
    "    \n",
    "    keep_keys = df_ESGF.keys()\n",
    "    all_keys = df.keys()\n",
    "    drop_keys = list(set(all_keys) - set(keep_keys))\n",
    "    df_needed = df_needed.drop(drop_keys,1)\n",
    "\n",
    "    num_stores = 0\n",
    "    if len(df_needed) > 0:\n",
    "        num_stores = df_needed.ds_dir.nunique() \n",
    "        print(f'needed: nfiles={len(df_needed)}, nstores={num_stores}')\n",
    "    else:\n",
    "        print('no new data available')\n",
    "        exit    \n",
    "    \n",
    "    df_needed['member'] = [int(s.split('r')[-1].split('i')[0]) for s in df_needed['member_id']]\n",
    "    df_needed['zsize'] = [df_needed[df_needed.ds_dir==zs]['file_size'].sum() for zs in df_needed['ds_dir']]\n",
    "    df_needed = df_needed.sort_values(by=['zsize'])\n",
    "    \n",
    "    df_needed.to_csv(f'csv/needed_{label}.csv',index=False)\n",
    "else:\n",
    "    df_needed = pd.read_csv(f'csv/needed_{label}.csv')\n",
    "\n",
    "print('Variables')\n",
    "for var in df_needed.variable_id.unique():\n",
    "    print(var,df_needed[df_needed.variable_id==var].ds_dir.nunique())\n",
    "\n",
    "print('\\nExperiments')\n",
    "for exp in df_needed.experiment_id.unique():\n",
    "    print(exp,df_needed[df_needed.experiment_id==exp].ds_dir.nunique())"
   ]
  },
  {
   "cell_type": "code",
   "execution_count": 9,
   "metadata": {},
   "outputs": [],
   "source": [
    "# make available to all modules\n",
    "myconfig.df_needed = df_needed"
   ]
  },
  {
   "cell_type": "code",
   "execution_count": 10,
   "metadata": {},
   "outputs": [],
   "source": [
    "ds_dirs = df_needed.ds_dir.unique()\n",
    "numdsets = len(ds_dirs)"
   ]
  },
  {
   "cell_type": "code",
   "execution_count": 11,
   "metadata": {},
   "outputs": [
    {
     "data": {
      "text/plain": [
       "'logs/success_Amon-core_experiments-core_2dvars.log'"
      ]
     },
     "execution_count": 11,
     "metadata": {},
     "output_type": "execute_result"
    }
   ],
   "source": [
    "progress_log  = f'logs/progress_{label}.log'\n",
    "failure_log  = f'logs/failure_{label}.log'\n",
    "success_log  = f'logs/success_{label}.log'\n",
    "success_log"
   ]
  },
  {
   "cell_type": "code",
   "execution_count": 12,
   "metadata": {},
   "outputs": [],
   "source": [
    "def write_log(file,str,verbose=True):\n",
    "    f = open(file,'a')\n",
    "    if verbose:\n",
    "        print(str)\n",
    "    f.write(f'{str}\\n')\n",
    "    f.close()\n",
    "    return"
   ]
  },
  {
   "cell_type": "code",
   "execution_count": 13,
   "metadata": {},
   "outputs": [
    {
     "name": "stdout",
     "output_type": "stream",
     "text": [
      "\n",
      "1870/2241 CMIP/NASA-GISS/GISS-E2-1-G/historical/r4i1p5f1/Amon/hurs/gn\n",
      "CMIP/NASA-GISS/GISS-E2-1-G/historical/r4i1p5f1/Amon/hurs/gn 3: store already in cloud\n",
      "\n",
      "1871/2241 CMIP/NASA-GISS/GISS-E2-1-G/historical/r6i1p3f1/Amon/hurs/gn\n",
      "CMIP/NASA-GISS/GISS-E2-1-G/historical/r6i1p3f1/Amon/hurs/gn 3: store already in cloud\n",
      "\n",
      "1872/2241 CMIP/NASA-GISS/GISS-E2-1-H/historical/r3i1p1f2/Amon/hurs/gn\n",
      "CMIP/NASA-GISS/GISS-E2-1-H/historical/r3i1p1f2/Amon/hurs/gn 3: store already in cloud\n",
      "\n",
      "1873/2241 CMIP/NASA-GISS/GISS-E2-1-H/historical/r4i1p1f2/Amon/hurs/gn\n",
      "CMIP/NASA-GISS/GISS-E2-1-H/historical/r4i1p1f2/Amon/hurs/gn 3: store already in cloud\n",
      "\n",
      "1874/2241 CMIP/NASA-GISS/GISS-E2-1-H/historical/r5i1p1f2/Amon/hurs/gn\n",
      "CMIP/NASA-GISS/GISS-E2-1-H/historical/r5i1p1f2/Amon/hurs/gn 3: store already in cloud\n",
      "\n",
      "1875/2241 CMIP/NASA-GISS/GISS-E2-1-H/historical/r5i1p3f1/Amon/hurs/gn\n",
      "CMIP/NASA-GISS/GISS-E2-1-H/historical/r5i1p3f1/Amon/hurs/gn 3: store already in cloud\n",
      "\n",
      "1876/2241 CMIP/NASA-GISS/GISS-E2-1-H/historical/r3i1p3f1/Amon/hurs/gn\n",
      "CMIP/NASA-GISS/GISS-E2-1-H/historical/r3i1p3f1/Amon/hurs/gn 3: store already in cloud\n",
      "\n",
      "1877/2241 CMIP/NASA-GISS/GISS-E2-1-G/historical/r3i1p1f3/Amon/huss/gn\n",
      "CMIP/NASA-GISS/GISS-E2-1-G/historical/r3i1p1f3/Amon/huss/gn 3: store already in cloud\n",
      "\n",
      "1878/2241 CMIP/NASA-GISS/GISS-E2-1-G/historical/r4i1p5f1/Amon/huss/gn\n",
      "CMIP/NASA-GISS/GISS-E2-1-G/historical/r4i1p5f1/Amon/huss/gn 3: store already in cloud\n",
      "\n",
      "1879/2241 CMIP/NASA-GISS/GISS-E2-1-G/historical/r1i1p5f1/Amon/huss/gn\n",
      "CMIP/NASA-GISS/GISS-E2-1-G/historical/r1i1p5f1/Amon/huss/gn 3: store already in cloud\n",
      "\n",
      "1880/2241 CMIP/NASA-GISS/GISS-E2-1-G/historical/r10i1p3f1/Amon/huss/gn\n",
      "CMIP/NASA-GISS/GISS-E2-1-G/historical/r10i1p3f1/Amon/huss/gn 3: store already in cloud\n",
      "\n",
      "1881/2241 CMIP/NASA-GISS/GISS-E2-1-G/historical/r2i1p5f1/Amon/huss/gn\n",
      "CMIP/NASA-GISS/GISS-E2-1-G/historical/r2i1p5f1/Amon/huss/gn 3: store already in cloud\n",
      "\n",
      "1882/2241 CMIP/NASA-GISS/GISS-E2-1-G/historical/r5i1p1f3/Amon/huss/gn\n",
      "CMIP/NASA-GISS/GISS-E2-1-G/historical/r5i1p1f3/Amon/huss/gn 3: store already in cloud\n",
      "\n",
      "1883/2241 CMIP/NASA-GISS/GISS-E2-1-G/historical/r3i1p5f1/Amon/huss/gn\n",
      "CMIP/NASA-GISS/GISS-E2-1-G/historical/r3i1p5f1/Amon/huss/gn 3: store already in cloud\n",
      "\n",
      "1884/2241 CMIP/NASA-GISS/GISS-E2-1-G/historical/r2i1p1f3/Amon/huss/gn\n",
      "CMIP/NASA-GISS/GISS-E2-1-G/historical/r2i1p1f3/Amon/huss/gn 3: store already in cloud\n",
      "\n",
      "1885/2241 CMIP/HAMMOZ-Consortium/MPI-ESM-1-2-HAM/abrupt-4xCO2/r1i1p1f1/Amon/huss/gn\n",
      "CMIP/HAMMOZ-Consortium/MPI-ESM-1-2-HAM/abrupt-4xCO2/r1i1p1f1/Amon/huss/gn 3: store already in cloud\n",
      "\n",
      "1886/2241 CMIP/MPI-M/MPI-ESM1-2-LR/abrupt-4xCO2/r1i1p1f1/Amon/huss/gn\n",
      "netcdfs/huss_Amon_MPI-ESM1-2-LR_abrupt-4xCO2_r1i1p1f1_gn_185001-186912.nc\n"
     ]
    },
    {
     "ename": "ValueError",
     "evalue": "too many values to unpack (expected 3)",
     "output_type": "error",
     "traceback": [
      "\u001b[0;31m---------------------------------------------------------------------------\u001b[0m",
      "\u001b[0;31mValueError\u001b[0m                                Traceback (most recent call last)",
      "\u001b[0;32m<ipython-input-13-8949c53bbadc>\u001b[0m in \u001b[0;36m<module>\u001b[0;34m\u001b[0m\n\u001b[1;32m     20\u001b[0m         \u001b[0mwrite_log\u001b[0m\u001b[0;34m(\u001b[0m\u001b[0mprogress_log\u001b[0m\u001b[0;34m,\u001b[0m\u001b[0;34mf'{ds_dir} {ierr}: {exc}'\u001b[0m\u001b[0;34m)\u001b[0m\u001b[0;34m;\u001b[0m \u001b[0;32mcontinue\u001b[0m\u001b[0;34m\u001b[0m\u001b[0;34m\u001b[0m\u001b[0m\n\u001b[1;32m     21\u001b[0m \u001b[0;34m\u001b[0m\u001b[0m\n\u001b[0;32m---> 22\u001b[0;31m     \u001b[0;34m(\u001b[0m\u001b[0mgfiles\u001b[0m\u001b[0;34m,\u001b[0m \u001b[0mierr\u001b[0m\u001b[0;34m,\u001b[0m \u001b[0mexc\u001b[0m\u001b[0;34m)\u001b[0m \u001b[0;34m=\u001b[0m \u001b[0mDownload\u001b[0m\u001b[0;34m(\u001b[0m\u001b[0mds_dir\u001b[0m\u001b[0;34m)\u001b[0m\u001b[0;34m\u001b[0m\u001b[0;34m\u001b[0m\u001b[0m\n\u001b[0m\u001b[1;32m     23\u001b[0m     \u001b[0;32mif\u001b[0m \u001b[0mierr\u001b[0m \u001b[0;34m>\u001b[0m \u001b[0;36m0\u001b[0m\u001b[0;34m:\u001b[0m\u001b[0;34m\u001b[0m\u001b[0;34m\u001b[0m\u001b[0m\n\u001b[1;32m     24\u001b[0m         \u001b[0mwrite_log\u001b[0m\u001b[0;34m(\u001b[0m\u001b[0mfailure_log\u001b[0m\u001b[0;34m,\u001b[0m\u001b[0;34mf'{ds_dir},noUse, {ierr}: {exc}'\u001b[0m\u001b[0;34m)\u001b[0m\u001b[0;34m;\u001b[0m \u001b[0;32mcontinue\u001b[0m\u001b[0;34m\u001b[0m\u001b[0;34m\u001b[0m\u001b[0m\n",
      "\u001b[0;31mValueError\u001b[0m: too many values to unpack (expected 3)"
     ]
    }
   ],
   "source": [
    "# reload the catalog\n",
    "df_GCS = pd.read_csv('https://cmip6.storage.googleapis.com/cmip6-zarr-consolidated-stores-noQC.csv', dtype='unicode')\n",
    "\n",
    "# refresh the gcsfs\n",
    "fs.invalidate_cache()\n",
    "\n",
    "for item, ds_dir in enumerate(ds_dirs):\n",
    "    if item < 1870:\n",
    "        continue\n",
    "    print(f'\\n{item}/{numdsets-1}',ds_dir)\n",
    "    if 'EC-Earth3' in ds_dir:\n",
    "        continue\n",
    "    #if 'IITM-ESM' in ds_dir:\n",
    "    #    continue\n",
    "    #if '/uas' not in ds_dir:\n",
    "    #    continue\n",
    "\n",
    "    (ierr, exc) = Check(ds_dir, dir2local)\n",
    "    if ierr > 0:\n",
    "        write_log(progress_log,f'{ds_dir} {ierr}: {exc}'); continue\n",
    "                    \n",
    "    (gfiles, ierr, exc) = Download(ds_dir)\n",
    "    if ierr > 0:\n",
    "        write_log(failure_log,f'{ds_dir},noUse, {ierr}: {exc}'); continue\n",
    "        \n",
    "    (ds,ierr,exc) = ReadFiles(ds_dir, gfiles, dir2dict)\n",
    "    if ierr > 0:\n",
    "        write_log(failure_log,f'{ds_dir},noUse, {ierr}: {exc}'); continue\n",
    "\n",
    "    (ierr,exc) = SaveAsZarr(ds_dir, ds, dir2local)\n",
    "    if ierr > 0:\n",
    "        write_log(failure_log,f'{ds_dir},noUse, {ierr}: {exc}'); continue\n",
    "        \n",
    "    (ierr,exc) = Upload(ds_dir, dir2local)\n",
    "    if ierr > 0:\n",
    "        write_log(failure_log,f'{ds_dir},noUse, {ierr}: {exc}'); continue\n",
    "\n",
    "    (ierr,exc) = Cleanup(ds_dir, gfiles, dir2local)\n",
    "    if ierr > 0:\n",
    "        write_log(failure_log,f'{ds_dir},noUse, {ierr}: {exc}'); continue\n",
    "\n",
    "    write_log(success_log,f'{dir2local(ds_dir)} saved to GCS'); continue"
   ]
  },
  {
   "cell_type": "code",
   "execution_count": null,
   "metadata": {},
   "outputs": [],
   "source": []
  }
 ],
 "metadata": {
  "kernelspec": {
   "display_name": "pangeo-fall2020",
   "language": "python",
   "name": "pangeo-fall2020"
  },
  "language_info": {
   "codemirror_mode": {
    "name": "ipython",
    "version": 3
   },
   "file_extension": ".py",
   "mimetype": "text/x-python",
   "name": "python",
   "nbconvert_exporter": "python",
   "pygments_lexer": "ipython3",
   "version": "3.7.8"
  }
 },
 "nbformat": 4,
 "nbformat_minor": 4
}
