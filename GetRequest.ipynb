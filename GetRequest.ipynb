{
 "cells": [
  {
   "cell_type": "markdown",
   "metadata": {},
   "source": [
    "# To Handle New Data Requests Automatically\n",
    "- beginning of notebook is assumed to be interactive until the requests have been checked\n",
    "- all progress and exception logging is done only for main loop\n",
    "- copy and paste the e-mail response and send from gcs.cmip6.ldeo@gmail.com account"
   ]
  },
  {
   "cell_type": "code",
   "execution_count": null,
   "metadata": {},
   "outputs": [],
   "source": [
    "import pandas as pd\n",
    "import gcsfs\n",
    "import xarray as xr\n",
    "from datetime import datetime\n",
    "import os\n",
    "import itertools\n",
    "import gspread\n",
    "from oauth2client.service_account import ServiceAccountCredentials"
   ]
  },
  {
   "cell_type": "markdown",
   "metadata": {},
   "source": [
    "### Local modules"
   ]
  },
  {
   "cell_type": "code",
   "execution_count": null,
   "metadata": {},
   "outputs": [],
   "source": [
    "import myconfig\n",
    "from mydataset import dir2url_, dir2dict\n",
    "from mytasks import Check, Download, ReadFiles, SaveAsZarr, Upload, Cleanup\n",
    "from mysearch import esgf_search\n",
    "from myrequest import requests, set_request_id\n",
    "from myresponse import response, get_details, dict_to_dfcat\n",
    "from myidentify import gsurl2search\n",
    "from myutilities import search_df, remove_from_GC_bucket, remove_from_catalogs"
   ]
  },
  {
   "cell_type": "code",
   "execution_count": null,
   "metadata": {},
   "outputs": [],
   "source": [
    "# Directly connect to Search Status Page for updating\n",
    "# Anyone can view: https://docs.google.com/spreadsheets/d/1yAt7604tVt7OXXZUyL2uALtGP2WVa-Pb5NMuTluFsAc/edit?usp=sharing\n",
    "\n",
    "json_keyfile = '/home/naomi/json/CMIP6-d0cb1df722d1.json'\n",
    "scope = ['https://spreadsheets.google.com/feeds','https://www.googleapis.com/auth/drive']\n",
    "credentials = ServiceAccountCredentials.from_json_keyfile_name(json_keyfile, scope)\n",
    "gc = gspread.authorize(credentials)\n",
    "sheet_name = \"CMIP6_UpdateSchedule\"\n",
    "sh = gc.open(sheet_name)\n",
    "wks = sh.worksheet(\"Searches\")\n",
    "\n",
    "# read the first row to get the column labels\n",
    "columns = wks.row_values(3)\n",
    "col_status = columns.index('status')\n",
    "col_run = columns.index('last run')\n",
    "col_drive = columns.index('HD')\n",
    "col_dataset = columns.index('current dataset')\n",
    "col_node = columns.index('search node')"
   ]
  },
  {
   "cell_type": "code",
   "execution_count": null,
   "metadata": {},
   "outputs": [],
   "source": [
    "# CONFIGURE ESGF Search here\n",
    "node_pref = myconfig.node_pref\n",
    "dtype = myconfig.dtype\n",
    "hd = '/h122'\n",
    "myconfig.local_target_prefix = f'{hd}/naomi/zarr-minimal/'\n",
    "dir2local = dir2url_(myconfig.local_target_prefix)\n",
    "\n",
    "find_oldversions = True\n",
    "update_ESGF = True\n",
    "update_Needed = True\n",
    "\n",
    "search_node = 'llnl'\n",
    "ESGF_site = dtype[search_node]\n",
    "#ESGF_site = dtype['dkrz']\n",
    "\n",
    "print('zarrs will be written to: ',myconfig.local_target_prefix)"
   ]
  },
  {
   "cell_type": "code",
   "execution_count": null,
   "metadata": {},
   "outputs": [],
   "source": [
    "# CONFIGURE GCS\n",
    "fs     = gcsfs.GCSFileSystem(token='anon', access='read_only',cache_timeout=-1)\n",
    "df_GCS = pd.read_csv('https://cmip6.storage.googleapis.com/cmip6-zarr-consolidated-stores-noQC.csv', dtype='unicode')\n",
    "\n",
    "# make available to all modules\n",
    "myconfig.fs = fs\n",
    "myconfig.df_GCS = df_GCS"
   ]
  },
  {
   "cell_type": "markdown",
   "metadata": {},
   "source": [
    "### Get new Google Sheet requests\n",
    "- by default, only the new rows from the sheet are considered\n",
    "- specifying a list of rows or emails will add older entries "
   ]
  },
  {
   "cell_type": "code",
   "execution_count": null,
   "metadata": {},
   "outputs": [],
   "source": [
    "df_prior = pd.read_csv('csv/requests.csv', dtype='unicode', encoding='latin1')\n",
    "\n",
    "rows = []   \n",
    "emails = []\n",
    "#rows = [4] #range(0,5) #[0,5,9]\n",
    "#emails = ['c.wang@princeton.edu']\n",
    "\n",
    "df_request_new, dtrouble = requests(df_prior,rows=rows,emails=emails)\n",
    "request_id = set_request_id()\n",
    "\n",
    "# Check for mal-formed requests (non-existent variables, etc)\n",
    "if len(dtrouble)>=1:\n",
    "    print(dtrouble)\n",
    "\n",
    "# print all active requests:\n",
    "display(df_request_new)"
   ]
  },
  {
   "cell_type": "code",
   "execution_count": null,
   "metadata": {},
   "outputs": [],
   "source": [
    "# by index\n",
    "#type = 'input'\n",
    "type = 'last'\n",
    "\n",
    "if type == 'input':\n",
    "    resp = input('index?  (after entering number, click on next cell to advance)')\n",
    "    df_request_new = df_request_new.loc[[int(resp)]]\n",
    "else:\n",
    "    timestamps = df_request_new.Timestamp.unique()\n",
    "    df_request_new = df_request_new[df_request_new.Timestamp == timestamps[-1]]\n",
    "\n",
    "df_request_new"
   ]
  },
  {
   "cell_type": "code",
   "execution_count": null,
   "metadata": {},
   "outputs": [],
   "source": [
    "all_search = {}\n",
    "search_keys = {'table':'table_id','experiments':'experiment_id','variables':'variable_id','models':'source_id','members':'member_id'}\n",
    "\n",
    "for item, row in df_request_new.iterrows():\n",
    "    all_search['table_id'] = [row.table]\n",
    "    request = item\n",
    "    for key in search_keys.keys():\n",
    "        if key == 'table':\n",
    "            continue\n",
    "        klist = row[key]\n",
    "        if not ('All' in klist)|('One' in klist):  # Note, we no longer get just one member_id without specifying which\n",
    "            all_search[search_keys[key]] = klist\n",
    "\n",
    "label = f'request-{request}'\n",
    "\n",
    "try:\n",
    "    search_row = wks.find(label).row\n",
    "    print(search_row)\n",
    "except:\n",
    "    print('need another row in Google Form')\n",
    "    wks.append_row([label])\n",
    "    search_row = wks.find(label).row\n",
    "    \n",
    "date = datetime.now().strftime('%Y-%m-%d')\n",
    "wks.update_cell(search_row, col_run + 1, date)\n",
    "wks.update_cell(search_row, col_drive + 1, hd)\n",
    "wks.update_cell(search_row, col_node + 1, search_node)\n",
    "\n",
    "col_activity   = columns.index('activity_id')\n",
    "col_table      = columns.index('table_id')\n",
    "col_experiment = columns.index('experiment_id')\n",
    "col_variable   = columns.index('variable_id')\n",
    "\n",
    "for key in all_search.keys():\n",
    "    vals = all_search[key]\n",
    "    if key in columns:\n",
    "        col = columns.index(key)\n",
    "        if len(vals) == 1:\n",
    "            wks.update_cell(search_row, col + 1, f'{vals[0]}')\n",
    "        else:\n",
    "            wks.update_cell(search_row, col + 1, f'{vals}')            \n",
    "        \n",
    "label, all_search"
   ]
  },
  {
   "cell_type": "code",
   "execution_count": null,
   "metadata": {},
   "outputs": [],
   "source": [
    "df_GCS_matching = search_df(df_GCS,**all_search)\n",
    "if find_oldversions:\n",
    "    dflcat = df_GCS.copy()\n",
    "        \n",
    "    gsurls = df_GCS_matching.zstore.unique()\n",
    "    print(len(gsurls))\n",
    "    num_removed = 0\n",
    "    for item, gsurl in enumerate(gsurls):\n",
    "        version_cat = df_GCS[df_GCS.zstore == gsurl].version.values[0] \n",
    "        bsearch = gsurl2search(gsurl)\n",
    "        dfs = esgf_search(bsearch, server=ESGF_site, toFilter = False)\n",
    "        try:\n",
    "            version_ESGF = sorted(list(set(dfs.version_id)))[-1][1:]\n",
    "        except:\n",
    "            print(f'no version currently exists at {search_node} for {item}:{gsurl}')\n",
    "            version_ESGF = 0\n",
    "        if int(version_cat) < int(version_ESGF):\n",
    "            print(f'newer version available for {item}:{gsurl}')\n",
    "            print(version_cat,version_ESGF)\n",
    "            remove_from_GC_bucket(gsurl,execute=True)\n",
    "            dflcat = dflcat[dflcat['zstore'] != gsurl] \n",
    "            num_removed += 1\n",
    "            \n",
    "    df_GCS = dflcat\n",
    "    myconfig.df_GCS = dflcat\n",
    "    print('number of GC datasets removed = ',num_removed)"
   ]
  },
  {
   "cell_type": "code",
   "execution_count": null,
   "metadata": {},
   "outputs": [],
   "source": [
    "if update_ESGF:\n",
    "    x = [value for key,value in all_search.items()]\n",
    "    searches = [p for p in itertools.product(*x)]\n",
    "\n",
    "    dESGF = []\n",
    "    for s in searches:\n",
    "        search = dict(zip(all_search.keys(),s))\n",
    "        print(search)\n",
    "        df = esgf_search(search, server=ESGF_site)\n",
    "        if len(df)>0:\n",
    "            dESGF += [df]\n",
    "\n",
    "    df_ESGF = pd.concat(dESGF)\n",
    "    df_ESGF.to_csv(f'csv/ESGF_{label}.csv',index=False)\n",
    "else:\n",
    "    df_ESGF = pd.read_csv(f'csv/ESGF_{label}.csv', dtype='unicode')\n",
    "\n",
    "len(df_ESGF), len(df_ESGF.ds_dir.unique())"
   ]
  },
  {
   "cell_type": "code",
   "execution_count": null,
   "metadata": {},
   "outputs": [],
   "source": [
    "# make df of all in df_ESGF which are not yet in df_GCS\n",
    "if update_Needed:\n",
    "    df = pd.merge(df_ESGF,df_GCS, how='outer', indicator=True)\n",
    "    df_needed = df[df._merge == 'left_only']\n",
    "    \n",
    "    keep_keys = df_ESGF.keys()\n",
    "    all_keys = df.keys()\n",
    "    drop_keys = list(set(all_keys) - set(keep_keys))\n",
    "    df_needed = df_needed.drop(drop_keys,1)\n",
    "\n",
    "    num_stores = 0\n",
    "    if len(df_needed) > 0:\n",
    "        num_stores = df_needed.ds_dir.nunique() \n",
    "        print(f'needed: nfiles={len(df_needed)}, nstores={num_stores}')\n",
    "    else:\n",
    "        print('no new data available')\n",
    "        exit    \n",
    "    \n",
    "    df_needed['member'] = [int(s.split('r')[-1].split('i')[0]) for s in df_needed['member_id']]\n",
    "    df_needed = df_needed.sort_values(by=['member'])\n",
    "    #df_needed['zsize'] = [df_needed[df_needed.ds_dir==zs]['file_size'].sum() for zs in df_needed['ds_dir']]\n",
    "    #df_needed = df_needed.sort_values(by=['zsize'])\n",
    "    \n",
    "    df_needed.to_csv(f'csv/needed_{label}.csv',index=False)\n",
    "else:\n",
    "    df_needed = pd.read_csv(f'csv/needed_{label}.csv')\n",
    "\n",
    "print('Variables')\n",
    "for var in df_needed.variable_id.unique():\n",
    "    print(var,df_needed[df_needed.variable_id==var].ds_dir.nunique())\n",
    "\n",
    "print('\\nExperiments')\n",
    "for exp in df_needed.experiment_id.unique():\n",
    "    print(exp,df_needed[df_needed.experiment_id==exp].ds_dir.nunique())"
   ]
  },
  {
   "cell_type": "code",
   "execution_count": null,
   "metadata": {},
   "outputs": [],
   "source": [
    "# make available to all modules\n",
    "myconfig.df_needed = df_needed"
   ]
  },
  {
   "cell_type": "code",
   "execution_count": null,
   "metadata": {},
   "outputs": [],
   "source": [
    "ds_dirs = df_needed.ds_dir.unique()\n",
    "numdsets = len(ds_dirs)"
   ]
  },
  {
   "cell_type": "code",
   "execution_count": null,
   "metadata": {},
   "outputs": [],
   "source": [
    "progress_log  = f'logs/progress_{label}.log'\n",
    "failure_log  = f'logs/failure_{label}.log'\n",
    "success_log  = f'logs/success_{label}.log'\n",
    "logs = {1:progress_log, 2:failure_log, 3:success_log}"
   ]
  },
  {
   "cell_type": "code",
   "execution_count": null,
   "metadata": {},
   "outputs": [],
   "source": [
    "def write_log(file,str,verbose=True):\n",
    "    f = open(file,'a')\n",
    "    if verbose:\n",
    "        print(str)\n",
    "    f.write(f'{str}\\n')\n",
    "    f.close()\n",
    "    return"
   ]
  },
  {
   "cell_type": "code",
   "execution_count": null,
   "metadata": {},
   "outputs": [],
   "source": [
    "# reload the catalog\n",
    "#df_GCS = pd.read_csv('https://cmip6.storage.googleapis.com/cmip6-zarr-consolidated-stores-noQC.csv', dtype='unicode')\n",
    "#myconfig.df_GCS = df_GCS\n",
    "\n",
    "# refresh the gcsfs\n",
    "fs.invalidate_cache()\n",
    "date = str(datetime.now().strftime(\"%Y%m%d-%H%M\"))\n",
    "for log in [1,2,3]:   \n",
    "    write_log(logs[log],f'starting at {date} \\n') \n",
    "zdict = {}\n",
    "\n",
    "for item, ds_dir in enumerate(ds_dirs):\n",
    "    #if item > 0:\n",
    "    #    continue\n",
    "\n",
    "    print(f'\\n{item}/{numdsets-1}',ds_dir)\n",
    "\n",
    "    skip = 'none'\n",
    "    if skip in ds_dir:\n",
    "        write_log(progress_log,f'{ds_dir} skipping {skip}') \n",
    "        continue\n",
    "        \n",
    "    (ierr, exc) = Check(ds_dir, dir2local)\n",
    "    if ierr > 0:\n",
    "        write_log(logs[ierr],f'{ds_dir} {exc}'); continue\n",
    "                     \n",
    "    (gfiles, ierr, exc) = Download(ds_dir)\n",
    "    if ierr > 0:\n",
    "        write_log(logs[ierr],f'{ds_dir}, {exc}'); continue\n",
    "        \n",
    "    search_row = wks.find(label).row\n",
    "    wks.update_cell(search_row, col_dataset + 1, ds_dir)\n",
    "\n",
    "    (ds,ierr,exc) = ReadFiles(ds_dir, gfiles, dir2dict)\n",
    "    if ierr > 0:\n",
    "        write_log(logs[ierr],f'{ds_dir}, {exc}'); continue\n",
    "\n",
    "    (ierr,exc) = SaveAsZarr(ds_dir, ds, dir2local)\n",
    "    if ierr > 0:\n",
    "        write_log(logs[ierr],f'{ds_dir}, {exc}'); continue\n",
    "        \n",
    "    (ierr,exc) = Upload(ds_dir, dir2local)\n",
    "    if ierr > 0:\n",
    "        write_log(logs[ierr],f'{ds_dir}, {exc}'); continue\n",
    "\n",
    "    (ierr,exc) = Cleanup(ds_dir, gfiles, dir2local)\n",
    "    if ierr > 0:\n",
    "        write_log(logs[ierr],f'{ds_dir}, {exc}'); continue\n",
    "\n",
    "    vlist = get_details(ds_dir, ds, dir2local)\n",
    "    zdict[item] = vlist\n",
    "    \n",
    "    date = datetime.now().strftime('%H:%M, %b%d')\n",
    "    status_str = f'{item+1} of {numdsets} at {date}'\n",
    "    search_row = wks.find(label).row\n",
    "    wks.update_cell(search_row, col_status + 1, status_str)\n",
    "\n",
    "    write_log(success_log,f'{dir2local(ds_dir)} saved to GCS')"
   ]
  },
  {
   "cell_type": "code",
   "execution_count": null,
   "metadata": {},
   "outputs": [],
   "source": [
    "assert False"
   ]
  },
  {
   "cell_type": "markdown",
   "metadata": {},
   "source": [
    "### Make a table of acquired data to send in email to requestor"
   ]
  },
  {
   "cell_type": "code",
   "execution_count": null,
   "metadata": {},
   "outputs": [],
   "source": [
    "if len(zdict) == 0 :\n",
    "    print('nothing else to do')\n",
    "    exit\n",
    "else:\n",
    "    dz = dict_to_dfcat(zdict)"
   ]
  },
  {
   "cell_type": "code",
   "execution_count": null,
   "metadata": {},
   "outputs": [],
   "source": [
    "dz.zstore.values"
   ]
  },
  {
   "cell_type": "code",
   "execution_count": null,
   "metadata": {},
   "outputs": [],
   "source": [
    "try:\n",
    "    df_master_new = pd.concat([df_GCS, dz],sort=True)\n",
    "except:\n",
    "    df_master_new = df_GCS"
   ]
  },
  {
   "cell_type": "code",
   "execution_count": null,
   "metadata": {},
   "outputs": [],
   "source": [
    "ldict = []\n",
    "names = \"\"\n",
    "print('Re: CMIP6 GCS Data Request (Responses)')\n",
    "for row in df_request_new.values:\n",
    "    rdict = dict(zip(df_request_new.keys(),row))\n",
    "    #print(rdict)\n",
    "    name = rdict['requester']\n",
    "    timestamp = rdict['Timestamp']\n",
    "    names += name\n",
    "    del rdict['response status']\n",
    "    ldict += [rdict]\n",
    "    dfr = df_request_new[df_request_new.Timestamp == timestamp]\n",
    "    \n",
    "    print('Dear',name+':')\n",
    "    print('\\n  Here are the results from your recent CMIP6 data request(s).  The master catalog, https://cmip6.storage.googleapis.com/cmip6-zarr-consolidated-stores.csv, will be updated with the nightly build.')\n",
    "    #if len(dtrouble)>=1:\n",
    "    #    print('\\n '+dtrouble)\n",
    "    print('\\n  Please note: ')\n",
    "    print('      - Data for some models (e.g., CAS/FGOALS-f3-L and NUIST/NESM3) must be obtained directly from servers which are too slow or unresponsive. ')\n",
    "    print('      - We exclude data with known errors (as reported at ES-DOC) from the official listing at https://errata.es-doc.org/ .')\n",
    "    print('        However, data labelled status=resolved or severity=low are included in the master catalog.')\n",
    "    \n",
    "\n",
    "    print('      - Some data we have not been able to clean up enough to get it concatenated and save to zarr. Other datasets are only available for disjointed time periods.')\n",
    "    print('\\n  See the sample Jupyter Notebook at https://gist.github.com/naomi-henderson/ed1801d8ee8b992dda252f8b126876a5 for a quick introduction to accessing the data.')\n",
    "    print('  For general xarray help, see https://xarray-contrib.github.io/xarray-tutorial/')\n",
    "    print('\\nFrom the folks at:\\n  The Climate Data Science Lab\\n  Division of Ocean and Climate Physics\\n  LDEO/Columbia University')\n",
    "    print('\\n--------------------------')\n",
    "\n",
    "    print('\\nrequest:')\n",
    "    display(rdict)\n",
    "\n",
    "    print('\\nresponse:')\n",
    "    try:\n",
    "        print('old stores deleted:\\n',num_removed,'\\n')\n",
    "        print('new stores added:\\n',len(dz),'\\n')\n",
    "    except:\n",
    "        print(f'no new data available at ESGF API search node {ESGF_site}')\n",
    "\n",
    "    #print('\\n',dfr,len(df_master_new))\n",
    "    table = response(dfr,df_master_new)\n",
    "\n",
    "    print(\"\\navailable data:\\n  this includes your new stores but does not include datasets marked 'onhold', 'wontfix' or 'new' in the ES-DOC ERRATA\")\n",
    "    display(table)\n",
    "    print('\\n\\n')"
   ]
  },
  {
   "cell_type": "code",
   "execution_count": null,
   "metadata": {},
   "outputs": [],
   "source": [
    "assert False"
   ]
  },
  {
   "cell_type": "code",
   "execution_count": null,
   "metadata": {},
   "outputs": [],
   "source": [
    "! mv csv/request_new.csv csv/requests.csv"
   ]
  }
 ],
 "metadata": {
  "kernelspec": {
   "display_name": "pangeo-fall2020",
   "language": "python",
   "name": "pangeo-fall2020"
  },
  "language_info": {
   "codemirror_mode": {
    "name": "ipython",
    "version": 3
   },
   "file_extension": ".py",
   "mimetype": "text/x-python",
   "name": "python",
   "nbconvert_exporter": "python",
   "pygments_lexer": "ipython3",
   "version": "3.7.8"
  }
 },
 "nbformat": 4,
 "nbformat_minor": 4
}
